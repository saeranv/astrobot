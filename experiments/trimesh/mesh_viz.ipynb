{
 "cells": [
  {
   "cell_type": "code",
   "execution_count": 1,
   "metadata": {},
   "outputs": [
    {
     "name": "stderr",
     "output_type": "stream",
     "text": [
      "** fvcore version of PathManager will be deprecated soon. **\n",
      "** Please migrate to the version in iopath repo. **\n",
      "https://github.com/facebookresearch/iopath \n",
      "\n"
     ]
    }
   ],
   "source": [
    "%load_ext autoreload\n",
    "%autoreload 2\n",
    "%config Completer.use_jedi = False\n",
    "\n",
    "import os \n",
    "import sys \n",
    "import json\n",
    "\n",
    "home = os.path.abspath(os.path.join(os.getcwd(), '..', '..', '..'))\n",
    "pths = [os.path.join(home, 'astrobot')]\n",
    "\n",
    "for pth in pths: \n",
    "    if pth not in sys.path: sys.path.insert(0, pth)\n",
    "\n",
    "from astrobot.util import *\n",
    "from astrobot.geomdataframe import GeomDataFrame \n",
    "from astrobot.r import R\n",
    "from astrobot.mshmtx import MshMtx\n",
    "from astrobot import bem_util, geom_util, mtx_util\n",
    "from astrobot import viz4 as viz\n",
    "\n",
    "import numpy as np \n",
    "import matplotlib.pyplot as plt\n",
    "from geopandas import gpd\n",
    "import pandas as pd\n",
    "import scipy.stats as stats\n",
    "\n",
    "import torch\n",
    "os.environ[\"CUB_HOME\"] = os.getcwd() + \"/cub-1.10.0\""
   ]
  },
  {
   "cell_type": "code",
   "execution_count": 113,
   "metadata": {},
   "outputs": [],
   "source": [
    "# Viz mesh with pytorch3d and trimesh\n",
    "\n",
    "# polygon in xz plane, normal at +1\n",
    "poly = np.array(\n",
    "    [[-6.,  6.,  5., -6.],\n",
    "     [-0., -0.,  0.,  0.],\n",
    "     [-3., -3.,  15.,  3.]])\n",
    "\n",
    "poly2 = np.array(\n",
    "    [[-6.,  6.,  -4., -6.],\n",
    "     [ 10.,  10.,   10.,  10.],\n",
    "     [-3., -3.,  15.,  3.]])\n",
    "\n",
    "\n",
    "polys = [MshMtx(poly), MshMtx(poly2)]\n",
    "poly_meshes = [m._mesh3 for m in polys]\n",
    "#poly._mesh_res = \"\"\n",
    "\n",
    "#gdf = gpd.GeoDataFrame({'geometry': viz.trimesh_to_polysh(poly._mesh2)})\n",
    "#gdf.plot(edgecolor='black', facecolor='lightblue')"
   ]
  },
  {
   "cell_type": "code",
   "execution_count": 115,
   "metadata": {},
   "outputs": [
    {
     "data": {
      "image/png": "[encoded data removed]",
      "text/plain": [
       "<Figure size 216x216 with 1 Axes>"
      ]
     },
     "metadata": {
      "needs_background": "light"
     },
     "output_type": "display_data"
    }
   ],
   "source": [
    "pytmeshes = geom_util.trimeshes_to_pytmeshes(poly_meshes, textures=None, device=None)\n",
    "images = viz.camera_(pytmeshes, \n",
    "    dist=80, elev=25, azim=25,\n",
    "    cam_pt=(0, 10, 0), light_pt=(0, 0, 10))\n",
    "\n",
    "fig, ax = plt.subplots(1, figsize=(3, 3))\n",
    "ax.imshow(images[0, ..., :3].cpu().numpy())\n",
    "#ax.imshow(images[1, ..., :3].cpu().numpy())\n",
    "plt.grid(False)"
   ]
  },
  {
   "cell_type": "code",
   "execution_count": null,
   "metadata": {},
   "outputs": [],
   "source": [
    "\n"
   ]
  },
  {
   "cell_type": "code",
   "execution_count": null,
   "metadata": {},
   "outputs": [],
   "source": []
  }
 ],
 "metadata": {
  "kernelspec": {
   "display_name": "Python 3",
   "language": "python",
   "name": "python3"
  },
  "language_info": {
   "codemirror_mode": {
    "name": "ipython",
    "version": 3
   },
   "file_extension": ".py",
   "mimetype": "text/x-python",
   "name": "python",
   "nbconvert_exporter": "python",
   "pygments_lexer": "ipython3",
   "version": "3.7.7"
  }
 },
 "nbformat": 4,
 "nbformat_minor": 4
}
