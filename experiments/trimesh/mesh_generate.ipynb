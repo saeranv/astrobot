{
 "cells": [
  {
   "cell_type": "code",
   "execution_count": 9,
   "metadata": {},
   "outputs": [
    {
     "name": "stdout",
     "output_type": "stream",
     "text": [
      "The autoreload extension is already loaded. To reload it, use:\n",
      "  %reload_ext autoreload\n"
     ]
    }
   ],
   "source": [
    "%load_ext autoreload\n",
    "%autoreload 2\n",
    "\n",
    "import os \n",
    "import sys \n",
    "import json\n",
    "\n",
    "home = os.path.abspath(os.path.join(os.getcwd(), '..', '..', '..'))\n",
    "pths = [os.path.join(home, 'astrobot')]\n",
    "\n",
    "for pth in pths: \n",
    "    if pth not in sys.path: sys.path.insert(0, pth)\n",
    "        \n",
    "from astrobot.util import *\n",
    "from astrobot.geomdataframe import GeomDataFrame \n",
    "from astrobot.r import R\n",
    "from astrobot import bem_util\n",
    "from astrobot import geom_util\n",
    "from astrobot import mtx_util\n",
    "from astrobot import viz4 as viz\n",
    "\n",
    "import numpy as np \n",
    "import matplotlib.pyplot as plt\n",
    "import pandas as pd\n",
    "import scipy.stats as stats\n",
    "import itertools\n",
    "\n",
    "import ladybug_geometry.geometry3d as geom3\n",
    "import ladybug_geometry.geometry2d as geom2\n",
    "from ladybug_geometry_polyskel import polyskel\n",
    "\n",
    "import numpy as np\n",
    "import trimesh\n",
    "from shapely.geometry import Polygon\n",
    "import matplotlib.pyplot as plt \n",
    "import geopandas as gpd"
   ]
  },
  {
   "cell_type": "code",
   "execution_count": 10,
   "metadata": {},
   "outputs": [
    {
     "ename": "NameError",
     "evalue": "name 'geom_utils' is not defined",
     "output_type": "error",
     "traceback": [
      "\u001b[0;31m---------------------------------------------------------------------------\u001b[0m",
      "\u001b[0;31mNameError\u001b[0m                                 Traceback (most recent call last)",
      "\u001b[0;32m<ipython-input-10-c7fe4121437b>\u001b[0m in \u001b[0;36m<module>\u001b[0;34m\u001b[0m\n\u001b[1;32m      7\u001b[0m \u001b[0mpoly\u001b[0m \u001b[0;34m=\u001b[0m \u001b[0mPolygon\u001b[0m\u001b[0;34m(\u001b[0m\u001b[0m_poly\u001b[0m\u001b[0;34m[\u001b[0m\u001b[0;34m:\u001b[0m\u001b[0;34m,\u001b[0m\u001b[0;34m:\u001b[0m\u001b[0;36m2\u001b[0m\u001b[0;34m]\u001b[0m\u001b[0;34m)\u001b[0m\u001b[0;34m\u001b[0m\u001b[0;34m\u001b[0m\u001b[0m\n\u001b[1;32m      8\u001b[0m \u001b[0;34m\u001b[0m\u001b[0m\n\u001b[0;32m----> 9\u001b[0;31m \u001b[0mmesh\u001b[0m \u001b[0;34m=\u001b[0m \u001b[0mgeom_utils\u001b[0m\u001b[0;34m.\u001b[0m\u001b[0mtriangulate\u001b[0m\u001b[0;34m(\u001b[0m\u001b[0mpoly\u001b[0m\u001b[0;34m,\u001b[0m \u001b[0;34m'a0.5'\u001b[0m\u001b[0;34m)\u001b[0m\u001b[0;34m\u001b[0m\u001b[0;34m\u001b[0m\u001b[0m\n\u001b[0m\u001b[1;32m     10\u001b[0m \u001b[0mgdf\u001b[0m \u001b[0;34m=\u001b[0m \u001b[0mgpd\u001b[0m\u001b[0;34m.\u001b[0m\u001b[0mGeoDataFrame\u001b[0m\u001b[0;34m(\u001b[0m\u001b[0;34m{\u001b[0m\u001b[0;34m'geometry'\u001b[0m\u001b[0;34m:\u001b[0m \u001b[0mviz\u001b[0m\u001b[0;34m.\u001b[0m\u001b[0mmesh_geoms\u001b[0m\u001b[0;34m(\u001b[0m\u001b[0mmesh\u001b[0m\u001b[0;34m)\u001b[0m\u001b[0;34m}\u001b[0m\u001b[0;34m)\u001b[0m\u001b[0;34m\u001b[0m\u001b[0;34m\u001b[0m\u001b[0m\n\u001b[1;32m     11\u001b[0m \u001b[0mgdf\u001b[0m\u001b[0;34m.\u001b[0m\u001b[0mplot\u001b[0m\u001b[0;34m(\u001b[0m\u001b[0medgecolor\u001b[0m\u001b[0;34m=\u001b[0m\u001b[0;34m'black'\u001b[0m\u001b[0;34m,\u001b[0m \u001b[0mfacecolor\u001b[0m\u001b[0;34m=\u001b[0m\u001b[0;34m'lightblue'\u001b[0m\u001b[0;34m)\u001b[0m\u001b[0;34m\u001b[0m\u001b[0;34m\u001b[0m\u001b[0m\n",
      "\u001b[0;31mNameError\u001b[0m: name 'geom_utils' is not defined"
     ]
    }
   ],
   "source": [
    "_poly = np.array(\n",
    "    [[-6., -3.,  0.],\n",
    "     [ 6., -3.,  0.],\n",
    "     [ 0.,  5.,  0.],\n",
    "     [-6.,  3.,  0.]])\n",
    "\n",
    "poly = Polygon(_poly[:,:2])\n",
    "\n",
    "mesh = geom_utils.triangulate(poly, 'a0.5')\n",
    "gdf = gpd.GeoDataFrame({'geometry': viz.mesh_geoms(mesh)})\n",
    "gdf.plot(edgecolor='black', facecolor='lightblue')"
   ]
  },
  {
   "cell_type": "code",
   "execution_count": null,
   "metadata": {},
   "outputs": [],
   "source": [
    "# # 2D mesh w/ Ladybug\n",
    "# # doesn't work for non-orth geoms?\n",
    "# poly = geom2.polygon.Polygon2D([geom2.pointvector.Point2D(*p[:2]) for p in _poly])\n",
    "# mesh = geom2.mesh.Mesh2D.from_polygon_grid(poly, 1, 1, generate_centroids=False)\n",
    "# faces = [np.array([[v for v in mesh.vertices[i]] for i in face]) for face in mesh.faces]\n",
    "# quads = [Polygon(tri) for tri in faces]\n",
    "\n",
    "# # can also enforce with segments, or just cross edges of quad (ear_clip), or just subdivide and clean w/ pytorch\n",
    "# tris = [triangulate(quad, 'a0.4') for quad in quads]\n",
    "# tris = [b for a in tris for b in a]\n",
    "\n",
    "# gdf = gpd.GeoDataFrame({'geometry': tris})\n",
    "# gdf.plot(edgecolor='black', facecolor='lightblue')"
   ]
  },
  {
   "cell_type": "code",
   "execution_count": 60,
   "metadata": {},
   "outputs": [
    {
     "name": "stdout",
     "output_type": "stream",
     "text": [
      "array([[-6.,  6.,  6., -6.],\n",
      "       [-3., -3.,  3.,  3.],\n",
      "       [ 0.,  0.,  0.,  0.]])\n"
     ]
    },
    {
     "data": {
      "text/plain": [
       "array([[-6.,  6.,  6., -6.],\n",
       "       [ 0.,  0.,  0.,  0.],\n",
       "       [-3., -3.,  3.,  3.]])"
      ]
     },
     "execution_count": 60,
     "metadata": {},
     "output_type": "execute_result"
    }
   ],
   "source": [
    "# polygon in xz plane, normal at +1\n",
    "poly = np.array(\n",
    "    [[-6.,  6.,  6., -6.],\n",
    "     [-0., -0.,  0.,  0.],\n",
    "     [-3., -3.,  3.,  3.]])\n",
    "\n",
    "def pntmtx_to_basis2d(pntmtx)\n",
    "    \"\"\"Change from standard basis to basis of arbitrarily oriented surface.\"\"\"\n",
    "    \n",
    "    # calculate change of basis matrix\n",
    "    vecmtx = mtx_util.vecmtx(pntmtx)\n",
    "    basis = mtx_util.ortho_basis_mtx(vecmtx)\n",
    "    inv_basis = mtx_util.inv_ortho_basis_mtx(basis)\n",
    "    \n",
    "    \n",
    "# project to 2D\n",
    "poly2d = np.matmul(inv_basis, poly)\n",
    "pp(poly2d)\n",
    "\n",
    "np.matmul(basis, poly2d)  # and back\n"
   ]
  },
  {
   "cell_type": "code",
   "execution_count": 5,
   "metadata": {
    "jupyter": {
     "source_hidden": true
    }
   },
   "outputs": [
    {
     "name": "stdout",
     "output_type": "stream",
     "text": [
      "array([[-6., -0., -3.],\n",
      "       [ 6., -0., -3.],\n",
      "       [ 6.,  0.,  3.],\n",
      "       [-6.,  0.,  3.]])\n",
      "Fb\n",
      " [[-6. -3.  0.]\n",
      " [ 6. -3.  0.]\n",
      " [ 6.  3. -0.]\n",
      " [-6.  3. -0.]]\n"
     ]
    },
    {
     "data": {
      "text/plain": [
       "array([[-6., -0., -3.],\n",
       "       [ 6., -0., -3.],\n",
       "       [ 6.,  0.,  3.],\n",
       "       [-6.,  0.,  3.]])"
      ]
     },
     "execution_count": 5,
     "metadata": {},
     "output_type": "execute_result"
    }
   ],
   "source": [
    "# C * ab = a // Ab = a wrt b coords\n",
    "# C-1 * C * ab = C-1 * a\n",
    "# ab = C-1 * a\n",
    "\n",
    "Binv = np.linalg.pinv(B)\n",
    "pp(F.round(2))\n",
    "\n",
    "F3 = np.matmul(Binv, F.T).T.round(2)\n",
    "print('Fb\\n', F3.round(2))\n",
    "np.matmul(B, F3.T).T.round(2)"
   ]
  }
 ],
 "metadata": {
  "kernelspec": {
   "display_name": "Python 3",
   "language": "python",
   "name": "python3"
  },
  "language_info": {
   "codemirror_mode": {
    "name": "ipython",
    "version": 3
   },
   "file_extension": ".py",
   "mimetype": "text/x-python",
   "name": "python",
   "nbconvert_exporter": "python",
   "pygments_lexer": "ipython3",
   "version": "3.7.7"
  }
 },
 "nbformat": 4,
 "nbformat_minor": 4
}
