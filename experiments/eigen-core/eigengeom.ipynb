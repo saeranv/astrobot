{
 "cells": [
  {
   "cell_type": "code",
   "execution_count": 3,
   "metadata": {},
   "outputs": [],
   "source": [
    "%load_ext autoreload\n",
    "%autoreload 2\n",
    "%config Completer.use_jedi = False\n",
    "\n",
    "import os\n",
    "import sys\n",
    "from pprint import pprint as pp\n",
    "\n",
    "import numpy as np\n",
    "import pandas as pd \n",
    "import matplotlib.pyplot as plt"
   ]
  },
  {
   "cell_type": "code",
   "execution_count": 54,
   "metadata": {},
   "outputs": [
    {
     "data": {
      "text/plain": [
       "1.0"
      ]
     },
     "execution_count": 54,
     "metadata": {},
     "output_type": "execute_result"
    }
   ],
   "source": [
    "\"\"\"Core geometry module for eigenbot, using signed distance function and probability graph.\"\"\"\n",
    "\n",
    "## EIGENGEOM-GTD \n",
    "# Obj: efficient shape PDFs from SDFs\n",
    "#- SDF dataclass \n",
    "#- SDF - circle\n",
    "#- SDF - box \n",
    "#- PDF dataclass\n",
    "#- P(S) for circle, box\n",
    "#- P(A) for circle, box\n",
    "\n",
    "from dataclasses import dataclass\n",
    "from typing import Union, Callable\n",
    "import numpy.typing as npt\n",
    "from numpy import typing as npt, linalg as LA   \n",
    "import functools as ft \n",
    "\n",
    "dtype_vecnum = Union[npt.NDArray, float]\n",
    "npa = lambda *args: np.array([*args])\n",
    "\n",
    "@dataclass(init=True, repr=True, eq=True, order=False, frozen=True, \n",
    "           unsafe_hash=False)\n",
    "class SDF:\n",
    "    \"\"\"Signed distance function (SDF) dataclass.\"\"\"\n",
    "    \n",
    "    _sdf: Callable\n",
    "    cx: dtype_vecnum\n",
    "    cy: dtype_vecnum\n",
    "    area: dtype_vecnum\n",
    "    perim: dtype_vecnum\n",
    "    \n",
    "    def sdf(self, t, r):\n",
    "        # If cross with unit-x is > 0 then convex, else concave. \n",
    "        _cpt_r = LA.norm(npa(self.cx, self.cy))  # length of cpt vector\n",
    "        _cpt_cross2 = ((self.cx * 0.0) - (1.0 * self.cy)) / _cpt_r\n",
    "        _is_convex = np.max(-_cpt_cross2, 0)\n",
    "        # To handle convex angles, add rest of angle\n",
    "        cpt_t = np.arccos(self.cx) \n",
    "        cpt_t = max(_is_convex * ((2 * np.pi) - cpt_t), cpt_t)\n",
    "        return self._sdf(t, r) \n",
    "    \n",
    "def sdf_circle(\n",
    "    cx: dtype_vecnum, \n",
    "    cy: dtype_vecnum,\n",
    "    rad: dtype_vecnum,\n",
    "    ) -> Callable:\n",
    "    \"\"\"Returns SDF for circle given center (cx, cy), and rad radius.\n",
    "    \n",
    "    Derivation of SDF:\n",
    "    .. math:: \n",
    "    \n",
    "        \\begin{align*}\n",
    "            &r(x, y) \\text{ is distance from circle center to (x, y). } \\\\\n",
    "            &SDF(x, y)  &&= r(x, y) - rad \\\\\n",
    "                        &&= ((x + cx)^2 + (y + cy)^2)^0.5 - rad \\\\\n",
    "        \\end{align*}\n",
    "    \n",
    "    \"\"\"\n",
    "    \n",
    "    def _sdf_tr(t: dtype_vecnum, r:dtype_vecnum) -> npt.NDArray:\n",
    "        # alt for params x, y: np.hypot(x + cx, y + cy) - rad\n",
    "        # unit_xvec = npa(1.0, 0.0)  # theta=0\n",
    "        # pvec = npa(x, y) / LA.norm(npa(x, y))\n",
    "        # rcos = np.dot(pvec, unit_x)\n",
    "        # rsin = np.cross(pvec, unit_x)\n",
    "        # np.array([1+2j, 3+4j, 5+6j])\n",
    "        # unit_xvec = npa(1+0j)\n",
    "        # pvec = npa(np.exp(j * np.pi * t)  # exp(i pi t)\n",
    "        return LA.norm(\n",
    "            [(r * np.cos(t)) - cx, (r * np.sin(t)) - cy]\n",
    "            ).astype(float) - rad\n",
    "\n",
    "    return _sdf_tr\n",
    "\n",
    "area_circle = lambda r: np.pi * r * r \n",
    "perim_circle = lambda r: 2 * np.pi * r\n",
    "    \n",
    "sdf = SDF(\n",
    "    sdf_circle(0, 0, 1),\n",
    "    cx=0, cy=0,\n",
    "    area=np.pi, perim=2.0 * np.pi)\n",
    "    \n",
    "sdf.sdf(0, 2)"
   ]
  },
  {
   "cell_type": "code",
   "execution_count": 68,
   "metadata": {},
   "outputs": [
    {
     "name": "stdout",
     "output_type": "stream",
     "text": [
      "5.0\n"
     ]
    },
    {
     "data": {
      "text/plain": [
       "5.0"
      ]
     },
     "execution_count": 68,
     "metadata": {},
     "output_type": "execute_result"
    }
   ],
   "source": [
    "np.linalg.norm(npa(3+4j))\n",
    "\n",
    "\n",
    "\n",
    "\n",
    "        "
   ]
  },
  {
   "cell_type": "code",
   "execution_count": null,
   "metadata": {},
   "outputs": [],
   "source": [
    "# Test circle\n",
    "assert abs( 0.0 - sdf_circle(0, 0, 1)(np.pi + np.pi/2.0, 1.0)) < 1e-6\n",
    "assert abs( 1.0 - sdf_circle(0, 0, 2)(np.pi, 3.0)) < 1e-6\n",
    "_1r_far = sdf_circle(100, 100, 1)\n",
    "assert abs( 0.0 - _1r_far(np.pi/4, np.hypot(100, 100) + 1.0)) < 1e-6\n",
    "# Test broadcasting\n",
    "assert np.allclose(\n",
    "    npa(-1, 0),\n",
    "    (sdf_circle(npa(0, 1), npa(0, 1), npa(1, 2 ** 0.5))\n",
    "     (np.pi / 4.0, 0)), \n",
    "    atol=1e-5)        \n"
   ]
  }
 ],
 "metadata": {
  "kernelspec": {
   "display_name": "Python 3.9.12 ('ml')",
   "language": "python",
   "name": "python3"
  },
  "language_info": {
   "codemirror_mode": {
    "name": "ipython",
    "version": 3
   },
   "file_extension": ".py",
   "mimetype": "text/x-python",
   "name": "python",
   "nbconvert_exporter": "python",
   "pygments_lexer": "ipython3",
   "version": "3.9.12"
  },
  "orig_nbformat": 4,
  "vscode": {
   "interpreter": {
    "hash": "fb43486413e462226a2b15ea6c351186a34d76501b14d593d11016ef632c20dc"
   }
  }
 },
 "nbformat": 4,
 "nbformat_minor": 2
}
