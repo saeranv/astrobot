{
 "cells": [
  {
   "cell_type": "code",
   "execution_count": null,
   "metadata": {},
   "outputs": [],
   "source": [
    "%load_ext autoreload\n",
    "%autoreload 2\n",
    "%config Completer.use_jedi = False\n",
    "\n",
    "import os \n",
    "import sys \n",
    "\n",
    "# TODO: remove '..' if run from root folder\n",
    "home = os.path.abspath(os.path.join(os.getcwd(), '..', '..'))\n",
    "pths = [os.path.join(home, 'astrobot')]\n",
    "\n",
    "for pth in pths: \n",
    "    if pth not in sys.path: sys.path.insert(0, pth)\n",
    "\n",
    "from astrobot.util import *\n",
    "\n",
    "import matplotlib.pyplot as plt \n",
    "import numpy as np \n",
    "from pprint import pprint as pp \n",
    "import pandas as pd \n",
    "\n",
    "# Tab after '.' to get all methods \n",
    "# Tab Shift after () to get documentation.\n",
    "# To read excel data:\n",
    "# pd.read_excel('afn_infil_data.xlsx')\n",
    "# pd.read_clipboard()\n",
    "\n",
    "# For experiments\n",
    "# path to astrobot roo\n",
    "ROOT_DIR\n",
    "\n",
    "# path to this package from experiments folder\n",
    "PACKAGE_FPATH_FOR_EXPERIMENTS\n",
    "\n",
    "# path to epw from experiments folder\n",
    "EPW_FPATH_FOR_EXPERIMENTS"
   ]
  }
 ],
 "metadata": {
  "kernelspec": {
   "display_name": "Python 3",
   "language": "python",
   "name": "python3"
  },
  "language_info": {
   "codemirror_mode": {
    "name": "ipython",
    "version": 3
   },
   "file_extension": ".py",
   "mimetype": "text/x-python",
   "name": "python",
   "nbconvert_exporter": "python",
   "pygments_lexer": "ipython3",
   "version": "3.7.7"
  }
 },
 "nbformat": 4,
 "nbformat_minor": 4
}