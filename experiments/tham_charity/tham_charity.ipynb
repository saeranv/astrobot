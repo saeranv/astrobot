{
 "metadata": {
  "language_info": {
   "codemirror_mode": {
    "name": "ipython",
    "version": 3
   },
   "file_extension": ".py",
   "mimetype": "text/x-python",
   "name": "python",
   "nbconvert_exporter": "python",
   "pygments_lexer": "ipython3",
   "version": "3.9.5"
  },
  "orig_nbformat": 2,
  "kernelspec": {
   "name": "python3",
   "display_name": "Python 3.9.5 64-bit ('ml': conda)"
  },
  "interpreter": {
   "hash": "de02f6dec8425232785b5e8ad7862aa028740e575246da6855442165288af63b"
  }
 },
 "nbformat": 4,
 "nbformat_minor": 2,
 "cells": [
  {
   "cell_type": "code",
   "execution_count": 2,
   "metadata": {},
   "outputs": [
    {
     "output_type": "stream",
     "name": "stdout",
     "text": [
      "The autoreload extension is already loaded. To reload it, use:\n  %reload_ext autoreload\n"
     ]
    },
    {
     "output_type": "execute_result",
     "data": {
      "text/plain": [
       "'c:\\\\Users\\\\saera\\\\master\\\\astrobot\\\\resources\\\\epw\\\\philadelphia\\\\philadelphia.epw'"
      ]
     },
     "metadata": {},
     "execution_count": 2
    }
   ],
   "source": [
    "%load_ext autoreload\n",
    "%autoreload 2\n",
    "%config Completer.use_jedi = False\n",
    "\n",
    "import os \n",
    "import sys \n",
    "\n",
    "# TODO: may have to add '..' if move from root folder\n",
    "home = os.path.abspath(os.path.join(os.getcwd(), '..', '..', '..'))\n",
    "pths = [os.path.join(home, 'astrobot')]\n",
    "\n",
    "for pth in pths: \n",
    "    if pth not in sys.path: sys.path.insert(0, pth)\n",
    "\n",
    "from astrobot.util import *\n",
    "\n",
    "import matplotlib.pyplot as plt \n",
    "import numpy as np \n",
    "from pprint import pprint as pp\n",
    "\n",
    "# Tab after '.' to get all methods \n",
    "# Tab Shift after () to get documentation.\n",
    "# To read excel data:\n",
    "# pd.read_excel('afn_infil_data.xlsx')\n",
    "# pd.read_clipboard()\n",
    "\n",
    "# For experiments\n",
    "# path to astrobot roo\n",
    "ROOT_DIR\n",
    "\n",
    "# path to this package from experiments folder\n",
    "PACKAGE_FPATH_FOR_EXPERIMENTS\n",
    "\n",
    "# path to epw from experiments folder\n",
    "EPW_FPATH_FOR_EXPERIMENTS"
   ]
  },
  {
   "cell_type": "code",
   "execution_count": null,
   "metadata": {},
   "outputs": [],
   "source": [
    "mth_don = 31.19 # CAD ~ 5000 rupees\n"
   ]
  },
  {
   "cell_type": "code",
   "execution_count": 87,
   "metadata": {},
   "outputs": [
    {
     "output_type": "stream",
     "name": "stdout",
     "text": [
      "MPR:  0.2602 %\nAPR:  3.0708 %\n5000.0\n"
     ]
    }
   ],
   "source": [
    "# Sivan Kovil Initial assumption \n",
    "# Sivan Kovil collected £7000 pounds for an Iya’s family when he # passed away which generated 15,000 per month interest for his # family.\n",
    "\n",
    "# 15000 \n",
    "#P0 = 11978.87 # 7k pounds in CAD\n",
    "#mon_don0 = 93.56 # 15000 Sl rupees\n",
    "P0 = 1921262\n",
    "mon_don0 = 5000 \n",
    "# P0 * mpr = 5000\n",
    "# mpr = 5000 / P0\n",
    "mpr0 = mon_don0 / P0\n",
    "apr0 =  1 - (P0 / (P0 * (1 + mpr0) ** 12)) \n",
    "\n",
    "# Check \n",
    "print('MPR: ', round(mpr0 * 100, 4), '%')\n",
    "print('APR: ', round(apr0 * 100, 4), '%')\n",
    "print(round(P0 * mpr0, 2)) "
   ]
  },
  {
   "cell_type": "code",
   "execution_count": 79,
   "metadata": {},
   "outputs": [
    {
     "output_type": "stream",
     "name": "stdout",
     "text": [
      "MPR:  0.3274 %\nP:  9527.3302\nAPR:  4.0 %\n"
     ]
    }
   ],
   "source": [
    "# charity \n",
    "apr = 0.04 # annual precentage rate for interest \n",
    "\n",
    "# 1. Calculate monthly interest rate \n",
    "# y_ann = P * (1 + apr) ** 1\n",
    "# y_ann = P * (1 + mpr) ** 12\n",
    "# P * (1 + apr) ** 1 = P * (1 + mpr) ** 12   \n",
    "# (1 + apr) ** 1 = (1 + mpr) ** 12   \n",
    "# ln(1 + apr) / 12 = ln(1 + mpr)\n",
    "# e ** (ln(1 + apr) / 12) - 1 = mpr\n",
    "mpr = np.e ** (np.log(1 + apr) / 12) - 1\n",
    "\n",
    "# Check \n",
    "print('MPR: ', round(mpr * 100, 4), '%')\n",
    "assert np.abs((1 + apr) - (1 + mpr) ** 12) < 1e-10\n",
    "\n",
    "# 2. How much P to get monthly donation via interest \n",
    "# P + mon_don = P * (1 + mpr) ** 1\n",
    "# 1 + (mon_don / P) = 1 + mpr\n",
    "# mon_don / P = 1 + mpr - 1 \n",
    "P = mth_don / mpr\n",
    "\n",
    "# Check \n",
    "print('P: ', round(P, 4))\n",
    "assert np.abs((P * (1 + mpr) - P) - mth_don) < 1e-10\n",
    "\n",
    "\n",
    "# calc APR \n",
    "# P * (1 + mpr) ** 12\n",
    "apr_chk = ((1 + mpr) ** 12) - 1\n",
    "print('APR: ', round(apr_chk * 100, 4), '%')\n"
   ]
  },
  {
   "cell_type": "code",
   "execution_count": 86,
   "metadata": {},
   "outputs": [
    {
     "output_type": "stream",
     "name": "stdout",
     "text": [
      "With a initial P of 8000.0\nmth_num: 53.46\nyrs_num: 4.45\n"
     ]
    }
   ],
   "source": [
    "# How much compounding to hit P=9527.33 \n",
    "P1 = 8000.0 \n",
    "# P = P1 * (1 + mpr) ** mth_num \n",
    "# ln(P) = ln(P1) + ln(1 + mpr) * mth_num \n",
    "# (ln(P) - ln(P1)) / ln(1 + mpr) = mth_num \n",
    "mth_num = (np.log(P) - np.log(P1)) / np.log(1 + mpr)\n",
    "\n",
    "# Check \n",
    "print('With a initial P of {}'.format(round(P1, 2)))\n",
    "print('mth_num: {}\\nyrs_num: {}'.format(round(mth_num, 2), \n",
    "    round(mth_num / 12.0, 2)))\n",
    "\n",
    "assert np.abs((P1 * (1 + mpr) ** mth_num) - P) < 1e-10 \n",
    "\n"
   ]
  },
  {
   "cell_type": "code",
   "execution_count": null,
   "metadata": {},
   "outputs": [],
   "source": []
  }
 ]
}