{
 "cells": [
  {
   "cell_type": "code",
   "execution_count": 3,
   "metadata": {},
   "outputs": [],
   "source": [
    "import numpy as np\n",
    "from pprint import pprint as pp \n",
    "import matplotlib.pyplot as plt"
   ]
  },
  {
   "cell_type": "code",
   "execution_count": 74,
   "metadata": {},
   "outputs": [],
   "source": [
    "def fd(m, q=None):\n",
    "    meths = dir(m)[::-1]\n",
    "    if q:\n",
    "        return [_m for _m in meths if q.lower() in _m]\n",
    "    else:\n",
    "        return meths"
   ]
  },
  {
   "cell_type": "code",
   "execution_count": 92,
   "metadata": {},
   "outputs": [
    {
     "data": {
      "text/plain": [
       "<matplotlib.axes._subplots.AxesSubplot at 0x7fcf6a6867f0>"
      ]
     },
     "execution_count": 92,
     "metadata": {},
     "output_type": "execute_result"
    },
    {
     "data": {
      "image/png": "[encoded data removed]",
      "text/plain": [
       "<Figure size 504x360 with 2 Axes>"
      ]
     },
     "metadata": {
      "needs_background": "light"
     },
     "output_type": "display_data"
    }
   ],
   "source": [
    "def lin_reg(slp, u, sd, a, dots=False):\n",
    "    # Make a random distribution \n",
    "    # that's sort of linear with \n",
    "    # population porameters\n",
    "    X = np.arange(50)\n",
    "    X = X - np.mean(X) # Subtract the means\n",
    "    Y = np.array([(i*slp)+np.random.normal(u, sd) for i in X])\n",
    "\n",
    "    # Linear Regression\n",
    "    # Project the Y vector to the X vector\n",
    "    # to get the predictor Yhat\n",
    "    # projYonX = Yhat = (X*Y) / (X^2) * X  \n",
    "    b = np.dot(X, Y) / np.linalg.norm(X)**2\n",
    "    # The regression coefficient/slope is the\n",
    "    # scale factor between Yh and X (or the cosine)\n",
    "    Yh = b * X \n",
    "    \n",
    "    if dots:\n",
    "        _ = a.scatter(X, Y)\n",
    "    _ = a.plot(X, Yh, color='red')\n",
    "    a.grid(True)\n",
    "    a.axis('equal')\n",
    "    return a\n",
    "\n",
    "u, sd = 0., 5\n",
    "f, a = plt.subplots(1, 2,figsize=(7,5), sharey=True)\n",
    "lin_reg(1, u, sd, a[0], True)\n",
    "lin_reg(2, u, sd, a[1], True)\n",
    "\n"
   ]
  },
  {
   "cell_type": "code",
   "execution_count": null,
   "metadata": {},
   "outputs": [],
   "source": [
    "\n",
    "\n"
   ]
  }
 ],
 "metadata": {
  "kernelspec": {
   "display_name": "Python 3",
   "language": "python",
   "name": "python3"
  },
  "language_info": {
   "codemirror_mode": {
    "name": "ipython",
    "version": 3
   },
   "file_extension": ".py",
   "mimetype": "text/x-python",
   "name": "python",
   "nbconvert_exporter": "python",
   "pygments_lexer": "ipython3",
   "version": "3.6.9"
  }
 },
 "nbformat": 4,
 "nbformat_minor": 4
}
