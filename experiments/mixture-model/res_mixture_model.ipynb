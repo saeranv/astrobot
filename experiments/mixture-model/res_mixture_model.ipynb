{
 "cells": [
  {
   "cell_type": "code",
   "execution_count": 2,
   "metadata": {},
   "outputs": [
    {
     "name": "stdout",
     "output_type": "stream",
     "text": [
      "The autoreload extension is already loaded. To reload it, use:\n",
      "  %reload_ext autoreload\n"
     ]
    }
   ],
   "source": [
    "%load_ext autoreload\n",
    "%autoreload 2\n",
    "%config Completer.use_jedi = False\n",
    "\n",
    "import os \n",
    "import sys \n",
    "\n",
    "home = os.path.abspath(\n",
    "    os.path.join(os.getcwd(), '..', '..', '..'))\n",
    "pths = [\n",
    "    os.path.join(home, 'astrobot'), \n",
    "    os.path.join(home, 'astrobot', 'tests')]\n",
    "\n",
    "[sys.path.insert(0, pth) \n",
    " for pth in pths if pth not in sys.path]\n",
    "\n",
    "from astrobot import bld_stock \n",
    "\n",
    "import numpy as np \n",
    "import pandas as pd\n",
    "from pprint import pprint \n",
    "import matplotlib.pyplot as plt \n",
    "import seaborn as sns\n",
    "import functools as ft \n",
    "reduce = ft.reduce  \n",
    "\n",
    "def pp(x, *args): pprint(x) if not args else (pprint(x), pp(*args))"
   ]
  },
  {
   "cell_type": "code",
   "execution_count": 3,
   "metadata": {},
   "outputs": [
    {
     "data": {
      "text/html": [
       "<div>\n",
       "<style scoped>\n",
       "    .dataframe tbody tr th:only-of-type {\n",
       "        vertical-align: middle;\n",
       "    }\n",
       "\n",
       "    .dataframe tbody tr th {\n",
       "        vertical-align: top;\n",
       "    }\n",
       "\n",
       "    .dataframe thead th {\n",
       "        text-align: right;\n",
       "    }\n",
       "</style>\n",
       "<table border=\"1\" class=\"dataframe\">\n",
       "  <thead>\n",
       "    <tr style=\"text-align: right;\">\n",
       "      <th></th>\n",
       "      <th>cz_cat</th>\n",
       "      <th>cz</th>\n",
       "      <th>btype_cat</th>\n",
       "      <th>btype</th>\n",
       "      <th>weight</th>\n",
       "      <th>metadata_index</th>\n",
       "      <th>bldg_id</th>\n",
       "      <th>eui</th>\n",
       "    </tr>\n",
       "  </thead>\n",
       "  <tbody>\n",
       "    <tr>\n",
       "      <th>0</th>\n",
       "      <td>4A</td>\n",
       "      <td>6</td>\n",
       "      <td>Multi-Family with 5+ Units</td>\n",
       "      <td>2</td>\n",
       "      <td>242.131013</td>\n",
       "      <td>0</td>\n",
       "      <td>1</td>\n",
       "      <td>261.339526</td>\n",
       "    </tr>\n",
       "    <tr>\n",
       "      <th>1</th>\n",
       "      <td>6B</td>\n",
       "      <td>12</td>\n",
       "      <td>Multi-Family with 2 - 4 Units</td>\n",
       "      <td>1</td>\n",
       "      <td>242.131013</td>\n",
       "      <td>1</td>\n",
       "      <td>2</td>\n",
       "      <td>464.680928</td>\n",
       "    </tr>\n",
       "    <tr>\n",
       "      <th>2</th>\n",
       "      <td>3A</td>\n",
       "      <td>3</td>\n",
       "      <td>Multi-Family with 5+ Units</td>\n",
       "      <td>2</td>\n",
       "      <td>242.131013</td>\n",
       "      <td>2</td>\n",
       "      <td>3</td>\n",
       "      <td>309.696571</td>\n",
       "    </tr>\n",
       "    <tr>\n",
       "      <th>3</th>\n",
       "      <td>2A</td>\n",
       "      <td>1</td>\n",
       "      <td>Multi-Family with 2 - 4 Units</td>\n",
       "      <td>1</td>\n",
       "      <td>242.131013</td>\n",
       "      <td>3</td>\n",
       "      <td>4</td>\n",
       "      <td>140.524085</td>\n",
       "    </tr>\n",
       "    <tr>\n",
       "      <th>4</th>\n",
       "      <td>4A</td>\n",
       "      <td>6</td>\n",
       "      <td>Single-Family Attached</td>\n",
       "      <td>3</td>\n",
       "      <td>242.131013</td>\n",
       "      <td>4</td>\n",
       "      <td>5</td>\n",
       "      <td>62.699874</td>\n",
       "    </tr>\n",
       "  </tbody>\n",
       "</table>\n",
       "</div>"
      ],
      "text/plain": [
       "  cz_cat  cz                      btype_cat  btype      weight  \\\n",
       "0     4A   6     Multi-Family with 5+ Units      2  242.131013   \n",
       "1     6B  12  Multi-Family with 2 - 4 Units      1  242.131013   \n",
       "2     3A   3     Multi-Family with 5+ Units      2  242.131013   \n",
       "3     2A   1  Multi-Family with 2 - 4 Units      1  242.131013   \n",
       "4     4A   6         Single-Family Attached      3  242.131013   \n",
       "\n",
       "   metadata_index  bldg_id         eui  \n",
       "0               0        1  261.339526  \n",
       "1               1        2  464.680928  \n",
       "2               2        3  309.696571  \n",
       "3               3        4  140.524085  \n",
       "4               4        5   62.699874  "
      ]
     },
     "execution_count": 3,
     "metadata": {},
     "output_type": "execute_result"
    }
   ],
   "source": [
    "# TODO: add to bld_stock \n",
    "\n",
    "DATADIR = \"C:/users/admin/master/astrobot/resources/rescomstock/resstock\"\n",
    "assert os.path.isdir(DATADIR)\n",
    "metacom_fpath = os.path.join(DATADIR, \"metadata_resstock.tsv\")\n",
    "_comdf = pd.read_csv(metacom_fpath, sep='\\t')\n",
    "_comdf = _comdf.dropna(axis=0, how=\"any\")\n",
    "comdf = _comdf.copy()\n",
    "\n",
    "y_lbls = [\"eui\"] \n",
    "X_lbls = [\"cz_cat\", \"cz\", \"btype_cat\", \"btype\", \"weight\", \"metadata_index\", \"bldg_id\"] \n",
    "comdf[[\"cz_cat\", \"btype_cat\"]] = comdf[[\"in.ashrae_iecc_climate_zone_2004\", \"in.geometry_building_type_recs\"]]\n",
    "_kwh_arr, _sqft_arr = comdf[\"out.site_energy.total.energy_consumption\"], comdf[\"in.sqft\"]\n",
    "comdf[y_lbls[0]] = _kwh_arr / (_sqft_arr / 10.764)  # Convert kWh, ft2 -> kWh/m2\n",
    "\n",
    "# Integer encoding for cz categories\n",
    "cz_dict = {cz:i for i, cz in enumerate(np.unique(comdf[\"cz_cat\"]))}\n",
    "comdf[\"cz\"] = [cz_dict[cz] for cz in comdf[\"cz_cat\"]]\n",
    " \n",
    "# Integer encoding for btype\n",
    "btype_dict = {bt:i for i, bt in enumerate(np.unique(comdf[\"btype_cat\"]))}\n",
    "comdf[\"btype\"] = [btype_dict[bt] for bt in comdf[\"btype_cat\"]]\n",
    "\n",
    "comdf = comdf[X_lbls + y_lbls]\n",
    "comdf.head(5)"
   ]
  },
  {
   "cell_type": "code",
   "execution_count": 7,
   "metadata": {},
   "outputs": [
    {
     "data": {
      "text/plain": [
       "[<matplotlib.lines.Line2D at 0x227609f3e20>]"
      ]
     },
     "execution_count": 7,
     "metadata": {},
     "output_type": "execute_result"
    },
    {
     "data": {
      "image/png": "[encoded data removed]",
      "text/plain": [
       "<Figure size 432x288 with 1 Axes>"
      ]
     },
     "metadata": {
      "needs_background": "light"
     },
     "output_type": "display_data"
    }
   ],
   "source": [
    "# Make test gaussian mixture model\n",
    "\n",
    "import scipy.stats as stats \n",
    "\n",
    "dists = [stats.norm(loc=1, scale=1),\n",
    "         stats.norm(loc=-1, scale=1)]\n",
    "\n",
    "x = np.linspace(-3, 3, 100)\n",
    "plt.plot(x, dists[0].pdf(x));\n",
    "plt.plot(x, dists[1].pdf(x));\n"
   ]
  }
 ],
 "metadata": {
  "interpreter": {
   "hash": "d6a669fa4023ae2b271cee94ea7dc3f46c6f4326b957ce106e12dc5ae8b709f3"
  },
  "kernelspec": {
   "display_name": "Python 3.9.7 ('ml')",
   "language": "python",
   "name": "python3"
  },
  "language_info": {
   "codemirror_mode": {
    "name": "ipython",
    "version": 3
   },
   "file_extension": ".py",
   "mimetype": "text/x-python",
   "name": "python",
   "nbconvert_exporter": "python",
   "pygments_lexer": "ipython3",
   "version": "3.9.7"
  },
  "orig_nbformat": 4
 },
 "nbformat": 4,
 "nbformat_minor": 2
}
