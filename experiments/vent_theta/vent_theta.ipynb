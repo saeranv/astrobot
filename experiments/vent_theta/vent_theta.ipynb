{
 "cells": [
  {
   "cell_type": "code",
   "execution_count": 1,
   "metadata": {},
   "outputs": [
    {
     "data": {
      "text/plain": [
       "'c:\\\\Users\\\\admin\\\\master\\\\astrobot\\\\resources\\\\epw\\\\philadelphia\\\\philadelphia.epw'"
      ]
     },
     "execution_count": 1,
     "metadata": {},
     "output_type": "execute_result"
    }
   ],
   "source": [
    "%load_ext autoreload\n",
    "%autoreload 2\n",
    "%config Completer.use_jedi = False\n",
    "\n",
    "import os \n",
    "import sys \n",
    "\n",
    "# TODO: remove '..' if run from root folder\n",
    "home = os.path.abspath(os.path.join(os.getcwd(), '..', '..', '..'))\n",
    "pths = [os.path.join(home, 'astrobot')]\n",
    "\n",
    "for pth in pths: \n",
    "    if pth not in sys.path: sys.path.insert(0, pth)\n",
    "\n",
    "from astrobot.util import *\n",
    "\n",
    "import matplotlib.pyplot as plt \n",
    "import numpy as np \n",
    "from pprint import pprint as pp \n",
    "import pandas as pd \n",
    "\n",
    "# plt.style.use(\"dark_background\")\n",
    "\n",
    "# Tab after '.' to get all methods \n",
    "# Tab Shift after () to get documentation.\n",
    "# To read excel data:\n",
    "# pd.read_excel('afn_infil_data.xlsx')\n",
    "# pd.read_clipboard()\n",
    "\n",
    "# For experiments\n",
    "# path to astrobot roo\n",
    "ROOT_DIR\n",
    "\n",
    "# path to this package from experiments folder\n",
    "PACKAGE_FPATH_FOR_EXPERIMENTS\n",
    "\n",
    "# path to epw from experiments folder\n",
    "EPW_FPATH_FOR_EXPERIMENTS"
   ]
  },
  {
   "cell_type": "code",
   "execution_count": null,
   "metadata": {},
   "outputs": [],
   "source": [
    "# What is intuition in complex plane? \n",
    "# Q = A Cw Uw \n",
    "#   = A Cw (2 dP / p)^n\n",
    "# lnQ = lnCw + nln(2P/p);\n",
    "# lnCw = ln(f(phi))\n",
    "# exp^(i phi) = cos(phi) + i sin(phi)\n",
    "# r exp^(i phi) - r i sin(phi) = r cos(phi)\n",
    "# (x + iy) i = x + -y"
   ]
  },
  {
   "cell_type": "code",
   "execution_count": 5,
   "metadata": {},
   "outputs": [
    {
     "name": "stdout",
     "output_type": "stream",
     "text": [
      "(10, 2) (10, 1)\n"
     ]
    }
   ],
   "source": [
    "# Q = A Cw Uw\n",
    "#   = A Cw (2 dP / p)^n\n",
    "\n",
    "# Cw = m f(phi) + b; where f(phi) => phi | cos(phi)\n",
    "# 0.6 = m 0 + b;\n",
    "# 0.55 = m 0 + b;\n",
    "# 0.35 = m 45 + b;\n",
    "# 0.25 = m 45 + b;\n",
    "# 0.00 = m 90 + b;\n",
    "\n",
    "# update this with gaussian\n",
    "X_ = np.array([0, 0, 45, 45, 90, 90, 135, 135, 180, 180])  \n",
    "y = np.array([[0.6, 0.55, 0.35, 0.25, 0.0, 0.0, 0.35, 0.25, 0.6, 0.55]]).T\n",
    "N = len(X_)\n",
    "X = np.vstack((X_, np.ones(N))).T\n",
    "print(X.shape, y.shape)\n",
    "# X=(10, 2) y=(10,1)\n",
    "# B=(2,1), X.B = (10,1)\n",
    "# e = y - X.B  # (10,1)\n",
    "# 0 = X^T . e # (2,1)\n",
    "# 0 = X^T . (y - XB); solve for B \n",
    "# 0 = X^T . y - X^T . XB \n",
    "# X^T . XB = X^T . y\n",
    "# (X^T X)^1 . (X^T . X)B = (X^T)^1 . X^T . y\n",
    "# XB = y\n"
   ]
  }
 ],
 "metadata": {
  "kernelspec": {
   "display_name": "Python 3.9.7 ('ml')",
   "language": "python",
   "name": "python3"
  },
  "language_info": {
   "codemirror_mode": {
    "name": "ipython",
    "version": 3
   },
   "file_extension": ".py",
   "mimetype": "text/x-python",
   "name": "python",
   "nbconvert_exporter": "python",
   "pygments_lexer": "ipython3",
   "version": "3.9.7"
  },
  "orig_nbformat": 4,
  "vscode": {
   "interpreter": {
    "hash": "f00434f7f1188cbf6cbc50d8ac508f58cd89d939b817a016aa1844dfa1b1a227"
   }
  }
 },
 "nbformat": 4,
 "nbformat_minor": 2
}
