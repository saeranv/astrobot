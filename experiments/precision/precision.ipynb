{
 "metadata": {
  "language_info": {
   "codemirror_mode": {
    "name": "ipython",
    "version": 3
   },
   "file_extension": ".py",
   "mimetype": "text/x-python",
   "name": "python",
   "nbconvert_exporter": "python",
   "pygments_lexer": "ipython3",
   "version": 3
  },
  "orig_nbformat": 2
 },
 "nbformat": 4,
 "nbformat_minor": 2,
 "cells": [
  {
   "cell_type": "code",
   "execution_count": null,
   "metadata": {},
   "outputs": [],
   "source": [
    "from decimal import Decimal, getcontext\n",
    "import numpy as np \n",
    "getcontext().prec = 28  # 28 sig fig of precision \n",
    "\n",
    "Q = 0.002302\n",
    "P = 75\n",
    "n = 0.65\n",
    "C1 = Q / (P ** n)\n",
    "C2 = np.exp(np.log(Q) - (n * np.log(P)))\n",
    "# Q1 = C1 * 4 ** n\n",
    "# Q2 = C2 * 4 ** n\n",
    "\n",
    "Qnp = Decimal(Q)\n",
    "Pnp = Decimal(P)\n",
    "nnp = Decimal(n)\n",
    "Cnp1 = Qnp / (Pnp ** nnp)\n",
    "Cnp2 = (Qnp.ln() - (nnp * Pnp.ln())).exp()\n",
    "\n",
    "c1 = Decimal.from_float(C1)\n",
    "c2 = Decimal.from_float(C2)\n",
    "print(c1)\n",
    "print(c2)\n",
    "print(Cnp1)\n",
    "print(Cnp2)\n",
    "\n",
    "c1 == c2"
   ]
  },
  {
   "cell_type": "code",
   "execution_count": null,
   "metadata": {},
   "outputs": [],
   "source": [
    "# 08 bits = log10(256) ~ 3 digits of precision\n",
    "# 64 bits = log10(2 ** 64) ~ 19 digits of precision \n",
    "\n",
    "# Every 3 bits ~ 1 sig fig\n",
    "# log10(2 ** 1) == 1 digit\n",
    "# log10(2 ** 4) == 2 digits\n",
    "# log10(2 ** 7) == 3 digits \n",
    "# log10(2 ** 10) == 5 digits \n",
    "\n",
    "q = 2 ** 10\n",
    "print(q)\n",
    "np.ceil(np.log10(q))\n",
    "\n"
   ]
  }
 ]
}