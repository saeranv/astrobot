{
 "cells": [
  {
   "cell_type": "code",
   "execution_count": 1,
   "metadata": {},
   "outputs": [
    {
     "name": "stdout",
     "output_type": "stream",
     "text": [
      "0.000139096274472529026107470162543222613749094307422637939453125\n",
      "0.00013909627447252910742263309895605516430805437266826629638671875\n",
      "0.0001390962744725290348769102675\n",
      "0.0001390962744725290348769102674\n"
     ]
    },
    {
     "data": {
      "text/plain": [
       "False"
      ]
     },
     "execution_count": 1,
     "metadata": {},
     "output_type": "execute_result"
    }
   ],
   "source": [
    "from decimal import Decimal, getcontext\n",
    "import numpy as np \n",
    "getcontext().prec = 28  # 28 sig fig of precision \n",
    "\n",
    "Q = 0.002302\n",
    "P = 75\n",
    "n = 0.65\n",
    "C1 = Q / (P ** n)\n",
    "C2 = np.exp(np.log(Q) - (n * np.log(P)))\n",
    "# Q1 = C1 * 4 ** n\n",
    "# Q2 = C2 * 4 ** n\n",
    "\n",
    "Qnp = Decimal(Q)\n",
    "Pnp = Decimal(P)\n",
    "nnp = Decimal(n)\n",
    "Cnp1 = Qnp / (Pnp ** nnp)\n",
    "Cnp2 = (Qnp.ln() - (nnp * Pnp.ln())).exp()\n",
    "\n",
    "c1 = Decimal.from_float(C1)\n",
    "c2 = Decimal.from_float(C2)\n",
    "print(c1)\n",
    "print(c2)\n",
    "print(Cnp1)\n",
    "print(Cnp2)\n",
    "\n",
    "c1 == c2"
   ]
  },
  {
   "cell_type": "code",
   "execution_count": 2,
   "metadata": {},
   "outputs": [
    {
     "name": "stdout",
     "output_type": "stream",
     "text": [
      "1024\n"
     ]
    },
    {
     "data": {
      "text/plain": [
       "2.4082399653118496"
      ]
     },
     "execution_count": 2,
     "metadata": {},
     "output_type": "execute_result"
    }
   ],
   "source": [
    "# 08 bits = log10(256) ~ 3 digits of precision\n",
    "# 64 bits = log10(2 ** 64) ~ 19 digits of precision \n",
    "\n",
    "# Every 3 bits ~ 1 sig fig\n",
    "# log10(2 ** 1) == 1 digit\n",
    "# log10(2 ** 4) == 2 digits\n",
    "# log10(2 ** 7) == 3 digits \n",
    "# log10(2 ** 10) == 5 digits \n",
    "\n",
    "q = 2 ** 10\n",
    "print(q)\n",
    "np.ceil(np.log10(q))\n"
   ]
  }
 ],
 "metadata": {
  "interpreter": {
   "hash": "d6a669fa4023ae2b271cee94ea7dc3f46c6f4326b957ce106e12dc5ae8b709f3"
  },
  "kernelspec": {
   "display_name": "Python 3.9.7 ('ml')",
   "language": "python",
   "name": "python3"
  },
  "language_info": {
   "codemirror_mode": {
    "name": "ipython",
    "version": 3
   },
   "file_extension": ".py",
   "mimetype": "text/x-python",
   "name": "python",
   "nbconvert_exporter": "python",
   "pygments_lexer": "ipython3",
   "version": "3.9.7"
  },
  "orig_nbformat": 2
 },
 "nbformat": 4,
 "nbformat_minor": 2
}
