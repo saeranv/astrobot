{
 "cells": [
  {
   "cell_type": "code",
   "execution_count": 6,
   "metadata": {},
   "outputs": [
    {
     "output_type": "stream",
     "name": "stdout",
     "text": [
      "The autoreload extension is already loaded. To reload it, use:\n  %reload_ext autoreload\n"
     ]
    }
   ],
   "source": [
    "%load_ext autoreload\n",
    "%autoreload 2\n",
    "%config Completer.use_jedi = False\n",
    "\n",
    "import os \n",
    "import sys \n",
    "import json\n",
    "\n",
    "home = os.path.abspath(os.path.join(os.getcwd(), '..', '..', '..'))\n",
    "pths = [os.path.join(home, 'astrobot')]\n",
    "\n",
    "for pth in pths: \n",
    "    if pth not in sys.path: sys.path.insert(0, pth)\n",
    "\n",
    "from astrobot.util import *\n",
    "from astrobot.geomdataframe import GeomDataFrame \n",
    "from astrobot.r import R\n",
    "from astrobot import bem_util, geom_util, mtx_util\n",
    "from astrobot.polymesh import PolyMesh\n",
    "\n",
    "import numpy as np \n",
    "import matplotlib.pyplot as plt\n",
    "import pandas as pd\n",
    "import scipy.stats as stats\n",
    "import itertools\n",
    "\n",
    "import ladybug_geometry.geometry3d as geom3\n",
    "import ladybug_geometry.geometry2d as geom2\n",
    "from ladybug_geometry_polyskel import polyskel\n",
    "\n",
    "# Simulation\n",
    "from honeybee_energy.simulation.output import SimulationOutput\n",
    "from honeybee_energy.simulation.parameter import SimulationParameter\n",
    "from ladybug.epw import EPW\n",
    "\n",
    "from shapely.geometry import Polygon"
   ]
  },
  {
   "cell_type": "code",
   "execution_count": 7,
   "metadata": {},
   "outputs": [],
   "source": [
    "simdir_path = os.path.join('simulations', 'sim_0')"
   ]
  },
  {
   "cell_type": "code",
   "execution_count": 8,
   "metadata": {},
   "outputs": [],
   "source": [
    "# Generate parameters for shoebox, and pickle to account for seed\n",
    "# just uniform sampling for now, and no random seed\n",
    "\n",
    "labels = ['wwr', 'theta']\n",
    "param_mtx = [np.linspace(0.2, 0.9, 3), \n",
    "             np.linspace(0, np.pi, 3)]\n",
    "param_mtx = np.array(list(itertools.product(*param_mtx))).T\n",
    "\n",
    "# Save\n",
    "dfparam = pd.DataFrame({label: row for row, label in zip(param_mtx, labels)})\n",
    "dfparam.to_pickle(os.path.join(simdir_path, 'sample_mtx.pkl'))\n",
    "\n",
    "#dfparam"
   ]
  },
  {
   "cell_type": "code",
   "execution_count": 9,
   "metadata": {},
   "outputs": [],
   "source": [
    "# Generate floor and wall geometers\n",
    "gdf = GeomDataFrame(pd.read_pickle(os.path.join(simdir_path, 'sample_mtx.pkl')))\n",
    "r = R(gdf)\n",
    "r.mod['mod_geom'] = [geom_util.face_from_params(theta) for theta in r.mod['theta'].values]"
   ]
  },
  {
   "cell_type": "code",
   "execution_count": 10,
   "metadata": {},
   "outputs": [],
   "source": [
    "#space_types = bem_utils.program_space_types('2013::MediumOffice')\n",
    "space_types = [\n",
    "     '2013::MediumOffice::ClosedOffice',\n",
    "     '2013::MediumOffice::OpenOffice', \n",
    "     '2013::MediumOffice::Conference',\n",
    "     '2013::MediumOffice::Corridor',\n",
    "     '2013::MediumOffice::Elec/MechRoom',\n",
    "     '2013::MediumOffice::Restroom']\n",
    "occ = [0.67 / 3.0] * 3\n",
    "oth = [0.33 / 3.0] * 3  \n",
    "space_wts = np.array(occ + oth)\n",
    "blended = bem_util.program_space_types_blend(space_types, space_wts, 'blended_office')"
   ]
  },
  {
   "cell_type": "code",
   "execution_count": 11,
   "metadata": {},
   "outputs": [],
   "source": [
    "# Make model, assign program, constructions and wwr\n",
    "mods = [0] * r.mod.shape[0]\n",
    "for mod_idx in r.mod.index:\n",
    "            \n",
    "    # extract mod_df_row and geom\n",
    "    mod_df_row = r.mod.iloc[mod_idx]\n",
    "    mod_geom = mod_df_row['mod_geom']\n",
    "    \n",
    "    # make spaces from model geom\n",
    "    spc_geoms = geom_util.polyskel_from_face(mod_geom)  # splits floor into thermal zones\n",
    "    spc_idx = range(len(spc_geoms))\n",
    "\n",
    "    # make room2ds from spaces\n",
    "    room2ds = bem_util.face3ds_to_room2ds(spc_geoms, spc_idx, mod_idx)\n",
    "    [bem_util.set_room2d_program_space_type(room, blended) for room in room2ds]\n",
    "\n",
    "    # make model from room2ds\n",
    "    model = bem_util.room2ds_to_model(room2ds, id=str(mod_idx))\n",
    "    # TODO: mutations like this might be more natural as OOP.\n",
    "    # like optimizer(model). Can create custom model, composed of HB model, and custom setters for ml.\n",
    "    # so dataframe is structure, and eigen_models/eigen_spaces are dl-hb extensions.\n",
    "    bem_util.set_model_wwr(model, mod_df_row['wwr'], mod_df_row['theta'])\n",
    "    bem_util.set_model_construction_set(model)\n",
    "\n",
    "    mods[mod_idx] = model\n",
    "\n",
    "r.mod['mod'] = mods"
   ]
  },
  {
   "cell_type": "code",
   "execution_count": 13,
   "metadata": {},
   "outputs": [
    {
     "output_type": "execute_result",
     "data": {
      "text/plain": [
       "      wwr     theta                                           mod_geom  \\\n",
       "idx                                                                      \n",
       "0    0.20  0.000000  ((-3.0, -6.0, 0.0), (3.0, -6.0, 0.0), (3.0, 6....   \n",
       "1    0.20  1.570796  ((6.0, -3.0000000000000004, 0.0), (6.0, 2.9999...   \n",
       "2    0.20  3.141593  ((3.000000000000001, 6.0, 0.0), (-2.9999999999...   \n",
       "3    0.55  0.000000  ((-3.0, -6.0, 0.0), (3.0, -6.0, 0.0), (3.0, 6....   \n",
       "4    0.55  1.570796  ((6.0, -3.0000000000000004, 0.0), (6.0, 2.9999...   \n",
       "\n",
       "                          mod  \n",
       "idx                            \n",
       "0    Dragonfly Model: 0_model  \n",
       "1    Dragonfly Model: 1_model  \n",
       "2    Dragonfly Model: 2_model  \n",
       "3    Dragonfly Model: 3_model  \n",
       "4    Dragonfly Model: 4_model  "
      ],
      "text/html": "<div>\n<style scoped>\n    .dataframe tbody tr th:only-of-type {\n        vertical-align: middle;\n    }\n\n    .dataframe tbody tr th {\n        vertical-align: top;\n    }\n\n    .dataframe thead th {\n        text-align: right;\n    }\n</style>\n<table border=\"1\" class=\"dataframe\">\n  <thead>\n    <tr style=\"text-align: right;\">\n      <th></th>\n      <th>wwr</th>\n      <th>theta</th>\n      <th>mod</th>\n    </tr>\n    <tr>\n      <th>idx</th>\n      <th></th>\n      <th></th>\n      <th></th>\n    </tr>\n  </thead>\n  <tbody>\n    <tr>\n      <th>0</th>\n      <td>0.20</td>\n      <td>0.000000</td>\n      <td>Dragonfly Model: 0_model</td>\n    </tr>\n    <tr>\n      <th>1</th>\n      <td>0.20</td>\n      <td>1.570796</td>\n      <td>Dragonfly Model: 1_model</td>\n    </tr>\n    <tr>\n      <th>2</th>\n      <td>0.20</td>\n      <td>3.141593</td>\n      <td>Dragonfly Model: 2_model</td>\n    </tr>\n    <tr>\n      <th>3</th>\n      <td>0.55</td>\n      <td>0.000000</td>\n      <td>Dragonfly Model: 3_model</td>\n    </tr>\n    <tr>\n      <th>4</th>\n      <td>0.55</td>\n      <td>1.570796</td>\n      <td>Dragonfly Model: 4_model</td>\n    </tr>\n  </tbody>\n</table>\n</div>"
     },
     "metadata": {},
     "execution_count": 13
    }
   ],
   "source": [
    "# idx = 0\n",
    "# rm = r.mod['mod'].values[idx].buildings[0][0].room_2ds[0]\n",
    "# rm.segment_orientations()\n",
    "\n",
    "# r.mod['win'] = [_m.to_honeybee()[0].exterior_wall_aperture_area for _m in r.mod['mod']]\n",
    "# r.mod['theta2'] = [geom_util.to_lb_theta(theta) for theta in r.mod['theta']]\n",
    "# wwr_theta = r.mod['theta2'].values[idx]\n",
    "\n",
    "# for seg_theta in rm.segment_orientations():\n",
    "#     print(np.round(seg_theta, 2), '-', np.round(wwr_theta, 2))\n",
    "# face = r.mod['mod_geom'].values[idx]\n",
    "# geom_util.face_to_polysh(face)\n",
    "r.mod.head()\n"
   ]
  },
  {
   "cell_type": "code",
   "execution_count": 14,
   "metadata": {},
   "outputs": [],
   "source": [
    "# TODO: move this into a setter w/ mod_idx, spc_geom args\n",
    "# TODO: make hb_objects into lists and doc why (iterable in array)\n",
    "# TODO: change list parsing to provide dataframe\n",
    "# TODO: enforce check on intializing dataframes for hierarchical indexing\n",
    "\n",
    "# define spaces\n",
    "hbmods = [m.to_honeybee()[0] for m in r.mod['mod']]\n",
    "spc_mod_idxs, spcs = bem_util.spcs_from_mods(hbmods, r.mod.idx)\n",
    "perim_spc_mask = bem_util.perim_spcs_mask(spcs)\n",
    "\n",
    "r.spc = GeomDataFrame(\n",
    "    {'mod_idx': spc_mod_idxs[np.where(perim_spc_mask > 0)], \n",
    "     'spc_geom': [spc for p, spc in zip(perim_spc_mask, spcs) if p > 0]}\n",
    ")\n",
    "\n",
    "# define srfs\n",
    "srf_mod_idxs, srf_spc_idxs, srfs = \\\n",
    "    bem_util.srfs_from_spcs(r.spc['spc_geom'], r.spc.idx, r.spc['mod_idx'])\n",
    "perim_srf_mask = bem_util.perim_srfs_mask(srfs)\n",
    "\n",
    "r.srf = GeomDataFrame(\n",
    "    {'mod_idx': srf_mod_idxs[np.where(perim_srf_mask > 0)],\n",
    "     'spc_idx': srf_spc_idxs[np.where(perim_srf_mask > 0)],\n",
    "     'srf_geom': [srf for p, srf in zip(perim_srf_mask, srfs) if p > 0]}\n",
    ")\n",
    "\n",
    "# define wins\n",
    "win_mod_idxs, win_spc_idxs, win_srf_idxs, wins = \\\n",
    "    bem_util.wins_from_srfs(r.srf['srf_geom'], r.srf.idx, r.srf.spc_idx, r.srf.mod_idx)\n",
    "\n",
    "r.win = GeomDataFrame(\n",
    "    {'mod_idx': win_mod_idxs, \n",
    "     'spc_idx': win_spc_idxs, \n",
    "     'srf_idx': win_srf_idxs,\n",
    "     'win_geom': wins}\n",
    ")"
   ]
  },
  {
   "cell_type": "code",
   "execution_count": 15,
   "metadata": {},
   "outputs": [],
   "source": [
    "# TODO: Mtx > mtx_util, Mtx_geom > mtx_geom_util, mtx_geom, move mtx_utli to Mtx?\n",
    "r.srf['type'] = [srf.type.name for srf in r.srf['srf_geom']]\n",
    "r.srf['bc'] = [srf.boundary_condition.name for srf in r.srf['srf_geom']]"
   ]
  },
  {
   "cell_type": "code",
   "execution_count": 21,
   "metadata": {},
   "outputs": [
    {
     "output_type": "stream",
     "name": "stdout",
     "text": [
      "Index(['mod_idx', 'spc_idx', 'srf_geom', 'type', 'bc'], dtype='object')\n"
     ]
    },
    {
     "output_type": "execute_result",
     "data": {
      "text/plain": [
       "     mod_idx  spc_idx                  srf_geom   type         bc\n",
       "idx                                                              \n",
       "0          0        0  Face: mod_0_spc_0..Face0  Floor  Adiabatic\n",
       "1          0        0  Face: mod_0_spc_0..Face1   Wall   Outdoors\n",
       "2          0        0  Face: mod_0_spc_0..Face2   Wall   Outdoors\n",
       "3          0        0  Face: mod_0_spc_0..Face3   Wall   Outdoors\n",
       "4          0        0  Face: mod_0_spc_0..Face4   Wall   Outdoors"
      ],
      "text/html": "<div>\n<style scoped>\n    .dataframe tbody tr th:only-of-type {\n        vertical-align: middle;\n    }\n\n    .dataframe tbody tr th {\n        vertical-align: top;\n    }\n\n    .dataframe thead th {\n        text-align: right;\n    }\n</style>\n<table border=\"1\" class=\"dataframe\">\n  <thead>\n    <tr style=\"text-align: right;\">\n      <th></th>\n      <th>type</th>\n      <th>bc</th>\n    </tr>\n    <tr>\n      <th>idx</th>\n      <th></th>\n      <th></th>\n    </tr>\n  </thead>\n  <tbody>\n    <tr>\n      <th>0</th>\n      <td>Floor</td>\n      <td>Adiabatic</td>\n    </tr>\n    <tr>\n      <th>1</th>\n      <td>Wall</td>\n      <td>Outdoors</td>\n    </tr>\n    <tr>\n      <th>2</th>\n      <td>Wall</td>\n      <td>Outdoors</td>\n    </tr>\n    <tr>\n      <th>3</th>\n      <td>Wall</td>\n      <td>Outdoors</td>\n    </tr>\n    <tr>\n      <th>4</th>\n      <td>Wall</td>\n      <td>Outdoors</td>\n    </tr>\n  </tbody>\n</table>\n</div>"
     },
     "metadata": {},
     "execution_count": 21
    }
   ],
   "source": [
    "print(r.srf.columns)\n",
    "r.srf.head()#[r.srf.columns].head()\n"
   ]
  },
  {
   "cell_type": "code",
   "execution_count": 14,
   "metadata": {},
   "outputs": [],
   "source": [
    "# TODO: move to bem_utils   \n",
    "sim_par = SimulationParameter()\n",
    "#sim_par.output.add_zone_energy_use()\n",
    "#sim_par.output.add_gains_and_losses(load_type='Total')\n",
    "sim_par.output.add_surface_temperature()\n",
    "sim_par.output.add_surface_energy_flow()\n",
    "sim_par.output.add_glazing_solar()\n",
    "\n",
    "epw_folder, epw_file_name = os.path.split(EPW_FPATH_FOR_EXPERIMENTS)\n",
    "ddy_file = os.path.join(epw_folder, epw_file_name.replace('.epw', '.ddy'))\n",
    "if os.path.isfile(ddy_file):\n",
    "    sim_par.sizing_parameter.add_from_ddy_996_004(ddy_file)\n",
    "    \n",
    "# write out the simulation parameters to a JSON\n",
    "sim_par_dict = sim_par.to_dict()\n",
    "sim_fname = 'custom_simulation_parameter.json'\n",
    "sim_fpath = os.path.abspath(\n",
    "    os.path.join(simdir_path, sim_fname))\n",
    "with open(sim_fpath, 'w') as fp:\n",
    "    json.dump(sim_par_dict, fp)"
   ]
  },
  {
   "cell_type": "code",
   "execution_count": 15,
   "metadata": {},
   "outputs": [],
   "source": [
    "#sim_par.output"
   ]
  },
  {
   "cell_type": "code",
   "execution_count": 16,
   "metadata": {},
   "outputs": [],
   "source": [
    "# Simulate\n",
    "# TODO: clean up and functionalize top with sim_mods arg\n",
    "sim_mods = r.mod['mod']\n",
    "model_json_fnames = [0] * sim_mods.shape[0]\n",
    "\n",
    "for i, mod in enumerate(sim_mods):\n",
    "    dest_file = os.path.join(simdir_path, mod.display_name + '.json')\n",
    "    model_json_fnames[i] = mod.display_name + '.json'\n",
    "    with open(dest_file, 'w') as fp:\n",
    "        json.dump(mod.to_dict(), fp, indent=4)\n",
    "  \n",
    "# Write batch files\n",
    "batch_fpath = os.path.join(simdir_path, 'json_batch.sh')\n",
    "epw_abs_fpath = \"C:\\\\Users\\\\Administrator\\\\master\\\\git\\\\astrobot\\\\\" + \\\n",
    "    \"resources\\\\epw\\\\philadelphia\\\\philadelphia.epw\"   \n",
    "sim_abs_fpath = \"C:\\\\Users\\\\Administrator\\\\master\\\\git\\\\astrobot\\\\\" + \\\n",
    "    \"experiments\\\\facade_data\\\\simulations\\\\sim_0\\\\custom_simulation_parameter.json\"\n",
    "\n",
    "bem_util.simulate_batch(\n",
    "    batch_fpath, epw_abs_fpath, model_json_fnames, sim_abs_fpath=sim_abs_fpath)\n",
    "\n",
    "r.mod.to_pickle(os.path.join(simdir_path, 'rmod_gen.pkl'))\n",
    "r.spc.to_pickle(os.path.join(simdir_path, 'rspc_gen.pkl'))\n",
    "r.srf.to_pickle(os.path.join(simdir_path, 'rsrf_gen.pkl'))\n",
    "r.win.to_pickle(os.path.join(simdir_path, 'rwin_gen.pkl'))"
   ]
  },
  {
   "cell_type": "code",
   "execution_count": null,
   "metadata": {},
   "outputs": [],
   "source": []
  }
 ],
 "metadata": {
  "kernelspec": {
   "display_name": "Python 3",
   "language": "python",
   "name": "python3"
  },
  "language_info": {
   "codemirror_mode": {
    "name": "ipython",
    "version": 3
   },
   "file_extension": ".py",
   "mimetype": "text/x-python",
   "name": "python",
   "nbconvert_exporter": "python",
   "pygments_lexer": "ipython3",
   "version": "3.7.7-final"
  }
 },
 "nbformat": 4,
 "nbformat_minor": 4
}