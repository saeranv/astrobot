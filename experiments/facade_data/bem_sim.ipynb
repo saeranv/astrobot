{
 "cells": [
  {
   "cell_type": "code",
   "execution_count": 24,
   "metadata": {},
   "outputs": [
    {
     "name": "stdout",
     "output_type": "stream",
     "text": [
      "The autoreload extension is already loaded. To reload it, use:\n",
      "  %reload_ext autoreload\n"
     ]
    }
   ],
   "source": [
    "%load_ext autoreload\n",
    "%autoreload 2\n",
    "%config Completer.use_jedi = False\n",
    "\n",
    "import os \n",
    "import sys \n",
    "import json\n",
    "\n",
    "home = os.path.abspath(os.path.join(os.getcwd(), '..', '..', '..'))\n",
    "pths = [os.path.join(home, 'astrobot')]\n",
    "\n",
    "for pth in pths: \n",
    "    if pth not in sys.path: sys.path.insert(0, pth)\n",
    "\n",
    "from astrobot.util import *\n",
    "from astrobot.geomdataframe import GeomDataFrame \n",
    "from astrobot.r import R\n",
    "import astrobot.polymesh as polymesh\n",
    "import astrobot.viz4 as viz\n",
    "from astrobot import bem_util, geom_util, mtx_util\n",
    "\n",
    "\n",
    "import numpy as np \n",
    "import matplotlib.pyplot as plt\n",
    "import pandas as pd\n",
    "import scipy.stats as stats\n",
    "import itertools\n",
    "\n",
    "# Results\n",
    "from honeybee_energy.result.sql import SQLiteResult\n",
    "from honeybee_energy.result import match "
   ]
  },
  {
   "cell_type": "code",
   "execution_count": 25,
   "metadata": {},
   "outputs": [],
   "source": [
    "simdir_path = os.path.join('simulations', 'sim_0')\n",
    "\n",
    "RDD_SRF_DICT = {\n",
    "    'srf_out_temp': 'Surface Outside Face Temperature',\n",
    "    'srf_in_temp': 'Surface Inside Face Temperature',\n",
    "    'srf_heat_loss': 'Surface Window Heat Loss Energy',\n",
    "    'srf_heat_gain': 'Surface Window Heat Gain Energy',\n",
    "    'srf_win_sol': 'Surface Window Transmitted Solar Radiation Energy'\n",
    "}"
   ]
  },
  {
   "cell_type": "code",
   "execution_count": 26,
   "metadata": {},
   "outputs": [
    {
     "data": {
      "text/plain": [
       "mod: ['wwr', 'theta', 'mod_geom', 'mod']\n",
       "spc: ['mod_idx', 'spc_geom']\n",
       "srf: ['mod_idx', 'spc_idx', 'srf_geom', 'type', 'bc']\n",
       "win: ['mod_idx', 'spc_idx', 'srf_idx', 'win_geom']"
      ]
     },
     "execution_count": 26,
     "metadata": {},
     "output_type": "execute_result"
    }
   ],
   "source": [
    "r = R(pd.read_pickle(os.path.join(simdir_path, 'rmod_gen.pkl')))\n",
    "r.spc = pd.read_pickle(os.path.join(simdir_path, 'rspc_gen.pkl'))\n",
    "r.srf = pd.read_pickle(os.path.join(simdir_path, 'rsrf_gen.pkl'))\n",
    "r.win = pd.read_pickle(os.path.join(simdir_path, 'rwin_gen.pkl'))\n",
    "r"
   ]
  },
  {
   "cell_type": "code",
   "execution_count": 27,
   "metadata": {},
   "outputs": [
    {
     "name": "stdout",
     "output_type": "stream",
     "text": [
      "Surface Window Transmitted Solar Radiation Energy\n"
     ]
    }
   ],
   "source": [
    "rdd_srf_var = RDD_SRF_DICT['srf_win_sol']\n",
    "rdatas = []\n",
    "print(rdd_srf_var)\n",
    "for mod in r.mod['mod']:\n",
    "    bldid = mod.identifier.replace('model', 'building')\n",
    "    sql_fpath = os.path.join(simdir_path, bldid, 'run', 'eplusout.sql')\n",
    "\n",
    "    # actual \n",
    "    sql = SQLiteResult(sql_fpath)\n",
    "    rdata = sql.data_collections_by_output_name(rdd_srf_var)\n",
    "    \n",
    "    rdatas.extend(rdata)    "
   ]
  },
  {
   "cell_type": "code",
   "execution_count": 28,
   "metadata": {},
   "outputs": [
    {
     "data": {
      "text/html": [
       "<div>\n",
       "<style scoped>\n",
       "    .dataframe tbody tr th:only-of-type {\n",
       "        vertical-align: middle;\n",
       "    }\n",
       "\n",
       "    .dataframe tbody tr th {\n",
       "        vertical-align: top;\n",
       "    }\n",
       "\n",
       "    .dataframe thead th {\n",
       "        text-align: right;\n",
       "    }\n",
       "</style>\n",
       "<table border=\"1\" class=\"dataframe\">\n",
       "  <thead>\n",
       "    <tr style=\"text-align: right;\">\n",
       "      <th></th>\n",
       "      <th>mod_idx</th>\n",
       "      <th>spc_idx</th>\n",
       "      <th>srf_idx</th>\n",
       "      <th>win_geom</th>\n",
       "      <th>sol</th>\n",
       "      <th>theta</th>\n",
       "      <th>wwr</th>\n",
       "    </tr>\n",
       "    <tr>\n",
       "      <th>idx</th>\n",
       "      <th></th>\n",
       "      <th></th>\n",
       "      <th></th>\n",
       "      <th></th>\n",
       "      <th></th>\n",
       "      <th></th>\n",
       "      <th></th>\n",
       "    </tr>\n",
       "  </thead>\n",
       "  <tbody>\n",
       "    <tr>\n",
       "      <th>0</th>\n",
       "      <td>0</td>\n",
       "      <td>0</td>\n",
       "      <td>3</td>\n",
       "      <td>Aperture: mod_0_spc_0..Face3_Glz1</td>\n",
       "      <td>4.78</td>\n",
       "      <td>0.0</td>\n",
       "      <td>0.20</td>\n",
       "    </tr>\n",
       "    <tr>\n",
       "      <th>1</th>\n",
       "      <td>1</td>\n",
       "      <td>1</td>\n",
       "      <td>9</td>\n",
       "      <td>Aperture: mod_1_spc_0..Face3_Glz1</td>\n",
       "      <td>10.66</td>\n",
       "      <td>270.0</td>\n",
       "      <td>0.20</td>\n",
       "    </tr>\n",
       "    <tr>\n",
       "      <th>2</th>\n",
       "      <td>2</td>\n",
       "      <td>2</td>\n",
       "      <td>15</td>\n",
       "      <td>Aperture: mod_2_spc_0..Face3_Glz1</td>\n",
       "      <td>13.95</td>\n",
       "      <td>180.0</td>\n",
       "      <td>0.20</td>\n",
       "    </tr>\n",
       "    <tr>\n",
       "      <th>3</th>\n",
       "      <td>3</td>\n",
       "      <td>3</td>\n",
       "      <td>21</td>\n",
       "      <td>Aperture: mod_3_spc_0..Face3_Glz1</td>\n",
       "      <td>13.12</td>\n",
       "      <td>0.0</td>\n",
       "      <td>0.55</td>\n",
       "    </tr>\n",
       "    <tr>\n",
       "      <th>4</th>\n",
       "      <td>4</td>\n",
       "      <td>4</td>\n",
       "      <td>27</td>\n",
       "      <td>Aperture: mod_4_spc_0..Face3_Glz1</td>\n",
       "      <td>29.29</td>\n",
       "      <td>270.0</td>\n",
       "      <td>0.55</td>\n",
       "    </tr>\n",
       "    <tr>\n",
       "      <th>5</th>\n",
       "      <td>5</td>\n",
       "      <td>5</td>\n",
       "      <td>33</td>\n",
       "      <td>Aperture: mod_5_spc_0..Face3_Glz1</td>\n",
       "      <td>38.35</td>\n",
       "      <td>180.0</td>\n",
       "      <td>0.55</td>\n",
       "    </tr>\n",
       "    <tr>\n",
       "      <th>6</th>\n",
       "      <td>6</td>\n",
       "      <td>6</td>\n",
       "      <td>39</td>\n",
       "      <td>Aperture: mod_6_spc_0..Face3_Glz1</td>\n",
       "      <td>21.40</td>\n",
       "      <td>0.0</td>\n",
       "      <td>0.90</td>\n",
       "    </tr>\n",
       "    <tr>\n",
       "      <th>7</th>\n",
       "      <td>7</td>\n",
       "      <td>7</td>\n",
       "      <td>45</td>\n",
       "      <td>Aperture: mod_7_spc_0..Face3_Glz1</td>\n",
       "      <td>47.88</td>\n",
       "      <td>270.0</td>\n",
       "      <td>0.90</td>\n",
       "    </tr>\n",
       "    <tr>\n",
       "      <th>8</th>\n",
       "      <td>8</td>\n",
       "      <td>8</td>\n",
       "      <td>51</td>\n",
       "      <td>Aperture: mod_8_spc_0..Face3_Glz1</td>\n",
       "      <td>62.73</td>\n",
       "      <td>180.0</td>\n",
       "      <td>0.90</td>\n",
       "    </tr>\n",
       "  </tbody>\n",
       "</table>\n",
       "</div>"
      ],
      "text/plain": [
       "     mod_idx  spc_idx  srf_idx                           win_geom    sol  \\\n",
       "idx                                                                        \n",
       "0          0        0        3  Aperture: mod_0_spc_0..Face3_Glz1   4.78   \n",
       "1          1        1        9  Aperture: mod_1_spc_0..Face3_Glz1  10.66   \n",
       "2          2        2       15  Aperture: mod_2_spc_0..Face3_Glz1  13.95   \n",
       "3          3        3       21  Aperture: mod_3_spc_0..Face3_Glz1  13.12   \n",
       "4          4        4       27  Aperture: mod_4_spc_0..Face3_Glz1  29.29   \n",
       "5          5        5       33  Aperture: mod_5_spc_0..Face3_Glz1  38.35   \n",
       "6          6        6       39  Aperture: mod_6_spc_0..Face3_Glz1  21.40   \n",
       "7          7        7       45  Aperture: mod_7_spc_0..Face3_Glz1  47.88   \n",
       "8          8        8       51  Aperture: mod_8_spc_0..Face3_Glz1  62.73   \n",
       "\n",
       "     theta   wwr  \n",
       "idx               \n",
       "0      0.0  0.20  \n",
       "1    270.0  0.20  \n",
       "2    180.0  0.20  \n",
       "3      0.0  0.55  \n",
       "4    270.0  0.55  \n",
       "5    180.0  0.55  \n",
       "6      0.0  0.90  \n",
       "7    270.0  0.90  \n",
       "8    180.0  0.90  "
      ]
     },
     "execution_count": 28,
     "metadata": {},
     "output_type": "execute_result"
    }
   ],
   "source": [
    "#r.srf['srf_out_temp'] = [rd.total for f, rd in match.match_faces_to_data(rdatas, r.srf.srf_geom)]\n",
    "matched = match.match_faces_to_data(rdatas, r.srf.srf_geom)\n",
    "\n",
    "r.win['sol'] = [np.round(r.total / 72.0, 2) for f, r in matched]\n",
    "r.win['theta'] = [geom_util.to_lb_theta(t) for t in r.mod['theta']]\n",
    "r.win['wwr'] = r.mod['wwr']\n",
    "r.win[r.win.columns]\n"
   ]
  },
  {
   "cell_type": "code",
   "execution_count": 29,
   "metadata": {},
   "outputs": [],
   "source": [
    "# Viz\n",
    "r.srf['type'] = [srf.type.name for srf in r.srf['srf_geom']]\n",
    "r.srf['bc'] = [srf.boundary_condition.name for srf in r.srf['srf_geom']]\n",
    "r.srf['mtx_geom'] = \\\n",
    "    [polymesh.PolyMesh(geom_util.verts_to_pntmtx(f.vertices)) for f in r.srf['srf_geom']]\n",
    "r.win['mtx_geom'] = \\\n",
    "    [polymesh.PolyMesh(geom_util.verts_to_pntmtx(f.vertices)) for f in r.win['win_geom']]"
   ]
  },
  {
   "cell_type": "code",
   "execution_count": 30,
   "metadata": {},
   "outputs": [
    {
     "name": "stdout",
     "output_type": "stream",
     "text": [
      "Index(['mod_idx', 'spc_idx', 'srf_geom', 'type', 'bc', 'mtx_geom'], dtype='object')\n"
     ]
    }
   ],
   "source": [
    "print(r.srf.columns)\n",
    "device = polymesh.DEFAULT_RENDER_DEVICE()\n",
    "polymeshes_lst = []\n",
    "rgb_mtx_lst = []\n",
    "rgbd = polymesh.RGB_DICT\n",
    "\n",
    "# groupby type\n",
    "#for mod_idx in r.mod['idx']:\n",
    "for t, srfs in r.srf.query('mod_idx == 1').groupby('type'):\n",
    "    trimeshes = srfs.mtx_geom.to_list()\n",
    "    rgb_mtx_lst.extend([trimesh.rgb_mtx(rgbd['blue']/255.0) for trimesh in trimeshes])\n",
    "    polymeshes_lst.extend(trimeshes)\n",
    "    \n",
    "win = r.win.query('mod_idx == 1')\n",
    "win_trimeshes = win.mtx_geom.to_list()\n",
    "\n",
    "polymeshes_lst.extend(win_trimeshes)\n",
    "rgb_mtx_lst.extend([wtmesh.rgb_mtx(rgbd['gold']/255.0) for wtmesh in win_trimeshes])"
   ]
  },
  {
   "cell_type": "code",
   "execution_count": 39,
   "metadata": {},
   "outputs": [
    {
     "data": {
      "image/png": "[encoded data removed]",
      "text/plain": [
       "<Figure size 432x432 with 1 Axes>"
      ]
     },
     "metadata": {
      "needs_background": "light"
     },
     "output_type": "display_data"
    }
   ],
   "source": [
    "pytmeshes = polymesh.pytmeshes(polymeshes_lst, \n",
    "                               textures=polymesh.pytmeshes_textures(rgb_mtx_lst), \n",
    "                               device=device)\n",
    "images = viz.simple_cam(pytmeshes, elev=35, dist=50, azim=-55, \n",
    "                        cam_pt=(0, 2, 0), light_pt=(10, 10, 35))\n",
    "plt.figure(figsize=(6, 6))\n",
    "plt.imshow(images[0, ..., :3].cpu().numpy())\n",
    "plt.grid(False)"
   ]
  },
  {
   "cell_type": "code",
   "execution_count": null,
   "metadata": {},
   "outputs": [],
   "source": []
  }
 ],
 "metadata": {
  "kernelspec": {
   "display_name": "Python 3",
   "language": "python",
   "name": "python3"
  },
  "language_info": {
   "codemirror_mode": {
    "name": "ipython",
    "version": 3
   },
   "file_extension": ".py",
   "mimetype": "text/x-python",
   "name": "python",
   "nbconvert_exporter": "python",
   "pygments_lexer": "ipython3",
   "version": "3.7.7"
  }
 },
 "nbformat": 4,
 "nbformat_minor": 4
}
