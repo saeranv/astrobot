{
 "cells": [
  {
   "cell_type": "code",
   "execution_count": 7,
   "metadata": {},
   "outputs": [
    {
     "name": "stdout",
     "output_type": "stream",
     "text": [
      "The autoreload extension is already loaded. To reload it, use:\n",
      "  %reload_ext autoreload\n"
     ]
    }
   ],
   "source": [
    "%load_ext autoreload\n",
    "%autoreload 2\n",
    "\n",
    "import os \n",
    "import sys \n",
    "import json\n",
    "\n",
    "home = os.path.abspath(os.path.join(os.getcwd(), '..', '..', '..'))\n",
    "pths = [os.path.join(home, 'astrobot')]\n",
    "\n",
    "for pth in pths: \n",
    "    if pth not in sys.path: sys.path.insert(0, pth)\n",
    "\n",
    "from astrobot.utils import *\n",
    "from astrobot.geomdataframe import GeomDataFrame \n",
    "from astrobot.r import R\n",
    "from astrobot import bem_utils\n",
    "from astrobot import geom_utils\n",
    "from astrobot import mtx_utils\n",
    "\n",
    "import numpy as np \n",
    "import matplotlib.pyplot as plt\n",
    "import pandas as pd\n",
    "import scipy.stats as stats\n",
    "import itertools\n",
    "\n",
    "import ladybug_geometry.geometry3d as geom3\n",
    "import ladybug_geometry.geometry2d as geom2\n",
    "from ladybug_geometry_polyskel import polyskel"
   ]
  },
  {
   "cell_type": "code",
   "execution_count": 8,
   "metadata": {},
   "outputs": [],
   "source": [
    "simdir_path = os.path.join('simulations', 'sim_0')"
   ]
  },
  {
   "cell_type": "code",
   "execution_count": 9,
   "metadata": {},
   "outputs": [],
   "source": [
    "# Generate parameters for shoebox, and pickle to account for seed\n",
    "# just uniform sampling for now, and no random seed\n",
    "\n",
    "labels = ['wwr', 'theta']\n",
    "param_mtx = [np.linspace(0.2, 0.9, 5), \n",
    "             np.linspace(0, np.pi * 2, 5)]\n",
    "param_mtx = np.array(list(itertools.product(*param_mtx))).T\n",
    "\n",
    "# Save\n",
    "dfparam = pd.DataFrame({label: row for row, label in zip(param_mtx, labels)})\n",
    "dfparam.to_pickle(os.path.join(simdir_path, 'sample_mtx.pkl'))"
   ]
  },
  {
   "cell_type": "code",
   "execution_count": 10,
   "metadata": {},
   "outputs": [],
   "source": [
    "# Generate floor and wall geometers\n",
    "gdf = GeomDataFrame(pd.read_pickle(os.path.join(simdir_path, 'sample_mtx.pkl')))\n",
    "b = R(gdf)\n",
    "\n",
    "# Generate the footprint and spaces\n",
    "b.mod['mod_geom'] = [geom_utils.face_from_params(theta) for theta in b.mod['theta'].values]\n",
    "spc_geom, spc_mod_idx = geom_utils.split_mod_to_polyskel(b.mod.idx.values, b.mod['mod_geom'].values)\n",
    "b.spc = GeomDataFrame({'mod_idx': spc_mod_idx, 'spc_geom': spc_geom})"
   ]
  },
  {
   "cell_type": "code",
   "execution_count": 11,
   "metadata": {},
   "outputs": [],
   "source": [
    "#space_types = bem_utils.program_space_types('2013::MediumOffice')\n",
    "space_types = [\n",
    "     '2013::MediumOffice::ClosedOffice',\n",
    "     '2013::MediumOffice::OpenOffice', \n",
    "     '2013::MediumOffice::Conference',\n",
    "     '2013::MediumOffice::Corridor',\n",
    "     '2013::MediumOffice::Elec/MechRoom',\n",
    "     '2013::MediumOffice::Restroom']\n",
    "occ = [0.67 / 3.0] * 3\n",
    "oth = [0.33 / 3.0] * 3  \n",
    "space_wts = np.array(occ + oth)\n",
    "blended = bem_utils.program_space_types_blend(space_types, space_wts, 'blended_office')"
   ]
  },
  {
   "cell_type": "code",
   "execution_count": 13,
   "metadata": {},
   "outputs": [],
   "source": [
    "# Make model, assign program, constructions and wwr\n",
    "mods = [0] * b.mod.shape[0]\n",
    "for i, (mod_idx, spcs) in enumerate(b.spc.groupby('mod_idx')):\n",
    "    \n",
    "    mod_df = b.mod.iloc[mod_idx]\n",
    "    \n",
    "    # Make room2ds from spaces\n",
    "    spc_geoms, spc_idxs = spcs['spc_geom'].tolist(), spcs.idx\n",
    "    room2ds = bem_utils.face3ds_to_room2ds(spc_geoms, spc_idxs, mod_idx)\n",
    "    [bem_utils.set_room2d_program_space_type(room, blended) for room in room2ds]\n",
    "    \n",
    "    # Make model from room2ds\n",
    "    model = bem_utils.room2ds_to_model(room2ds, id=str(mod_idx))\n",
    "    bem_utils.set_model_wwr(model, mod_df['wwr'], mod_df['theta'])\n",
    "    bem_utils.set_model_construction_set(model)\n",
    "    \n",
    "    mods[i] = model\n",
    "\n",
    "#b.mod['mod'] = mods"
   ]
  },
  {
   "cell_type": "code",
   "execution_count": 28,
   "metadata": {},
   "outputs": [
    {
     "data": {
      "text/plain": [
       "array([[-6., -3.,  0.],\n",
       "       [ 6., -3.,  0.],\n",
       "       [ 6.,  3.,  0.],\n",
       "       [-6.,  3.,  0.]])"
      ]
     },
     "execution_count": 28,
     "metadata": {},
     "output_type": "execute_result"
    }
   ],
   "source": [
    "# Visualize\n",
    "poly = np.array([p.to_array() for p in b.mod.mod_geom.values[0].vertices])\n",
    "poly\n",
    "\n",
    "\n"
   ]
  }
 ],
 "metadata": {
  "kernelspec": {
   "display_name": "Python 3",
   "language": "python",
   "name": "python3"
  },
  "language_info": {
   "codemirror_mode": {
    "name": "ipython",
    "version": 3
   },
   "file_extension": ".py",
   "mimetype": "text/x-python",
   "name": "python",
   "nbconvert_exporter": "python",
   "pygments_lexer": "ipython3",
   "version": "3.7.7"
  }
 },
 "nbformat": 4,
 "nbformat_minor": 4
}
