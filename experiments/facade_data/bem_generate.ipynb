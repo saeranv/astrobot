{
 "cells": [
  {
   "cell_type": "code",
   "execution_count": 120,
   "metadata": {},
   "outputs": [
    {
     "name": "stdout",
     "output_type": "stream",
     "text": [
      "The autoreload extension is already loaded. To reload it, use:\n",
      "  %reload_ext autoreload\n"
     ]
    }
   ],
   "source": [
    "%load_ext autoreload\n",
    "%autoreload 2\n",
    "\n",
    "import os \n",
    "import sys \n",
    "import json\n",
    "\n",
    "home = os.path.abspath(os.path.join(os.getcwd(), '..','..'))\n",
    "pths = [os.path.join(home, 'astrobot')]\n",
    "\n",
    "for pth in pths: \n",
    "    if pth not in sys.path: sys.path.insert(0, pth)\n",
    "        \n",
    "# # Import modules\n",
    "# from pml.utils import *\n",
    "# from pml.matrix_utils2 import MatrixUtils2 as mu\n",
    "# #from pml.matrix_surface2 import MatrixSurface2\n",
    "# from pml.b2 import B\n",
    "# from pml.shapedataframe import ShapeDataFrame\n",
    "\n",
    "import ladybug_geometry.geometry3d as geom3\n",
    "import ladybug_geometry.geometry2d as geom2\n",
    "# from ladybug_geometry.geometry2d.pointvector import Point2D\n",
    "# from ladybug_geometry.geometry3d.face import Face3D\n",
    "# from ladybug_geometry.geometry2d.polygon import Polygon2D\n",
    "# from ladybug_geometry.geometry2d.line import LineSegment2D\n",
    "from ladybug_geometry_polyskel import polyskel\n",
    "\n",
    "import numpy as np \n",
    "import matplotlib.pyplot as plt\n",
    "import pandas as pd\n",
    "import scipy.stats as stats\n",
    "import itertools"
   ]
  },
  {
   "cell_type": "code",
   "execution_count": 89,
   "metadata": {},
   "outputs": [],
   "source": [
    "simdir_path = os.path.join('simulations', 'sim_0')"
   ]
  },
  {
   "cell_type": "code",
   "execution_count": 105,
   "metadata": {},
   "outputs": [],
   "source": [
    "labels = ['wwr', 'theta']\n",
    "# just uniform sampling for now\n",
    "param_mtx = [np.linspace(0.2, 0.9, 5), \n",
    "             np.linspace(0, np.pi * 2, 5)]\n",
    "param_mtx = np.array(list(itertools.product(*param_mtx))).T\n",
    "\n",
    "# Save\n",
    "dfparam = pd.DataFrame({label: row for row, label in zip(param_mtx, labels)})\n",
    "dfparam.to_pickle(os.path.join(simdir_path, 'sample_mtx.pkl'))"
   ]
  },
  {
   "cell_type": "code",
   "execution_count": 129,
   "metadata": {},
   "outputs": [],
   "source": [
    "dfparam = pd.read_pickle(os.path.join(simdir_path, 'sample_mtx.pkl'))\n",
    "\n",
    "def compute_flr_verts(theta, area=72, dim=12, aspect_ratio=0.5):\n",
    "    \"\"\"Compute floor vertices from theta\"\"\"\n",
    "    origin = geom3.pointvector.Point3D(0, 0, 0)\n",
    "    ns, ew = aspect_ratio * dim, dim\n",
    "    flr_verts = np.array([\n",
    "        [-ew / 2., -ns / 2.,  0],\n",
    "        [ ew / 2., -ns / 2.,  0],\n",
    "        [ ew / 2.,  ns / 2.,  0],\n",
    "        [-ew / 2.,  ns / 2.,  0]])\n",
    "    pts = [geom3.pointvector.Point3D(*flr_vert) for flr_vert in flr_verts]\n",
    "    normal = geom3.pointvector.Vector3D(0, 0, 1)\n",
    "    plane = geom3.plane.Plane(normal, origin.duplicate())\n",
    "    flr = geom3.face.Face3D(pts, plane).rotate(normal, theta, origin)\n",
    "    scale_factor = np.sqrt(area / flr.area)\n",
    "    if np.abs(scale_factor - 1.0) > 1e-10:\n",
    "        flr = flr.scale(scale_factor, origin)\n",
    "    return flr\n",
    "\n",
    "# Generate the floors\n",
    "dfparam['flr_verts'] = [compute_flr_verts(theta) for theta in dfparam['theta'].values]"
   ]
  },
  {
   "cell_type": "code",
   "execution_count": null,
   "metadata": {},
   "outputs": [],
   "source": [
    "# Visualize"
   ]
  }
 ],
 "metadata": {
  "kernelspec": {
   "display_name": "Python 3",
   "language": "python",
   "name": "python3"
  },
  "language_info": {
   "codemirror_mode": {
    "name": "ipython",
    "version": 3
   },
   "file_extension": ".py",
   "mimetype": "text/x-python",
   "name": "python",
   "nbconvert_exporter": "python",
   "pygments_lexer": "ipython3",
   "version": "3.7.7"
  }
 },
 "nbformat": 4,
 "nbformat_minor": 4
}
