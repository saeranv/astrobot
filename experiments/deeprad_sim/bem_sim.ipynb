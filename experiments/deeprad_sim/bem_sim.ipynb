{
 "cells": [
  {
   "cell_type": "code",
   "execution_count": 2,
   "metadata": {},
   "outputs": [
    {
     "output_type": "stream",
     "name": "stdout",
     "text": [
      "The autoreload extension is already loaded. To reload it, use:\n  %reload_ext autoreload\n"
     ]
    }
   ],
   "source": [
    "%load_ext autoreload\n",
    "%autoreload 2\n",
    "%config Completer.use_jedi = False\n",
    "\n",
    "import os \n",
    "import sys \n",
    "import json\n",
    "\n",
    "home = os.path.abspath(os.path.join(os.getcwd(), '..', '..', '..'))\n",
    "pths = [os.path.join(home, 'astrobot')]\n",
    "\n",
    "for pth in pths: \n",
    "    if pth not in sys.path: sys.path.insert(0, pth)\n",
    "\n",
    "from astrobot.util import *\n",
    "from astrobot.geomdataframe import GeomDataFrame \n",
    "from astrobot.r import R\n",
    "import astrobot.viz4 as viz\n",
    "from astrobot import bem_util, geom_util, mtx_util\n",
    "\n",
    "import numpy as np \n",
    "import matplotlib.pyplot as plt\n",
    "import pandas as pd\n",
    "import scipy.stats as stats\n",
    "import itertools\n",
    "\n",
    "# Results\n",
    "from ladybug.sql import SQLiteResult\n",
    "from honeybee_energy.result import match "
   ]
  },
  {
   "cell_type": "code",
   "execution_count": 35,
   "metadata": {},
   "outputs": [
    {
     "output_type": "stream",
     "name": "stdout",
     "text": [
      "gen_dir:  /mnt/c/Users/Administrator/master/git/deeprad/data/models/floorplan_1754\nsim_dir:  /mnt/c/Users/Administrator/master/git/deeprad/data/models/floorplan_1754/simulation\n"
     ]
    }
   ],
   "source": [
    "deeprad_model_dir = os.path.abspath(os.path.join(os.getcwd(), '../../..', 'deeprad/data/models/'))\n",
    "floorplan_id = 'floorplan_1754'\n",
    "\n",
    "gen_dir = os.path.join(deeprad_model_dir, floorplan_id)\n",
    "sim_dir = os.path.join(deeprad_model_dir, floorplan_id, 'simulation')\n",
    "\n",
    "print('gen_dir: ', gen_dir)\n",
    "print('sim_dir: ', sim_dir)\n",
    "\n",
    "RDD_SRF_DICT = {\n",
    "    'srf_out_temp': 'Surface Outside Face Temperature',\n",
    "    'srf_in_temp': 'Surface Inside Face Temperature',\n",
    "    'srf_heat_loss': 'Surface Window Heat Loss Energy',\n",
    "    'srf_heat_gain': 'Surface Window Heat Gain Energy',\n",
    "    'srf_win_sol': 'Surface Window Transmitted Solar Radiation Energy'\n",
    "}"
   ]
  },
  {
   "cell_type": "code",
   "execution_count": 54,
   "metadata": {},
   "outputs": [],
   "source": [
    "r = R(pd.read_pickle(os.path.join(sim_dir, 'rmod_gen.pkl')))\n",
    "r.spc = pd.read_pickle(os.path.join(sim_dir, 'rspc_gen.pkl'))\n",
    "r.srf = pd.read_pickle(os.path.join(sim_dir, 'rsrf_gen.pkl'))\n",
    "r.win = pd.read_pickle(os.path.join(sim_dir, 'rwin_gen.pkl'))\n"
   ]
  },
  {
   "cell_type": "code",
   "execution_count": 51,
   "metadata": {},
   "outputs": [
    {
     "output_type": "stream",
     "name": "stdout",
     "text": [
      "Surface Outside Face Temperature\n"
     ]
    }
   ],
   "source": [
    "#rdd_srf_var = RDD_SRF_DICT['srf_win_sol']\n",
    "rdd_srf_var = RDD_SRF_DICT['srf_out_temp']\n",
    "rdatas = []\n",
    "print(rdd_srf_var)\n",
    "for i, mod in enumerate(r.mod['mod']):\n",
    "    sql_fpath = os.path.join(sim_dir, '{}_model'.format(i), 'OpenStudio', '0_building', 'run', 'eplusout.sql')\n",
    "    sql = SQLiteResult(sql_fpath)\n",
    "    rdata = sql.data_collections_by_output_name(rdd_srf_var)\n",
    "    rdatas.extend(rdata)    "
   ]
  },
  {
   "cell_type": "code",
   "execution_count": 58,
   "metadata": {},
   "outputs": [
    {
     "output_type": "execute_result",
     "data": {
      "text/plain": [
       "     mod_idx  spc_idx                  srf_geom         type         bc  \\\n",
       "idx                                                                       \n",
       "0          0        0  Face: mod_0_spc_0..Face0        Floor  Adiabatic   \n",
       "1          0        0  Face: mod_0_spc_0..Face2         Wall   Outdoors   \n",
       "2          0        0  Face: mod_0_spc_0..Face3         Wall   Outdoors   \n",
       "3          0        0  Face: mod_0_spc_0..Face4         Wall   Outdoors   \n",
       "4          0        0  Face: mod_0_spc_0..Face5  RoofCeiling  Adiabatic   \n",
       "\n",
       "     out_temp  \n",
       "idx            \n",
       "0       20.96  \n",
       "1       17.03  \n",
       "2       14.12  \n",
       "3       17.12  \n",
       "4       21.08  "
      ],
      "text/html": "<div>\n<style scoped>\n    .dataframe tbody tr th:only-of-type {\n        vertical-align: middle;\n    }\n\n    .dataframe tbody tr th {\n        vertical-align: top;\n    }\n\n    .dataframe thead th {\n        text-align: right;\n    }\n</style>\n<table border=\"1\" class=\"dataframe\">\n  <thead>\n    <tr style=\"text-align: right;\">\n      <th></th>\n      <th>type</th>\n      <th>bc</th>\n      <th>out_temp</th>\n    </tr>\n    <tr>\n      <th>idx</th>\n      <th></th>\n      <th></th>\n      <th></th>\n    </tr>\n  </thead>\n  <tbody>\n    <tr>\n      <th>0</th>\n      <td>Floor</td>\n      <td>Adiabatic</td>\n      <td>20.96</td>\n    </tr>\n    <tr>\n      <th>1</th>\n      <td>Wall</td>\n      <td>Outdoors</td>\n      <td>17.03</td>\n    </tr>\n    <tr>\n      <th>2</th>\n      <td>Wall</td>\n      <td>Outdoors</td>\n      <td>14.12</td>\n    </tr>\n    <tr>\n      <th>3</th>\n      <td>Wall</td>\n      <td>Outdoors</td>\n      <td>17.12</td>\n    </tr>\n    <tr>\n      <th>4</th>\n      <td>RoofCeiling</td>\n      <td>Adiabatic</td>\n      <td>21.08</td>\n    </tr>\n  </tbody>\n</table>\n</div>"
     },
     "metadata": {},
     "execution_count": 58
    }
   ],
   "source": [
    "#r.srf['srf_out_temp'] = [rd.total for f, rd in match.match_faces_to_data(rdatas, r.srf.srf_geom)]\n",
    "matched = match.match_faces_to_data(rdatas, r.srf.srf_geom)\n",
    "\n",
    "#r.win['sol'] = [np.round(r.total / 72.0, 2) for f, r in matched]\n",
    "#r.win[r.win.columns]\n",
    "r.srf['out_temp'] = [np.round(r.average, 2) for _, r in matched]\n",
    "r.srf.head()\n"
   ]
  },
  {
   "cell_type": "code",
   "execution_count": 29,
   "metadata": {},
   "outputs": [],
   "source": []
  },
  {
   "cell_type": "code",
   "execution_count": null,
   "metadata": {},
   "outputs": [],
   "source": []
  }
 ],
 "metadata": {
  "kernelspec": {
   "name": "python377jvsc74a57bd09698ca4175b2676ff197f2d323c82cc5ede0532e87e3903e87bf9ca7a63d0295",
   "display_name": "Python 3.7.7 64-bit ('ml': conda)"
  },
  "language_info": {
   "codemirror_mode": {
    "name": "ipython",
    "version": 3
   },
   "file_extension": ".py",
   "mimetype": "text/x-python",
   "name": "python",
   "nbconvert_exporter": "python",
   "pygments_lexer": "ipython3",
   "version": "3.7.7"
  }
 },
 "nbformat": 4,
 "nbformat_minor": 4
}