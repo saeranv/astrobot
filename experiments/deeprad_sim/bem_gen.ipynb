{
 "cells": [
  {
   "cell_type": "code",
   "execution_count": 29,
   "metadata": {},
   "outputs": [
    {
     "output_type": "stream",
     "name": "stdout",
     "text": [
      "The autoreload extension is already loaded. To reload it, use:\n  %reload_ext autoreload\n"
     ]
    }
   ],
   "source": [
    "%load_ext autoreload\n",
    "%autoreload 2\n",
    "%config Completer.use_jedi = False\n",
    "\n",
    "import os \n",
    "import sys \n",
    "import json\n",
    "\n",
    "home = os.path.abspath(os.path.join(os.getcwd(), '..', '..', '..'))\n",
    "pths = [os.path.join(home, 'astrobot')]\n",
    "\n",
    "for pth in pths: \n",
    "    if pth not in sys.path: sys.path.insert(0, pth)\n",
    "\n",
    "from astrobot.util import *\n",
    "from astrobot.geomdataframe import GeomDataFrame \n",
    "from astrobot.r import R\n",
    "from astrobot import bem_util, geom_util, mtx_util\n",
    "#from astrobot.polymesh import PolyMesh\n",
    "\n",
    "import numpy as np \n",
    "import matplotlib.pyplot as plt\n",
    "import pandas as pd\n",
    "import scipy.stats as stats\n",
    "import itertools\n",
    "\n",
    "import ladybug_geometry.geometry3d as geom3\n",
    "import ladybug_geometry.geometry2d as geom2\n",
    "from ladybug_geometry_polyskel import polyskel\n",
    "\n",
    "# Simulation\n",
    "from honeybee_energy.simulation.output import SimulationOutput\n",
    "from honeybee_energy.simulation.parameter import SimulationParameter\n",
    "from ladybug.epw import EPW\n",
    "\n",
    "from shapely.geometry import Polygon\n",
    "\n"
   ]
  },
  {
   "cell_type": "code",
   "execution_count": 30,
   "metadata": {},
   "outputs": [
    {
     "output_type": "stream",
     "name": "stdout",
     "text": [
      "gen_dir:  /mnt/c/Users/Administrator/master/git/deeprad/data/models/floorplan_1754\nsim_dir:  /mnt/c/Users/Administrator/master/git/deeprad/data/models/floorplan_1754/simulation\n"
     ]
    }
   ],
   "source": [
    "#simdir_path = os.path.join('simulations', 'sim_0')\n",
    "\n",
    "deeprad_model_dir = os.path.abspath(os.path.join(os.getcwd(), '../../..', 'deeprad/data/models/'))\n",
    "floorplan_id = 'floorplan_1754'\n",
    "\n",
    "gen_dir = os.path.join(deeprad_model_dir, floorplan_id)\n",
    "sim_dir = os.path.join(deeprad_model_dir, floorplan_id, 'simulation')\n",
    "\n",
    "print('gen_dir: ', gen_dir)\n",
    "print('sim_dir: ', sim_dir)\n"
   ]
  },
  {
   "cell_type": "code",
   "execution_count": 31,
   "metadata": {},
   "outputs": [
    {
     "output_type": "stream",
     "name": "stdout",
     "text": [
      "3\n"
     ]
    }
   ],
   "source": [
    "# Load arrays\n",
    "\n",
    "# TODO: automate this\n",
    "num_rooms = 3\n",
    "poly_np_arr = [] \n",
    "for i in range(num_rooms):\n",
    "    deeprad_fpath = os.path.join(gen_dir, '{}_{}.npy'.format(floorplan_id, i))\n",
    "    poly_np = np.load(deeprad_fpath)\n",
    "    poly_np_arr.append(poly_np)\n",
    "\n",
    "print(len(poly_np_arr))\n",
    "#poly_np_arr"
   ]
  },
  {
   "cell_type": "code",
   "execution_count": 32,
   "metadata": {},
   "outputs": [
    {
     "output_type": "execute_result",
     "data": {
      "text/plain": [
       "(Point3D (0.03, 2.51, 0.00),\n",
       " Point3D (2.37, 2.51, 0.00),\n",
       " Point3D (2.37, 4.31, 0.00),\n",
       " Point3D (0.03, 4.31, 0.00))"
      ]
     },
     "metadata": {},
     "execution_count": 32
    }
   ],
   "source": [
    "\n",
    "\n",
    "# Make Face3d with poly_arr\n",
    "poly_lb_arr = []\n",
    "for poly_np in poly_np_arr:\n",
    "    vertices = [geom3.Point3D(*p) for p in poly_np.T[:-1]]\n",
    "    poly_lb = geom3.Face3D(vertices)\n",
    "    poly_lb_arr.append(poly_lb)\n",
    "\n",
    "# Make gdf and add arrs\n",
    "gdf = GeomDataFrame({'mod': [floorplan_id]})\n",
    "r = R(gdf)\n",
    "\n",
    "r.mod['mod_geom'] = [(poly_lb_arr)]\n",
    "#r.mod['mod_geom'].head()\n",
    "\n",
    "poly_lb_arr[0].vertices"
   ]
  },
  {
   "cell_type": "code",
   "execution_count": 33,
   "metadata": {},
   "outputs": [],
   "source": [
    "#space_types = bem_utils.program_space_types('2013::MediumOffice')\n",
    "space_types = [\n",
    "     '2013::MediumOffice::ClosedOffice',\n",
    "     '2013::MediumOffice::OpenOffice', \n",
    "     '2013::MediumOffice::Conference',\n",
    "     '2013::MediumOffice::Corridor',\n",
    "     '2013::MediumOffice::Elec/MechRoom',\n",
    "     '2013::MediumOffice::Restroom']\n",
    "occ = [0.67 / 3.0] * 3\n",
    "oth = [0.33 / 3.0] * 3  \n",
    "space_wts = np.array(occ + oth)\n",
    "blended = bem_util.program_space_types_blend(space_types, space_wts, 'blended_office')"
   ]
  },
  {
   "cell_type": "code",
   "execution_count": 44,
   "metadata": {},
   "outputs": [],
   "source": [
    "# Make model, assign program, constructions and wwr\n",
    "mods = [0] * r.mod.shape[0]\n",
    "for mod_idx in r.mod.index:\n",
    "            \n",
    "    # extract mod_df_row and geom\n",
    "    mod_df_row = r.mod.iloc[mod_idx]\n",
    "    mod_geom = mod_df_row['mod_geom']\n",
    "    \n",
    "    # make spaces from model geom\n",
    "    spc_geoms = mod_geom  # splits floor into thermal zones\n",
    "    spc_idx = range(len(spc_geoms))\n",
    "    #print(spc_geoms)\n",
    "\n",
    "    # make room2ds from spaces\n",
    "    room2ds = bem_util.face3ds_to_room2ds(spc_geoms, spc_idx, mod_idx)\n",
    "    [bem_util.set_room2d_program_space_type(room, blended) for room in room2ds]\n",
    "\n",
    "    # make model from room2ds\n",
    "    model = bem_util.room2ds_to_model(room2ds, id=str(mod_idx))\n",
    "    # TODO: mutations like this might be more natural as OOP.\n",
    "    # like optimizer(model). Can create custom model, composed of HB model, and custom setters for ml.\n",
    "    # so dataframe is structure, and eigen_models/eigen_spaces are dl-hb extensions.\n",
    "    bem_util.set_model_wwr(model, 0.3, None)\n",
    "    bem_util.set_model_construction_set(model)\n",
    "    mods[mod_idx] = model\n",
    "\n",
    "r.mod['mod'] = mods"
   ]
  },
  {
   "cell_type": "code",
   "execution_count": 69,
   "metadata": {},
   "outputs": [],
   "source": [
    "# TODO: move this into a setter w/ mod_idx, spc_geom args\n",
    "# TODO: make hb_objects into lists and doc why (iterable in array)\n",
    "# TODO: change list parsing to provide dataframe\n",
    "# TODO: enforce check on intializing dataframes for hierarchical indexing\n",
    "\n",
    "# define spaces\n",
    "hbmods = [m.to_honeybee()[0] for m in r.mod['mod']]\n",
    "spc_mod_idxs, spcs = bem_util.spcs_from_mods(hbmods, r.mod.idx)\n",
    "perim_spc_mask = bem_util.perim_spcs_mask(spcs)\n",
    "\n",
    "r.spc = GeomDataFrame(\n",
    "    {'mod_idx': spc_mod_idxs[np.where(perim_spc_mask > 0)], \n",
    "     'spc_geom': [spc for p, spc in zip(perim_spc_mask, spcs) if p > 0]}\n",
    ")\n",
    "\n",
    "# define srfs\n",
    "srf_mod_idxs, srf_spc_idxs, srfs = \\\n",
    "    bem_util.srfs_from_spcs(r.spc['spc_geom'], r.spc.idx, r.spc['mod_idx'])\n",
    "perim_srf_mask = bem_util.perim_srfs_mask(srfs)\n",
    "\n",
    "r.srf = GeomDataFrame(\n",
    "    {'mod_idx': srf_mod_idxs[np.where(perim_srf_mask > 0)],\n",
    "     'spc_idx': srf_spc_idxs[np.where(perim_srf_mask > 0)],\n",
    "     'srf_geom': [srf for p, srf in zip(perim_srf_mask, srfs) if p > 0]}\n",
    ")\n",
    "\n",
    "# define wins\n",
    "win_mod_idxs, win_spc_idxs, win_srf_idxs, wins = \\\n",
    "    bem_util.wins_from_srfs(r.srf['srf_geom'], r.srf.idx, r.srf.spc_idx, r.srf.mod_idx)\n",
    "\n",
    "r.win = GeomDataFrame(\n",
    "    {'mod_idx': win_mod_idxs, \n",
    "     'spc_idx': win_spc_idxs, \n",
    "     'srf_idx': win_srf_idxs,\n",
    "     'win_geom': wins}\n",
    ")"
   ]
  },
  {
   "cell_type": "code",
   "execution_count": 70,
   "metadata": {},
   "outputs": [],
   "source": [
    "# TODO: Mtx > mtx_util, Mtx_geom > mtx_geom_util, mtx_geom, move mtx_utli to Mtx?\n",
    "r.srf['type'] = [srf.type.name for srf in r.srf['srf_geom']]\n",
    "r.srf['bc'] = [srf.boundary_condition.name for srf in r.srf['srf_geom']]"
   ]
  },
  {
   "cell_type": "code",
   "execution_count": 71,
   "metadata": {},
   "outputs": [
    {
     "output_type": "execute_result",
     "data": {
      "text/plain": [
       "'/mnt/c/Users/Administrator/master/git/deeprad/data/models/floorplan_1754/simulation/test_load.hbjson'"
      ]
     },
     "metadata": {},
     "execution_count": 71
    }
   ],
   "source": [
    "h = r.mod['mod'][0].to_honeybee()[0]\n",
    "h.to_hbjson(os.path.join(sim_dir, 'test_load.hbjson'))\n",
    "\n",
    "\n",
    "#print(r.srf.columns)\n",
    "#r.srf.head()#[r.srf.columns].head()\n"
   ]
  },
  {
   "cell_type": "code",
   "execution_count": 22,
   "metadata": {},
   "outputs": [],
   "source": [
    "# TODO: move to bem_utils   \n",
    "sim_par = SimulationParameter()\n",
    "#sim_par.output.add_zone_energy_use()\n",
    "#sim_par.output.add_gains_and_losses(load_type='Total')\n",
    "sim_par.output.add_surface_temperature()\n",
    "sim_par.output.add_surface_energy_flow()\n",
    "sim_par.output.add_glazing_solar()\n",
    "\n",
    "epw_folder, epw_file_name = os.path.split(EPW_FPATH_FOR_EXPERIMENTS)\n",
    "ddy_file = os.path.join(epw_folder, epw_file_name.replace('.epw', '.ddy'))\n",
    "\n",
    "if os.path.isfile(ddy_file):\n",
    "    sim_par.sizing_parameter.add_from_ddy_996_004(ddy_file)\n",
    "else:\n",
    "    print('{} is not a file.'.format(ddy_file))\n",
    "\n",
    "# write out the simulation parameters to a JSON\n",
    "sim_par_dict = sim_par.to_dict()\n",
    "sim_fname = 'custom_simulation_parameter.json'\n",
    "sim_fpath = os.path.abspath(\n",
    "    os.path.join(sim_dir, sim_fname))\n",
    "with open(sim_fpath, 'w') as fp:\n",
    "    json.dump(sim_par_dict, fp)"
   ]
  },
  {
   "cell_type": "code",
   "execution_count": 23,
   "metadata": {},
   "outputs": [],
   "source": [
    "# Simulate\n",
    "# TODO: clean up and functionalize top with sim_mods arg\n",
    "sim_mods = r.mod['mod']\n",
    "model_json_fnames = [0] * sim_mods.shape[0]\n",
    "\n",
    "for i, mod in enumerate(sim_mods):\n",
    "    dest_file = os.path.join(sim_dir, mod.display_name + '.json')\n",
    "    model_json_fnames[i] = mod.display_name + '.json'\n",
    "    with open(dest_file, 'w') as fp:\n",
    "        json.dump(mod.to_dict(), fp, indent=4)\n",
    "  \n",
    "# Write batch files\n",
    "batch_fpath = os.path.join(sim_dir, 'json_batch.sh')\n",
    "epw_abs_fpath = \"C:\\\\Users\\\\Administrator\\\\master\\\\git\\\\astrobot\\\\\" + \\\n",
    "    \"resources\\\\epw\\\\philadelphia\\\\philadelphia.epw\"   \n",
    "sim_abs_fpath = \"C:\\\\Users\\\\Administrator\\\\master\\\\git\\\\deeprad\\\\\" + \\\n",
    "    \"data\\\\models\\\\{}\\\\simulation\\\\custom_simulation_parameter.json\".format(floorplan_id)\n",
    "\n",
    "bem_util.simulate_batch(\n",
    "    batch_fpath, epw_abs_fpath, model_json_fnames, sim_abs_fpath=sim_abs_fpath)\n",
    "\n",
    "r.mod.to_pickle(os.path.join(sim_dir, 'rmod_gen.pkl'))\n",
    "r.spc.to_pickle(os.path.join(sim_dir, 'rspc_gen.pkl'))\n",
    "r.srf.to_pickle(os.path.join(sim_dir, 'rsrf_gen.pkl'))\n",
    "r.win.to_pickle(os.path.join(sim_dir, 'rwin_gen.pkl'))"
   ]
  },
  {
   "cell_type": "code",
   "execution_count": null,
   "metadata": {},
   "outputs": [],
   "source": []
  }
 ],
 "metadata": {
  "kernelspec": {
   "name": "python377jvsc74a57bd09698ca4175b2676ff197f2d323c82cc5ede0532e87e3903e87bf9ca7a63d0295",
   "display_name": "Python 3.7.7 64-bit ('ml': conda)"
  },
  "language_info": {
   "codemirror_mode": {
    "name": "ipython",
    "version": 3
   },
   "file_extension": ".py",
   "mimetype": "text/x-python",
   "name": "python",
   "nbconvert_exporter": "python",
   "pygments_lexer": "ipython3",
   "version": "3.7.7"
  }
 },
 "nbformat": 4,
 "nbformat_minor": 4
}