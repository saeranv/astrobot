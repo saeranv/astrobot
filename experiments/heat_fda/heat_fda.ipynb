{
 "cells": [
  {
   "cell_type": "code",
   "execution_count": 7,
   "metadata": {},
   "outputs": [
    {
     "name": "stdout",
     "output_type": "stream",
     "text": [
      "The autoreload extension is already loaded. To reload it, use:\n",
      "  %reload_ext autoreload\n"
     ]
    },
    {
     "data": {
      "text/plain": [
       "'C:\\\\Users\\\\saeran2\\\\master\\\\git\\\\astrobot\\\\resources\\\\epw\\\\philadelphia\\\\philadelphia.epw'"
      ]
     },
     "execution_count": 7,
     "metadata": {},
     "output_type": "execute_result"
    }
   ],
   "source": [
    "%load_ext autoreload\n",
    "%autoreload 2\n",
    "%config Completer.use_jedi = False\n",
    "\n",
    "import os \n",
    "import sys \n",
    "\n",
    "# TODO: remove '..' if run from root folder\n",
    "home = os.path.abspath(os.path.join(os.getcwd(), '..', '..', '..'))\n",
    "pths = [os.path.join(home, 'astrobot')]\n",
    "\n",
    "for pth in pths: \n",
    "    if pth not in sys.path: sys.path.insert(0, pth)\n",
    "\n",
    "from astrobot.util import *\n",
    "\n",
    "import matplotlib.pyplot as plt \n",
    "import numpy as np \n",
    "from pprint import pprint as pp \n",
    "import pandas as pd \n",
    "\n",
    "# Tab after '.' to get all methods \n",
    "# Tab Shift after () to get documentation.\n",
    "# To read excel data:\n",
    "# pd.read_excel('afn_infil_data.xlsx')\n",
    "# pd.read_clipboard()\n",
    "\n",
    "# For experiments\n",
    "# path to astrobot roo\n",
    "ROOT_DIR\n",
    "\n",
    "# path to this package from experiments folder\n",
    "PACKAGE_FPATH_FOR_EXPERIMENTS\n",
    "\n",
    "# path to epw from experiments folder\n",
    "EPW_FPATH_FOR_EXPERIMENTS"
   ]
  },
  {
   "cell_type": "code",
   "execution_count": 8,
   "metadata": {},
   "outputs": [],
   "source": [
    "# Finite difference approximation of heat conduction in 1d and 2d\n",
    "import heat_fda as fda\n"
   ]
  },
  {
   "cell_type": "code",
   "execution_count": 9,
   "metadata": {},
   "outputs": [
    {
     "data": {
      "image/png": "[encoded data removed]",
      "text/plain": [
       "<Figure size 432x288 with 4 Axes>"
      ]
     },
     "metadata": {
      "needs_background": "light"
     },
     "output_type": "display_data"
    }
   ],
   "source": [
    "# 1d, with for loop (slow)\n",
    "C, p, k = 420, 8, 13.44\n",
    "dimt, dimx = 4, 1.5\n",
    "\n",
    "ux = fda.oned_loop(dimt, dimx, C, p, k)\n",
    "f, a = plt.subplots(4, 1, sharex=True)\n",
    "t = 0\n",
    "for i in np.linspace(0, dimt-1, 4).astype(int):\n",
    "    a[t].imshow(ux[i, :].T, cmap='hot', aspect='equal', vmin=300, vmax=700)\n",
    "    t += 1\n"
   ]
  },
  {
   "cell_type": "code",
   "execution_count": 10,
   "metadata": {},
   "outputs": [
    {
     "data": {
      "image/png": "[encoded data removed]",
      "text/plain": [
       "<Figure size 432x288 with 4 Axes>"
      ]
     },
     "metadata": {
      "needs_background": "light"
     },
     "output_type": "display_data"
    }
   ],
   "source": [
    "# 1d, with matrix\n",
    "C, p, k = 420, 8, 13.44\n",
    "dimt, dimx = 4, 1.5\n",
    "\n",
    "uxy = fda.oned_mtx(dimt, dimx, C, p, k)\n",
    "\n",
    "f, a = plt.subplots(4, 1, sharex=True)\n",
    "t = 0\n",
    "for i in np.linspace(0, dimt-1, 4).astype(int):\n",
    "    a[t].imshow(ux[i, :].T, cmap='hot', aspect='equal', vmin=300, vmax=700)\n",
    "    t += 1"
   ]
  },
  {
   "cell_type": "code",
   "execution_count": 11,
   "metadata": {},
   "outputs": [
    {
     "data": {
      "image/png": "[encoded data removed]",
      "text/plain": [
       "<Figure size 432x288 with 4 Axes>"
      ]
     },
     "metadata": {
      "needs_background": "light"
     },
     "output_type": "display_data"
    }
   ],
   "source": [
    "# 2d with loop\n",
    "C, p, k = 420, 8, 13.44\n",
    "dimt = 201\n",
    "dimx, dimy = 4.1, 4.1 \n",
    "uxy = fda.twod_loop(dimt, dimx, dimy, C, p, k)\n",
    "f, a = plt.subplots(1, 4, sharex=True)\n",
    "t = 0\n",
    "for i in np.linspace(0, dimt-1, 4).astype(int):\n",
    "    a[t].imshow(uxy[i, :, :], cmap='hot', aspect='equal', vmin=300, vmax=700)\n",
    "    t += 1"
   ]
  },
  {
   "cell_type": "code",
   "execution_count": 12,
   "metadata": {},
   "outputs": [
    {
     "name": "stdout",
     "output_type": "stream",
     "text": [
      "# of nodes: 0.5/0.1 = 5\n",
      "temp [[18.325833 16.651667 14.9825   13.318333 11.659167]]\n"
     ]
    },
    {
     "data": {
      "text/plain": [
       "<matplotlib.image.AxesImage at 0x1ed6fae53a0>"
      ]
     },
     "execution_count": 12,
     "metadata": {},
     "output_type": "execute_result"
    },
    {
     "data": {
      "image/png": "[encoded data removed]",
      "text/plain": [
       "<Figure size 432x288 with 1 Axes>"
      ]
     },
     "metadata": {
      "needs_background": "light"
     },
     "output_type": "display_data"
    }
   ],
   "source": [
    "# 1d steady state heat conduction \n",
    "k = 2 # W/m2-k\n",
    "dimx = 0.5 #1.5\n",
    "T0, TL = 20, 10\n",
    "ux = fda.oned_steady_state(dimx, T0, TL, k)\n",
    "print('temp', np.round(ux.T, 6))\n",
    "plt.imshow(ux.T, cmap='hot', aspect='equal')#, vmin=0, vmax=100)"
   ]
  },
  {
   "cell_type": "code",
   "execution_count": null,
   "metadata": {},
   "outputs": [],
   "source": []
  },
  {
   "cell_type": "code",
   "execution_count": 13,
   "metadata": {},
   "outputs": [
    {
     "data": {
      "text/plain": [
       "array([[103.73, 136.04]])"
      ]
     },
     "execution_count": 13,
     "metadata": {},
     "output_type": "execute_result"
    }
   ],
   "source": [
    "# Solution for Cengel problem 5-1, pg. 319\n",
    "Q = 5e6  # W/m3\n",
    "Tinf = 30 # C \n",
    "T0 = 0  # C \n",
    "k = 28  # W/mK \n",
    "dx = 0.02  # m \n",
    "dx2 = dx * dx \n",
    "h = 45  # W/m2K\n",
    "\n",
    "# y: 2 x 1\n",
    "y = np.array(\n",
    "    [[Q * dx2 / k + T0], \n",
    "     [-(h * dx / k) * Tinf - (Q * dx2) / (2 * k)]\n",
    "    ]\n",
    ")\n",
    "\n",
    "assert y.shape == (2, 1), y.shape\n",
    "#assert np.allclose(y[0, 0], 71.43, 1e-2)\n",
    "#assert np.allclose(y[1, 0], -36.68, 1e-2)\n",
    "\n",
    "# A: 2 x 3\n",
    "A = np.array(\n",
    "    [[ 2, -1],\n",
    "     [ 1, -(1 + (h * dx / k))]]\n",
    "    )\n",
    "\n",
    "#assert A.shape == (2, 3)\n",
    "#assert np.allclose([[0, 2, -1], [0, 1, -1.032]], A, atol=1e-3)\n",
    "\n",
    "# x: 4 x 1 = [T0, T1, T2, Tinf]\n",
    "\n",
    "Ainv = np.linalg.pinv(A)  \n",
    "#assert Ainv.shape == (3, 2)\n",
    "\n",
    "# Solve \n",
    "#A * x = y \n",
    "#A-1 * y = x \n",
    "x = Ainv @ y\n",
    "#assert x.shape == (3, 1)\n",
    "\n",
    "np.round(x.T, 2) \n",
    "\n",
    "# T0 = 0 \n",
    "# T1 = 103.73\n",
    "# T2 = 136.\n"
   ]
  },
  {
   "cell_type": "code",
   "execution_count": null,
   "metadata": {},
   "outputs": [],
   "source": []
  }
 ],
 "metadata": {
  "kernelspec": {
   "display_name": "Python 3",
   "language": "python",
   "name": "python3"
  },
  "language_info": {
   "codemirror_mode": {
    "name": "ipython",
    "version": 3
   },
   "file_extension": ".py",
   "mimetype": "text/x-python",
   "name": "python",
   "nbconvert_exporter": "python",
   "pygments_lexer": "ipython3",
   "version": "3.8.10"
  }
 },
 "nbformat": 4,
 "nbformat_minor": 4
}
