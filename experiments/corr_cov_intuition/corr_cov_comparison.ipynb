{
 "metadata": {
  "language_info": {
   "codemirror_mode": {
    "name": "ipython",
    "version": 3
   },
   "file_extension": ".py",
   "mimetype": "text/x-python",
   "name": "python",
   "nbconvert_exporter": "python",
   "pygments_lexer": "ipython3",
   "version": "3.9.5"
  },
  "orig_nbformat": 2,
  "kernelspec": {
   "name": "python3",
   "display_name": "Python 3.9.5 64-bit ('ml': conda)"
  },
  "metadata": {
   "interpreter": {
    "hash": "62cfbefde3460959c4eddda3e28ff7e666a58a9f2ea7341e4434581c548a266d"
   }
  },
  "interpreter": {
   "hash": "de02f6dec8425232785b5e8ad7862aa028740e575246da6855442165288af63b"
  }
 },
 "nbformat": 4,
 "nbformat_minor": 2,
 "cells": [
  {
   "cell_type": "code",
   "execution_count": 2,
   "source": [
    "%load_ext autoreload\r\n",
    "%autoreload 2\r\n",
    "%config Completer.use_jedi = False\r\n",
    "\r\n",
    "import os \r\n",
    "import sys \r\n",
    "\r\n",
    "# TODO: may have to add '..' if move from root folder\r\n",
    "home = os.path.abspath(os.path.join(os.getcwd(), '..', '..', '..'))\r\n",
    "pths = [os.path.join(home, 'astrobot')]\r\n",
    "\r\n",
    "for pth in pths: \r\n",
    "    if pth not in sys.path: sys.path.insert(0, pth)\r\n",
    "\r\n",
    "from astrobot.util import *\r\n",
    "\r\n",
    "import matplotlib.pyplot as plt \r\n",
    "import numpy as np \r\n",
    "from pprint import pprint as pp \r\n",
    "# import pandas as pd \r\n",
    "\r\n",
    "# Tab after '.' to get all methods \r\n",
    "# Tab Shift after () to get documentation.\r\n",
    "# To read excel data:\r\n",
    "# pd.read_excel('afn_infil_data.xlsx')\r\n",
    "# pd.read_clipboard()\r\n",
    "\r\n",
    "# For experiments\r\n",
    "# path to astrobot roo\r\n",
    "ROOT_DIR\r\n",
    "\r\n",
    "# path to this package from experiments folder\r\n",
    "PACKAGE_FPATH_FOR_EXPERIMENTS\r\n",
    "\r\n",
    "# path to epw from experiments folder\r\n",
    "EPW_FPATH_FOR_EXPERIMENTS"
   ],
   "outputs": [
    {
     "output_type": "stream",
     "name": "stdout",
     "text": [
      "The autoreload extension is already loaded. To reload it, use:\n",
      "  %reload_ext autoreload\n"
     ]
    },
    {
     "output_type": "execute_result",
     "data": {
      "text/plain": [
       "'c:\\\\Users\\\\saera\\\\master\\\\astrobot\\\\resources\\\\epw\\\\philadelphia\\\\philadelphia.epw'"
      ]
     },
     "metadata": {},
     "execution_count": 2
    }
   ],
   "metadata": {}
  },
  {
   "cell_type": "code",
   "execution_count": 22,
   "source": [
    "mu = [100, 100]  \r\n",
    "std = [5, 50]\r\n",
    "corr = 0.8\r\n",
    "covs = np.array(\r\n",
    "    [[std[0]**2          , std[0]*std[1]*corr], \r\n",
    "     [std[0]*std[1]*corr,           std[1]**2]])\r\n",
    "\r\n",
    "print(covs)\r\n",
    "m = np.random.multivariate_normal(mu, covs, 1000).T\r\n",
    "\r\n",
    "f, a = plt.subplots(2, sharex=True)\r\n",
    "_ = a[0].hist(m[0])\r\n",
    "_ = a[1].hist(m[1])\r\n",
    "\r\n",
    "f, a = plt.subplots(1)\r\n",
    "a.scatter(m[0], m[1])"
   ],
   "outputs": [
    {
     "output_type": "stream",
     "name": "stdout",
     "text": [
      "[[  25.  200.]\n",
      " [ 200. 2500.]]\n"
     ]
    },
    {
     "output_type": "execute_result",
     "data": {
      "text/plain": [
       "<matplotlib.collections.PathCollection at 0x1f31b51adc0>"
      ]
     },
     "metadata": {},
     "execution_count": 22
    },
    {
     "output_type": "display_data",
     "data": {
      "text/plain": [
       "<Figure size 432x288 with 2 Axes>"
      ],
      "image/png": "[encoded data removed]"
     },
     "metadata": {
      "needs_background": "light"
     }
    },
    {
     "output_type": "display_data",
     "data": {
      "text/plain": [
       "<Figure size 432x288 with 1 Axes>"
      ],
      "image/png": "[encoded data removed]"
     },
     "metadata": {
      "needs_background": "light"
     }
    }
   ],
   "metadata": {}
  },
  {
   "cell_type": "code",
   "execution_count": 23,
   "source": [
    "def cov(X, Y):\r\n",
    "    return np.mean((X - X.mean()) * (Y - Y.mean()))\r\n",
    "def cor(X, Y):\r\n",
    "    return cov(X, Y) / (np.std(X) * np.std(Y))\r\n",
    "\r\n",
    "def mtx(m, fx):\r\n",
    "    return np.array(\r\n",
    "        [[fx(m[0], m[0]), fx(m[0], m[1])],  \r\n",
    "         [fx(m[1], m[0]), fx(m[1], m[1])]]\r\n",
    "        ).round(2)\r\n",
    "\r\n",
    "def rmse(m):\r\n",
    "    m0 = m[0] - m[0].mean()\r\n",
    "    m1 = m[1] - m[1].mean()\r\n",
    "    return np.sqrt(np.mean((m0 - m1) ** 2))\r\n",
    "\r\n",
    "# [[ 625. 1000.]\r\n",
    "#  [1000. 2500.]]\r\n",
    "\r\n",
    "print('Sqrt of Covariance (co-std):')\r\n",
    "print(np.sqrt(mtx(m, cov)))\r\n",
    "print('\\nCorrelation:')   \r\n",
    "print(mtx(m, cor))\r\n",
    "print('RMSE:')\r\n",
    "print(rmse(m))\r\n",
    "\r\n",
    "\r\n"
   ],
   "outputs": [
    {
     "output_type": "stream",
     "name": "stdout",
     "text": [
      "Sqrt of Covariance (co-std):\n",
      "[[ 4.83528696 13.7018247 ]\n",
      " [13.7018247  49.58064138]]\n",
      "\n",
      "Correlation:\n",
      "[[1.   0.78]\n",
      " [0.78 1.  ]]\n",
      "RMSE:\n",
      "45.90315962038108\n"
     ]
    }
   ],
   "metadata": {}
  },
  {
   "cell_type": "code",
   "execution_count": 24,
   "source": [
    "\"\"\"\r\n",
    "Std ~ 5, 50\r\n",
    "\r\n",
    "Sqrt of Covariance (co-std):\r\n",
    "[[ 5.15654923 14.58972241]\r\n",
    " [14.58972241 51.63370992]]\r\n",
    "\r\n",
    "Correlation:\r\n",
    "[[1.  0.8]\r\n",
    " [0.8 1. ]]\r\n",
    "\r\n",
    "RMSE:\r\n",
    "47.63726409851255\r\n",
    "\r\n",
    "\r\n",
    "Std ~ 50, 50\r\n",
    "\r\n",
    "Sqrt of Covariance (co-std):\r\n",
    "[[48.9752999  43.49632168]\r\n",
    " [43.49632168 48.6359949 ]]\r\n",
    "\r\n",
    "Correlation:\r\n",
    "[[1.   0.79]\r\n",
    " [0.79 1.  ]]\r\n",
    "\r\n",
    "RMSE:\r\n",
    "31.308288940237514\r\n",
    "\"\"\"\r\n"
   ],
   "outputs": [
    {
     "output_type": "execute_result",
     "data": {
      "text/plain": [
       "'\\nStd ~ 5, 50\\n\\nSqrt of Covariance (co-std):\\n[[ 5.15654923 14.58972241]\\n [14.58972241 51.63370992]]\\n\\nCorrelation:\\n[[1.  0.8]\\n [0.8 1. ]]\\nRMSE:\\n47.63726409851255\\n\\n\\nStd ~ 50, 50\\n\\nSqrt of Covariance (co-std):\\n[[48.9752999  43.49632168]\\n [43.49632168 48.6359949 ]]\\n\\nCorrelation:\\n[[1.   0.79]\\n [0.79 1.  ]]\\nRMSE:\\n31.308288940237514\\n'"
      ]
     },
     "metadata": {},
     "execution_count": 24
    }
   ],
   "metadata": {}
  },
  {
   "cell_type": "code",
   "execution_count": null,
   "source": [],
   "outputs": [],
   "metadata": {}
  }
 ]
}