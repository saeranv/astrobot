{
 "cells": [
  {
   "cell_type": "code",
   "execution_count": 1,
   "metadata": {},
   "outputs": [
    {
     "name": "stdout",
     "output_type": "stream",
     "text": [
      " 25.567138 seconds (22.39 M allocations: 1.390 GiB, 2.82% gc time)\n"
     ]
    },
    {
     "data": {
      "text/plain": [
       "1000"
      ]
     },
     "execution_count": 1,
     "metadata": {},
     "output_type": "execute_result"
    }
   ],
   "source": [
    "@time begin \n",
    "    using Pkg \n",
    "    using DataFrames \n",
    "    using Pandas \n",
    "    using Distributions\n",
    "    using StatsPlots \n",
    "    using PyCall\n",
    "\n",
    "    # For module reloading\n",
    "    try\n",
    "        using Revise\n",
    "    catch e\n",
    "        @warn \"Error initializing Revise\" exception=(e, catch_backtrace())\n",
    "    end\n",
    "\n",
    "    # Change defaults for jupyter viz of dataframe cols/rows\n",
    "    ENV[\"columns\"] = 1000\n",
    "    ENV[\"lines\"] = 1000\n",
    "end "
   ]
  },
  {
   "cell_type": "code",
   "execution_count": 2,
   "metadata": {},
   "outputs": [
    {
     "name": "stdout",
     "output_type": "stream",
     "text": [
      "C:\\Users\\saera\\master\\astrobot\n",
      "\n",
      "  0.060001 seconds (22.68 k allocations: 1.296 MiB, 56.87% compilation time)\n"
     ]
    }
   ],
   "source": [
    "@time begin \n",
    "    scriptdir = cd(pwd, \"../..\") \n",
    "    PyCall.pushfirst!(PyVector(pyimport(\"sys\")[\"path\"]), scriptdir)\n",
    "    energy_survey = pyimport(\"astrobot.energy_survey\")\n",
    "    es = energy_survey.EnergySurvey()\n",
    "    println(scriptdir, \"\\n\")\n",
    "end "
   ]
  },
  {
   "cell_type": "code",
   "execution_count": 3,
   "metadata": {},
   "outputs": [
    {
     "name": "stdout",
     "output_type": "stream",
     "text": [
      "\n"
     ]
    }
   ],
   "source": [
    "begin\n",
    "    dd = es.com_survey_df()\n",
    "    kk = es.com_key_df()\n",
    "\n",
    "    # TODO: initial data cleaning\n",
    "    # dd = dd.query(\"vacant != 1 and monuse > 10\")\n",
    "    # dd = dd.query(\"yrcon > 2000\") \n",
    "    dd = es.loads(dd)\n",
    "\n",
    "    # Convert to julia df\n",
    "    dd = DataFrames.DataFrame(Pandas.DataFrame(dd));\n",
    "    kk = DataFrames.DataFrame(Pandas.DataFrame(kk));\n",
    "    println(\"\")\n",
    "end "
   ]
  },
  {
   "cell_type": "code",
   "execution_count": 4,
   "metadata": {},
   "outputs": [
    {
     "name": "stdout",
     "output_type": "stream",
     "text": [
      "'1' = 'New England'\n",
      "'2' = 'Middle Atlantic'\n",
      "'3' = 'East North Central'\n",
      "'4' = 'West North Central'\n",
      "'5' = 'South Atlantic'\n",
      "'6' = 'East South Central'\n",
      "'7' = 'West South Central'\n",
      "'8' = 'Mountain'\n",
      "'9' = 'Pacific'\n",
      "---\n",
      "\n",
      "'01' = 'Vacant'\n",
      "'02' = 'Office'\n",
      "'04' = 'Laboratory'\n",
      "'05' = 'Nonrefrigerated warehouse'\n",
      "'06' = 'Food sales'\n",
      "'07' = 'Public order and safety'\n",
      "'08' = 'Outpatient health care'\n",
      "'11' = 'Refrigerated warehouse'\n",
      "'12' = 'Religious worship'\n",
      "'13' = 'Public assembly'\n",
      "'14' = 'Education'\n",
      "'15' = 'Food service'\n",
      "'16' = 'Inpatient health care'\n",
      "'17' = 'Nursing'\n",
      "'18' = 'Lodging'\n",
      "'23' = 'Strip shopping mall'\n",
      "'24' = 'Enclosed mall'\n",
      "'25' = 'Retail other than mall'\n",
      "'26' = 'Service'\n",
      "'91' = 'Other'\n",
      "---\n",
      "\n"
     ]
    }
   ],
   "source": [
    "begin \n",
    "    regions = kk[3, 7]\n",
    "    bldtypes = kk[4, 7] \n",
    "\n",
    "    println(regions)\n",
    "    println(\"---\\n\")\n",
    "    println(bldtypes)\n",
    "    println(\"---\\n\")\n",
    "end"
   ]
  },
  {
   "cell_type": "code",
   "execution_count": 5,
   "metadata": {},
   "outputs": [
    {
     "data": {
      "text/plain": [
       "5-element Vector{String}:\n",
       " \"PUBID\"\n",
       " \"REGION\"\n",
       " \"CENDIV\"\n",
       " \"PBA\"\n",
       " \"FREESTN\""
      ]
     },
     "execution_count": 5,
     "metadata": {},
     "output_type": "execute_result"
    }
   ],
   "source": [
    "# :pba = 2 office\n",
    "# :region = 1 New England\n",
    "kk[1:5,2]"
   ]
  },
  {
   "cell_type": "code",
   "execution_count": 113,
   "metadata": {},
   "outputs": [
    {
     "name": "stdout",
     "output_type": "stream",
     "text": [
      "_data[1:5, :] = 5×4 DataFrame\n",
      " Row │ heat     pba    region  finalwt\n",
      "     │ Float64  Int64  Int64   Float64\n",
      "─────┼──────────────────────────────────\n",
      "   1 │     0.0      1       1   146.021\n",
      "   2 │     0.0      1       1   327.511\n",
      "   3 │     0.0      1       1   575.39\n",
      "   4 │     0.0      1       1  1145.08\n",
      "   5 │     0.0      1       1  1145.08\n",
      "# of bldings = 5.557138453172112e6\n",
      "# of idx = 6720\n"
     ]
    }
   ],
   "source": [
    "begin \n",
    "    # q_arr: all t, h, wts\n",
    "    _data = sort!(dd[:, [:heat, :pba, :region, :finalwt]])\n",
    "    N_finalwt = sum(_data[:, :finalwt])\n",
    "    N = size(_data)[1]\n",
    "    @show _data[1:5, :]\n",
    "    println(\"# of bldings = \", N_finalwt);\n",
    "    println(\"# of idx = \", N);\n",
    "    #q_arr[1:5, :]\n",
    "end "
   ]
  },
  {
   "cell_type": "code",
   "execution_count": 114,
   "metadata": {},
   "outputs": [
    {
     "name": "stdout",
     "output_type": "stream",
     "text": [
      "typeof(X) = DataType\n",
      "fieldnames(X) = (:x,)\n",
      "propertynames(X) = (:name, :super, :parameters, :types, :names, :instance, :layout, :size, :ninitialized, :hash, :abstract, :mutable, :hasfreetypevars, :isconcretetype, :isdispatchtuple, :isbitstype, :zeroinit, :isinlinealloc, :has_concrete_subtype, :cached_by_hash)\n",
      "false\n"
     ]
    },
    {
     "data": {
      "text/html": [
       "1-element Vector{Method}:<ul><li> groupby(df::<b>AbstractDataFrame</b>, cols; <i>sort, skipmissing</i>) in DataFrames at <a href=\"file://C:/Users/saera/.julia/packages/DataFrames/vuMM8/src/groupeddataframe/groupeddataframe.jl\" target=\"_blank\">C:\\Users\\saera\\.julia\\packages\\DataFrames\\vuMM8\\src\\groupeddataframe\\groupeddataframe.jl:207</a></ul>"
      ],
      "text/plain": [
       "[1] groupby(df::AbstractDataFrame, cols; sort, skipmissing) in DataFrames at C:\\Users\\saera\\.julia\\packages\\DataFrames\\vuMM8\\src\\groupeddataframe\\groupeddataframe.jl:207"
      ]
     },
     "execution_count": 114,
     "metadata": {},
     "output_type": "execute_result"
    }
   ],
   "source": [
    "# function mquery(dt::Any; query::String=\"\", inmod::Union{Nothing, Module}=Nothing)\n",
    "#     if inmod isa Module \n",
    "#         method_arr = methodswith(typeof(dt), inmod, supertypes=true)\n",
    "#     else\n",
    "#         method_arr = methodswith(typeof(dt), supertypes=true)\n",
    "#     end\n",
    "#     return [m for m in method_arr if contains(String(m.name), query)]\n",
    "#     end \n",
    "\n",
    "function mquery(dt::Any, query::String=\"\")\n",
    "    method_arr = methodswith(typeof(dt), supertypes=true)\n",
    "    return [m for m in method_arr if contains(String(m.name), query)]\n",
    "    end \n",
    "    \n",
    "function mquery(dt::Any, inmod::Module, query::String=\"\")\n",
    "    method_arr = methodswith(typeof(dt), inmod, supertypes=true)\n",
    "    return [m for m in method_arr if contains(String(m.name), query)]\n",
    "    end \n",
    "\n",
    "\n",
    "struct X\n",
    "    x::Int32\n",
    "end \n",
    "y(X) = 3 * X.x\n",
    "x = X(2)\n",
    "y(x)\n",
    "@show typeof(X);\n",
    "@show fieldnames(X);  # properties defined in constructor\n",
    "@show propertynames(X);  # datatype properties\n",
    "println(X.mutable)\n",
    "methodswith(typeof(X));  # functions you can use w/ type\n",
    "meth = mquery(_data, \"group\")"
   ]
  },
  {
   "cell_type": "code",
   "execution_count": 122,
   "metadata": {},
   "outputs": [
    {
     "name": "stdout",
     "output_type": "stream",
     "text": [
      "eui range: 1023.0853846153847 - 0.0\n"
     ]
    },
    {
     "data": {
      "text/html": [
       "<div class=\"data-frame\"><p>5 rows × 5 columns</p><table class=\"data-frame\"><thead><tr><th></th><th>bin_heat</th><th>heat</th><th>pba</th><th>region</th><th>finalwt</th></tr><tr><th></th><th title=\"Float64\">Float64</th><th title=\"Float64\">Float64</th><th title=\"Int64\">Int64</th><th title=\"Int64\">Int64</th><th title=\"Float64\">Float64</th></tr></thead><tbody><tr><th>1</th><td>455.0</td><td>455.43</td><td>16</td><td>1</td><td>2.65274</td></tr><tr><th>2</th><td>460.0</td><td>461.653</td><td>26</td><td>3</td><td>1162.26</td></tr><tr><th>3</th><td>470.0</td><td>474.796</td><td>16</td><td>1</td><td>2.65274</td></tr><tr><th>4</th><td>845.0</td><td>849.353</td><td>13</td><td>3</td><td>11.705</td></tr><tr><th>5</th><td>1020.0</td><td>1023.09</td><td>91</td><td>1</td><td>1868.4</td></tr></tbody></table></div>"
      ],
      "text/latex": [
       "\\begin{tabular}{r|ccccc}\n",
       "\t& bin\\_heat & heat & pba & region & finalwt\\\\\n",
       "\t\\hline\n",
       "\t& Float64 & Float64 & Int64 & Int64 & Float64\\\\\n",
       "\t\\hline\n",
       "\t1 & 455.0 & 455.43 & 16 & 1 & 2.65274 \\\\\n",
       "\t2 & 460.0 & 461.653 & 26 & 3 & 1162.26 \\\\\n",
       "\t3 & 470.0 & 474.796 & 16 & 1 & 2.65274 \\\\\n",
       "\t4 & 845.0 & 849.353 & 13 & 3 & 11.705 \\\\\n",
       "\t5 & 1020.0 & 1023.09 & 91 & 1 & 1868.4 \\\\\n",
       "\\end{tabular}\n"
      ],
      "text/plain": [
       "\u001b[1m5×5 DataFrame\u001b[0m\n",
       "\u001b[1m Row \u001b[0m│\u001b[1m bin_heat \u001b[0m\u001b[1m heat     \u001b[0m\u001b[1m pba   \u001b[0m\u001b[1m region \u001b[0m\u001b[1m finalwt    \u001b[0m\n",
       "\u001b[1m     \u001b[0m│\u001b[90m Float64  \u001b[0m\u001b[90m Float64  \u001b[0m\u001b[90m Int64 \u001b[0m\u001b[90m Int64  \u001b[0m\u001b[90m Float64    \u001b[0m\n",
       "─────┼───────────────────────────────────────────────\n",
       "   1 │    455.0   455.43      16       1     2.65274\n",
       "   2 │    460.0   461.653     26       3  1162.26\n",
       "   3 │    470.0   474.796     16       1     2.65274\n",
       "   4 │    845.0   849.353     13       3    11.705\n",
       "   5 │   1020.0  1023.09      91       1  1868.4"
      ]
     },
     "execution_count": 122,
     "metadata": {},
     "output_type": "execute_result"
    }
   ],
   "source": [
    "eui_sort = reverse(sort(_data[:, :heat]))\n",
    "println(\"eui range: \", eui_sort[1], \" - \", eui_sort[N])\n",
    "#eui_bins = [0:5:1500;] # histogram bins from 0 - 1500 in inc=5\n",
    "# Not very efficient, but good enough...\n",
    "eui_bins = zeros(N)\n",
    "for i in range(1, length=N)\n",
    "    _eui = _data[i, :heat]\n",
    "    eui_bins[i] = _eui - (_eui%5)\n",
    "end\n",
    "_data[!, \"bin_heat\"] = eui_bins;\n",
    "last(_data[:, [:bin_heat, :heat, :pba, :region, :finalwt]], 5)"
   ]
  },
  {
   "cell_type": "code",
   "execution_count": 124,
   "metadata": {},
   "outputs": [
    {
     "name": "stdout",
     "output_type": "stream",
     "text": [
      "GroupedDataFrame with 20 groups based on key: pba\n",
      "GroupedDataFrame with 4 groups based on key: region\n",
      "GroupedDataFrame with 67 groups based on key: bin_heat\n"
     ]
    }
   ],
   "source": [
    "# :pba = 4 office\n",
    "# :region = 1 New England\n",
    "# Check if P(EUI | Office, New England) == P(EUI | Office | New England)\n",
    "# P(E | T) = P(E) P(T | E) / P(T)\n",
    "\n",
    "\"\"\"\n",
    "    create_pmf(data, col)\n",
    "\n",
    "Creates pmf as N x 2 matrix with quantities and associated probability.\n",
    "\"\"\"\n",
    "function create_pmf(data_df::DataFrames.DataFrame, col::String)    \n",
    "    groupdf = DataFrames.groupby(data_df, [col]);\n",
    "    N_groups = length(groupdf);\n",
    "    println(summary(groupdf));\n",
    "    p_pba = [sum(_df[:, :finalwt]) for _df in groupdf]\n",
    "    k_pba = [_df[1, col] for _df in groupdf]  # get key for each group\n",
    "    pmf_pba = hcat(k_pba, p_pba / sum(p_pba))  # normalize\n",
    "    @assert abs(sum(pmf_pba[:, 2]) - 1.0) < 1e-10 \"pmf does not sum to 1\"\n",
    "    return pmf_pba\n",
    "end \n",
    "\n",
    "pmf_pba = create_pmf(_data, \"pba\");\n",
    "pmf_reg = create_pmf(_data, \"region\");\n",
    "pmf_heat = create_pmf(_data, \"bin_heat\");"
   ]
  },
  {
   "cell_type": "code",
   "execution_count": 104,
   "metadata": {},
   "outputs": [],
   "source": [
    "# TODO: create pmf multiplication: pmfA * pmfB ????"
   ]
  },
  {
   "cell_type": "code",
   "execution_count": 24,
   "metadata": {},
   "outputs": [
    {
     "data": {
      "text/html": [
       "63-element Vector{Method}:<ul><li> getindex(gd::<b>GroupedDataFrame</b>, idxs::<b>Colon</b>) in DataFrames at <a href=\"file://C:/Users/saera/.julia/packages/DataFrames/vuMM8/src/groupeddataframe/groupeddataframe.jl\" target=\"_blank\">C:\\Users\\saera\\.julia\\packages\\DataFrames\\vuMM8\\src\\groupeddataframe\\groupeddataframe.jl:460</a><li> getindex(gd::<b>GroupedDataFrame</b>, idxs::<b>AbstractVector{var\"#s285\"} where var\"#s285\"<:Integer</b>) in DataFrames at <a href=\"file://C:/Users/saera/.julia/packages/DataFrames/vuMM8/src/groupeddataframe/groupeddataframe.jl\" target=\"_blank\">C:\\Users\\saera\\.julia\\packages\\DataFrames\\vuMM8\\src\\groupeddataframe\\groupeddataframe.jl:441</a><li> getindex(gd::<b>GroupedDataFrame</b>, idx::<b>Integer</b>) in DataFrames at <a href=\"file://C:/Users/saera/.julia/packages/DataFrames/vuMM8/src/groupeddataframe/groupeddataframe.jl\" target=\"_blank\">C:\\Users\\saera\\.julia\\packages\\DataFrames\\vuMM8\\src\\groupeddataframe\\groupeddataframe.jl:437</a><li> getindex(gd::<b>GroupedDataFrame</b>, idx...) in DataFrames at <a href=\"file://C:/Users/saera/.julia/packages/DataFrames/vuMM8/src/groupeddataframe/groupeddataframe.jl\" target=\"_blank\">C:\\Users\\saera\\.julia\\packages\\DataFrames\\vuMM8\\src\\groupeddataframe\\groupeddataframe.jl:651</a><li> get(gd::<b>GroupedDataFrame</b>, key::<b>Union{Tuple, AbstractDict{Symbol, V} where V, AbstractDict{var\"#s285\", V} where {var\"#s285\"<:AbstractString, V}, NamedTuple, DataFrames.GroupKey}</b>, default) in DataFrames at <a href=\"file://C:/Users/saera/.julia/packages/DataFrames/vuMM8/src/groupeddataframe/groupeddataframe.jl\" target=\"_blank\">C:\\Users\\saera\\.julia\\packages\\DataFrames\\vuMM8\\src\\groupeddataframe\\groupeddataframe.jl:943</a><li> combine(f::<b>Union{Function, Type}</b>, gd::<b>GroupedDataFrame</b>; <i>keepkeys, ungroup, renamecols</i>) in DataFrames at <a href=\"file://C:/Users/saera/.julia/packages/DataFrames/vuMM8/src/groupeddataframe/splitapplycombine.jl\" target=\"_blank\">C:\\Users\\saera\\.julia\\packages\\DataFrames\\vuMM8\\src\\groupeddataframe\\splitapplycombine.jl:690</a><li> combine(f::<b>Pair</b>, gd::<b>GroupedDataFrame</b>; <i>keepkeys, ungroup, renamecols</i>) in DataFrames at <a href=\"file://C:/Users/saera/.julia/packages/DataFrames/vuMM8/src/groupeddataframe/splitapplycombine.jl\" target=\"_blank\">C:\\Users\\saera\\.julia\\packages\\DataFrames\\vuMM8\\src\\groupeddataframe\\splitapplycombine.jl:699</a><li> combine(gd::<b>GroupedDataFrame</b>, cs::<b>Union{Regex, AbstractString, Function, Signed, Symbol, Unsigned, Pair, AbstractVector{T} where T, Type, All, Between, Cols, InvertedIndex, AbstractVecOrMat{var\"#s428\"} where var\"#s428\"<:Pair}...</b>; <i>keepkeys, ungroup, renamecols</i>) in DataFrames at <a href=\"file://C:/Users/saera/.julia/packages/DataFrames/vuMM8/src/groupeddataframe/splitapplycombine.jl\" target=\"_blank\">C:\\Users\\saera\\.julia\\packages\\DataFrames\\vuMM8\\src\\groupeddataframe\\splitapplycombine.jl:707</a><li> groupcols(gd::<b>GroupedDataFrame</b>) in DataFrames at <a href=\"file://C:/Users/saera/.julia/packages/DataFrames/vuMM8/src/groupeddataframe/groupeddataframe.jl\" target=\"_blank\">C:\\Users\\saera\\.julia\\packages\\DataFrames\\vuMM8\\src\\groupeddataframe\\groupeddataframe.jl:362</a><li> groupindices(gd::<b>GroupedDataFrame</b>) in DataFrames at <a href=\"file://C:/Users/saera/.julia/packages/DataFrames/vuMM8/src/groupeddataframe/groupeddataframe.jl\" target=\"_blank\">C:\\Users\\saera\\.julia\\packages\\DataFrames\\vuMM8\\src\\groupeddataframe\\groupeddataframe.jl:355</a><li> select(f::<b>Union{Function, Type}</b>, gd::<b>GroupedDataFrame</b>; <i>copycols, keepkeys, ungroup, renamecols</i>) in DataFrames at <a href=\"file://C:/Users/saera/.julia/packages/DataFrames/vuMM8/src/groupeddataframe/splitapplycombine.jl\" target=\"_blank\">C:\\Users\\saera\\.julia\\packages\\DataFrames\\vuMM8\\src\\groupeddataframe\\splitapplycombine.jl:711</a><li> select(gd::<b>GroupedDataFrame</b>, args::<b>Union{Regex, AbstractString, Function, Signed, Symbol, Unsigned, Pair, AbstractVector{T} where T, Type, All, Between, Cols, InvertedIndex, AbstractVecOrMat{var\"#s428\"} where var\"#s428\"<:Pair}...</b>; <i>copycols, keepkeys, ungroup, renamecols</i>) in DataFrames at <a href=\"file://C:/Users/saera/.julia/packages/DataFrames/vuMM8/src/groupeddataframe/splitapplycombine.jl\" target=\"_blank\">C:\\Users\\saera\\.julia\\packages\\DataFrames\\vuMM8\\src\\groupeddataframe\\splitapplycombine.jl:722</a><li> select!(f::<b>Union{Function, Type}</b>, gd::<b>GroupedDataFrame</b>; <i>ungroup, renamecols</i>) in DataFrames at <a href=\"file://C:/Users/saera/.julia/packages/DataFrames/vuMM8/src/groupeddataframe/splitapplycombine.jl\" target=\"_blank\">C:\\Users\\saera\\.julia\\packages\\DataFrames\\vuMM8\\src\\groupeddataframe\\splitapplycombine.jl:745</a><li> select!(gd::<b>GroupedDataFrame{DataFrames.DataFrame}</b>, args::<b>Union{Regex, AbstractString, Function, Signed, Symbol, Unsigned, Pair, AbstractVector{T} where T, Type, All, Between, Cols, InvertedIndex, AbstractVecOrMat{var\"#s428\"} where var\"#s428\"<:Pair}...</b>; <i>ungroup, renamecols</i>) in DataFrames at <a href=\"file://C:/Users/saera/.julia/packages/DataFrames/vuMM8/src/groupeddataframe/splitapplycombine.jl\" target=\"_blank\">C:\\Users\\saera\\.julia\\packages\\DataFrames\\vuMM8\\src\\groupeddataframe\\splitapplycombine.jl:752</a><li> subset(gdf::<b>GroupedDataFrame</b>, args...; <i>skipmissing, view, ungroup</i>) in DataFrames at <a href=\"file://C:/Users/saera/.julia/packages/DataFrames/vuMM8/src/abstractdataframe/subset.jl\" target=\"_blank\">C:\\Users\\saera\\.julia\\packages\\DataFrames\\vuMM8\\src\\abstractdataframe\\subset.jl:177</a><li> subset!(gdf::<b>GroupedDataFrame</b>, args...; <i>skipmissing, ungroup</i>) in DataFrames at <a href=\"file://C:/Users/saera/.julia/packages/DataFrames/vuMM8/src/abstractdataframe/subset.jl\" target=\"_blank\">C:\\Users\\saera\\.julia\\packages\\DataFrames\\vuMM8\\src\\abstractdataframe\\subset.jl:295</a><li> transform(f::<b>Union{Function, Type}</b>, gd::<b>GroupedDataFrame</b>; <i>copycols, keepkeys, ungroup, renamecols</i>) in DataFrames at <a href=\"file://C:/Users/saera/.julia/packages/DataFrames/vuMM8/src/groupeddataframe/splitapplycombine.jl\" target=\"_blank\">C:\\Users\\saera\\.julia\\packages\\DataFrames\\vuMM8\\src\\groupeddataframe\\splitapplycombine.jl:726</a><li> transform(gd::<b>GroupedDataFrame</b>, args::<b>Union{Regex, AbstractString, Function, Signed, Symbol, Unsigned, Pair, AbstractVector{T} where T, Type, All, Between, Cols, InvertedIndex, AbstractVecOrMat{var\"#s428\"} where var\"#s428\"<:Pair}...</b>; <i>copycols, keepkeys, ungroup, renamecols</i>) in DataFrames at <a href=\"file://C:/Users/saera/.julia/packages/DataFrames/vuMM8/src/groupeddataframe/splitapplycombine.jl\" target=\"_blank\">C:\\Users\\saera\\.julia\\packages\\DataFrames\\vuMM8\\src\\groupeddataframe\\splitapplycombine.jl:734</a><li> transform!(f::<b>Union{Function, Type}</b>, gd::<b>GroupedDataFrame</b>; <i>ungroup, renamecols</i>) in DataFrames at <a href=\"file://C:/Users/saera/.julia/packages/DataFrames/vuMM8/src/groupeddataframe/splitapplycombine.jl\" target=\"_blank\">C:\\Users\\saera\\.julia\\packages\\DataFrames\\vuMM8\\src\\groupeddataframe\\splitapplycombine.jl:762</a><li> transform!(gd::<b>GroupedDataFrame{DataFrames.DataFrame}</b>, args::<b>Union{Regex, AbstractString, Function, Signed, Symbol, Unsigned, Pair, AbstractVector{T} where T, Type, All, Between, Cols, InvertedIndex, AbstractVecOrMat{var\"#s428\"} where var\"#s428\"<:Pair}...</b>; <i>ungroup, renamecols</i>) in DataFrames at <a href=\"file://C:/Users/saera/.julia/packages/DataFrames/vuMM8/src/groupeddataframe/splitapplycombine.jl\" target=\"_blank\">C:\\Users\\saera\\.julia\\packages\\DataFrames\\vuMM8\\src\\groupeddataframe\\splitapplycombine.jl:769</a><li> valuecols(gd::<b>GroupedDataFrame</b>) in DataFrames at <a href=\"file://C:/Users/saera/.julia/packages/DataFrames/vuMM8/src/groupeddataframe/groupeddataframe.jl\" target=\"_blank\">C:\\Users\\saera\\.julia\\packages\\DataFrames\\vuMM8\\src\\groupeddataframe\\groupeddataframe.jl:373</a><li> filter(::<b>Pair{var\"#s284\", B} where {var\"#s284\"<:AsTable, B}</b>, gdf::<b>GroupedDataFrame</b>) in DataFrames at <a href=\"file://C:/Users/saera/.julia/packages/DataFrames/vuMM8/src/groupeddataframe/groupeddataframe.jl\" target=\"_blank\">C:\\Users\\saera\\.julia\\packages\\DataFrames\\vuMM8\\src\\groupeddataframe\\groupeddataframe.jl:1030</a><li> filter(::<b>Pair{var\"#s284\", B} where {var\"#s284\"<:AbstractVector{Int64}, B}</b>, gdf::<b>GroupedDataFrame</b>) in DataFrames at <a href=\"file://C:/Users/saera/.julia/packages/DataFrames/vuMM8/src/groupeddataframe/groupeddataframe.jl\" target=\"_blank\">C:\\Users\\saera\\.julia\\packages\\DataFrames\\vuMM8\\src\\groupeddataframe\\groupeddataframe.jl:1013</a><li> filter(::<b>Pair{var\"#s284\", B} where {var\"#s284\"<:(AbstractVector{var\"#s180\"} where var\"#s180\"<:AbstractString), B}</b>, gdf::<b>GroupedDataFrame</b>) in DataFrames at <a href=\"file://C:/Users/saera/.julia/packages/DataFrames/vuMM8/src/groupeddataframe/groupeddataframe.jl\" target=\"_blank\">C:\\Users\\saera\\.julia\\packages\\DataFrames\\vuMM8\\src\\groupeddataframe\\groupeddataframe.jl:1009</a><li> filter(::<b>Pair{var\"#s284\", B} where {var\"#s284\"<:AbstractVector{Symbol}, B}</b>, gdf::<b>GroupedDataFrame</b>) in DataFrames at <a href=\"file://C:/Users/saera/.julia/packages/DataFrames/vuMM8/src/groupeddataframe/groupeddataframe.jl\" target=\"_blank\">C:\\Users\\saera\\.julia\\packages\\DataFrames\\vuMM8\\src\\groupeddataframe\\groupeddataframe.jl:1007</a><li> filter(::<b>Pair{var\"#s284\", B} where {var\"#s284\"<:Union{AbstractString, Signed, Symbol, Unsigned}, B}</b>, gdf::<b>GroupedDataFrame</b>) in DataFrames at <a href=\"file://C:/Users/saera/.julia/packages/DataFrames/vuMM8/src/groupeddataframe/groupeddataframe.jl\" target=\"_blank\">C:\\Users\\saera\\.julia\\packages\\DataFrames\\vuMM8\\src\\groupeddataframe\\groupeddataframe.jl:1005</a><li> filter(::<b>Pair</b>, gdf::<b>GroupedDataFrame</b>) in DataFrames at <a href=\"file://C:/Users/saera/.julia/packages/DataFrames/vuMM8/src/groupeddataframe/groupeddataframe.jl\" target=\"_blank\">C:\\Users\\saera\\.julia\\packages\\DataFrames\\vuMM8\\src\\groupeddataframe\\groupeddataframe.jl:1011</a><li> filter(f, gdf::<b>GroupedDataFrame</b>) in DataFrames at <a href=\"file://C:/Users/saera/.julia/packages/DataFrames/vuMM8/src/groupeddataframe/groupeddataframe.jl\" target=\"_blank\">C:\\Users\\saera\\.julia\\packages\\DataFrames\\vuMM8\\src\\groupeddataframe\\groupeddataframe.jl:1003</a><li> length(gd::<b>GroupedDataFrame</b>) in DataFrames at <a href=\"file://C:/Users/saera/.julia/packages/DataFrames/vuMM8/src/groupeddataframe/groupeddataframe.jl\" target=\"_blank\">C:\\Users\\saera\\.julia\\packages\\DataFrames\\vuMM8\\src\\groupeddataframe\\groupeddataframe.jl:402</a><li> firstindex(gd::<b>GroupedDataFrame</b>) in DataFrames at <a href=\"file://C:/Users/saera/.julia/packages/DataFrames/vuMM8/src/groupeddataframe/groupeddataframe.jl\" target=\"_blank\">C:\\Users\\saera\\.julia\\packages\\DataFrames\\vuMM8\\src\\groupeddataframe\\groupeddataframe.jl:418</a><li> keys(gd::<b>GroupedDataFrame</b>) in DataFrames at <a href=\"file://C:/Users/saera/.julia/packages/DataFrames/vuMM8/src/groupeddataframe/groupeddataframe.jl\" target=\"_blank\">C:\\Users\\saera\\.julia\\packages\\DataFrames\\vuMM8\\src\\groupeddataframe\\groupeddataframe.jl:852</a><li> keys(::<b>IndexLinear</b>, gd::<b>GroupedDataFrame</b>) in DataFrames at <a href=\"file://C:/Users/saera/.julia/packages/DataFrames/vuMM8/src/groupeddataframe/groupeddataframe.jl\" target=\"_blank\">C:\\Users\\saera\\.julia\\packages\\DataFrames\\vuMM8\\src\\groupeddataframe\\groupeddataframe.jl:434</a><li> lastindex(gd::<b>GroupedDataFrame</b>) in DataFrames at <a href=\"file://C:/Users/saera/.julia/packages/DataFrames/vuMM8/src/groupeddataframe/groupeddataframe.jl\" target=\"_blank\">C:\\Users\\saera\\.julia\\packages\\DataFrames\\vuMM8\\src\\groupeddataframe\\groupeddataframe.jl:419</a><li> ==(gd1::<b>GroupedDataFrame</b>, gd2::<b>GroupedDataFrame</b>) in DataFrames at <a href=\"file://C:/Users/saera/.julia/packages/DataFrames/vuMM8/src/groupeddataframe/groupeddataframe.jl\" target=\"_blank\">C:\\Users\\saera\\.julia\\packages\\DataFrames\\vuMM8\\src\\groupeddataframe\\groupeddataframe.jl:302</a><li> axes(gd::<b>GroupedDataFrame</b>, i::<b>Integer</b>) in DataFrames at <a href=\"file://C:/Users/saera/.julia/packages/DataFrames/vuMM8/src/groupeddataframe/groupeddataframe.jl\" target=\"_blank\">C:\\Users\\saera\\.julia\\packages\\DataFrames\\vuMM8\\src\\groupeddataframe\\groupeddataframe.jl:425</a><li> first(gd::<b>GroupedDataFrame</b>) in DataFrames at <a href=\"file://C:/Users/saera/.julia/packages/DataFrames/vuMM8/src/groupeddataframe/groupeddataframe.jl\" target=\"_blank\">C:\\Users\\saera\\.julia\\packages\\DataFrames\\vuMM8\\src\\groupeddataframe\\groupeddataframe.jl:427</a><li> getproperty(gd::<b>GroupedDataFrame</b>, f::<b>Symbol</b>) in DataFrames at <a href=\"file://C:/Users/saera/.julia/packages/DataFrames/vuMM8/src/groupeddataframe/groupeddataframe.jl\" target=\"_blank\">C:\\Users\\saera\\.julia\\packages\\DataFrames\\vuMM8\\src\\groupeddataframe\\groupeddataframe.jl:264</a><li> haskey(gd::<b>GroupedDataFrame</b>, key::<b>Union{Signed, Unsigned}</b>) in DataFrames at <a href=\"file://C:/Users/saera/.julia/packages/DataFrames/vuMM8/src/groupeddataframe/groupeddataframe.jl\" target=\"_blank\">C:\\Users\\saera\\.julia\\packages\\DataFrames\\vuMM8\\src\\groupeddataframe\\groupeddataframe.jl:889</a><li> haskey(gd::<b>GroupedDataFrame</b>, key::<b>AbstractDict{var\"#s285\", V} where {var\"#s285\"<:(Union{Symbol, var\"#s284\"} where var\"#s284\"<:AbstractString), V}</b>) in DataFrames at <a href=\"file://C:/Users/saera/.julia/packages/DataFrames/vuMM8/src/groupeddataframe/groupeddataframe.jl\" target=\"_blank\">C:\\Users\\saera\\.julia\\packages\\DataFrames\\vuMM8\\src\\groupeddataframe\\groupeddataframe.jl:886</a><li> haskey(gd::<b>GroupedDataFrame</b>, key::<b>NamedTuple{N, T} where T<:Tuple</b>)<i> where N</i> in DataFrames at <a href=\"file://C:/Users/saera/.julia/packages/DataFrames/vuMM8/src/groupeddataframe/groupeddataframe.jl\" target=\"_blank\">C:\\Users\\saera\\.julia\\packages\\DataFrames\\vuMM8\\src\\groupeddataframe\\groupeddataframe.jl:878</a><li> haskey(gd::<b>GroupedDataFrame</b>, key::<b>Tuple</b>) in DataFrames at <a href=\"file://C:/Users/saera/.julia/packages/DataFrames/vuMM8/src/groupeddataframe/groupeddataframe.jl\" target=\"_blank\">C:\\Users\\saera\\.julia\\packages\\DataFrames\\vuMM8\\src\\groupeddataframe\\groupeddataframe.jl:870</a><li> haskey(gd::<b>GroupedDataFrame</b>, key::<b>DataFrames.GroupKey</b>) in DataFrames at <a href=\"file://C:/Users/saera/.julia/packages/DataFrames/vuMM8/src/groupeddataframe/groupeddataframe.jl\" target=\"_blank\">C:\\Users\\saera\\.julia\\packages\\DataFrames\\vuMM8\\src\\groupeddataframe\\groupeddataframe.jl:857</a><li> isequal(gd1::<b>GroupedDataFrame</b>, gd2::<b>GroupedDataFrame</b>) in DataFrames at <a href=\"file://C:/Users/saera/.julia/packages/DataFrames/vuMM8/src/groupeddataframe/groupeddataframe.jl\" target=\"_blank\">C:\\Users\\saera\\.julia\\packages\\DataFrames\\vuMM8\\src\\groupeddataframe\\groupeddataframe.jl:308</a><li> iterate(gd::<b>GroupedDataFrame</b>) in DataFrames at <a href=\"file://C:/Users/saera/.julia/packages/DataFrames/vuMM8/src/groupeddataframe/groupeddataframe.jl\" target=\"_blank\">C:\\Users\\saera\\.julia\\packages\\DataFrames\\vuMM8\\src\\groupeddataframe\\groupeddataframe.jl:404</a><li> iterate(gd::<b>GroupedDataFrame</b>, i) in DataFrames at <a href=\"file://C:/Users/saera/.julia/packages/DataFrames/vuMM8/src/groupeddataframe/groupeddataframe.jl\" target=\"_blank\">C:\\Users\\saera\\.julia\\packages\\DataFrames\\vuMM8\\src\\groupeddataframe\\groupeddataframe.jl:404</a><li> last(gd::<b>GroupedDataFrame</b>) in DataFrames at <a href=\"file://C:/Users/saera/.julia/packages/DataFrames/vuMM8/src/groupeddataframe/groupeddataframe.jl\" target=\"_blank\">C:\\Users\\saera\\.julia\\packages\\DataFrames\\vuMM8\\src\\groupeddataframe\\groupeddataframe.jl:428</a><li> map(f, gdf::<b>GroupedDataFrame</b>) in DataFrames at <a href=\"file://C:/Users/saera/.julia/packages/DataFrames/vuMM8/src/groupeddataframe/groupeddataframe.jl\" target=\"_blank\">C:\\Users\\saera\\.julia\\packages\\DataFrames\\vuMM8\\src\\groupeddataframe\\groupeddataframe.jl:1049</a><li> names(gd::<b>GroupedDataFrame</b>) in DataFrames at <a href=\"file://C:/Users/saera/.julia/packages/DataFrames/vuMM8/src/groupeddataframe/groupeddataframe.jl\" target=\"_blank\">C:\\Users\\saera\\.julia\\packages\\DataFrames\\vuMM8\\src\\groupeddataframe\\groupeddataframe.jl:314</a><li> names(gd::<b>GroupedDataFrame</b>, cols) in DataFrames at <a href=\"file://C:/Users/saera/.julia/packages/DataFrames/vuMM8/src/groupeddataframe/groupeddataframe.jl\" target=\"_blank\">C:\\Users\\saera\\.julia\\packages\\DataFrames\\vuMM8\\src\\groupeddataframe\\groupeddataframe.jl:315</a><li> ndims(::<b>GroupedDataFrame</b>) in DataFrames at <a href=\"file://C:/Users/saera/.julia/packages/DataFrames/vuMM8/src/groupeddataframe/groupeddataframe.jl\" target=\"_blank\">C:\\Users\\saera\\.julia\\packages\\DataFrames\\vuMM8\\src\\groupeddataframe\\groupeddataframe.jl:415</a><li> parent(gd::<b>GroupedDataFrame</b>) in DataFrames at <a href=\"file://C:/Users/saera/.julia/packages/DataFrames/vuMM8/src/groupeddataframe/groupeddataframe.jl\" target=\"_blank\">C:\\Users\\saera\\.julia\\packages\\DataFrames\\vuMM8\\src\\groupeddataframe\\groupeddataframe.jl:300</a><li> show(io::<b>IO</b>, gd::<b>GroupedDataFrame</b>; <i>allgroups, allrows, allcols, rowlabel, summary, truncate, kwargs...</i>) in DataFrames at <a href=\"file://C:/Users/saera/.julia/packages/DataFrames/vuMM8/src/groupeddataframe/show.jl\" target=\"_blank\">C:\\Users\\saera\\.julia\\packages\\DataFrames\\vuMM8\\src\\groupeddataframe\\show.jl:9</a><li> show(io::<b>IO</b>, mime::<b>MIME{Symbol(\"text/latex\")}</b>, gd::<b>GroupedDataFrame</b>) in DataFrames at <a href=\"file://C:/Users/saera/.julia/packages/DataFrames/vuMM8/src/abstractdataframe/io.jl\" target=\"_blank\">C:\\Users\\saera\\.julia\\packages\\DataFrames\\vuMM8\\src\\abstractdataframe\\io.jl:440</a><li> show(io::<b>IO</b>, mime::<b>MIME{Symbol(\"text/csv\")}</b>, gd::<b>GroupedDataFrame</b>) in DataFrames at <a href=\"file://C:/Users/saera/.julia/packages/DataFrames/vuMM8/src/abstractdataframe/io.jl\" target=\"_blank\">C:\\Users\\saera\\.julia\\packages\\DataFrames\\vuMM8\\src\\abstractdataframe\\io.jl:560</a><li> show(io::<b>IO</b>, mime::<b>MIME{Symbol(\"text/tab-separated-values\")}</b>, gd::<b>GroupedDataFrame</b>) in DataFrames at <a href=\"file://C:/Users/saera/.julia/packages/DataFrames/vuMM8/src/abstractdataframe/io.jl\" target=\"_blank\">C:\\Users\\saera\\.julia\\packages\\DataFrames\\vuMM8\\src\\abstractdataframe\\io.jl:568</a><li> show(io::<b>IO</b>, mime::<b>MIME{Symbol(\"text/html\")}</b>, gd::<b>GroupedDataFrame</b>) in DataFrames at <a href=\"file://C:/Users/saera/.julia/packages/DataFrames/vuMM8/src/abstractdataframe/io.jl\" target=\"_blank\">C:\\Users\\saera\\.julia\\packages\\DataFrames\\vuMM8\\src\\abstractdataframe\\io.jl:291</a><li> show(df::<b>GroupedDataFrame</b>; <i>allrows, allcols, allgroups, rowlabel, summary, truncate, kwargs...</i>) in DataFrames at <a href=\"file://C:/Users/saera/.julia/packages/DataFrames/vuMM8/src/groupeddataframe/show.jl\" target=\"_blank\">C:\\Users\\saera\\.julia\\packages\\DataFrames\\vuMM8\\src\\groupeddataframe\\show.jl:71</a><li> size(gd::<b>GroupedDataFrame</b>) in DataFrames at <a href=\"file://C:/Users/saera/.julia/packages/DataFrames/vuMM8/src/groupeddataframe/groupeddataframe.jl\" target=\"_blank\">C:\\Users\\saera\\.julia\\packages\\DataFrames\\vuMM8\\src\\groupeddataframe\\groupeddataframe.jl:412</a><li> size(gd::<b>GroupedDataFrame</b>, i::<b>Integer</b>) in DataFrames at <a href=\"file://C:/Users/saera/.julia/packages/DataFrames/vuMM8/src/groupeddataframe/groupeddataframe.jl\" target=\"_blank\">C:\\Users\\saera\\.julia\\packages\\DataFrames\\vuMM8\\src\\groupeddataframe\\groupeddataframe.jl:413</a><li> summary(io::<b>IO</b>, gd::<b>GroupedDataFrame</b>) in DataFrames at <a href=\"file://C:/Users/saera/.julia/packages/DataFrames/vuMM8/src/groupeddataframe/show.jl\" target=\"_blank\">C:\\Users\\saera\\.julia\\packages\\DataFrames\\vuMM8\\src\\groupeddataframe\\show.jl:1</a><li> to_indices(gd::<b>GroupedDataFrame</b>, ::<b>Tuple{InvertedIndex{var\"#s284\"} where var\"#s284\"<:Union{BitVector, Vector{Bool}}}</b>) in DataFrames at <a href=\"file://C:/Users/saera/.julia/packages/DataFrames/vuMM8/src/groupeddataframe/groupeddataframe.jl\" target=\"_blank\">C:\\Users\\saera\\.julia\\packages\\DataFrames\\vuMM8\\src\\groupeddataframe\\groupeddataframe.jl:756</a><li> to_indices(gd::<b>GroupedDataFrame</b>, ::<b>Tuple{InvertedIndex{var\"#s284\"} where var\"#s284\"<:AbstractVector{Bool}}</b>) in DataFrames at <a href=\"file://C:/Users/saera/.julia/packages/DataFrames/vuMM8/src/groupeddataframe/groupeddataframe.jl\" target=\"_blank\">C:\\Users\\saera\\.julia\\packages\\DataFrames\\vuMM8\\src\\groupeddataframe\\groupeddataframe.jl:760</a><li> to_indices(gd::<b>GroupedDataFrame</b>, ::<b>Tuple{InvertedIndex}</b>) in DataFrames at <a href=\"file://C:/Users/saera/.julia/packages/DataFrames/vuMM8/src/groupeddataframe/groupeddataframe.jl\" target=\"_blank\">C:\\Users\\saera\\.julia\\packages\\DataFrames\\vuMM8\\src\\groupeddataframe\\groupeddataframe.jl:747</a></ul>"
      ],
      "text/plain": [
       "[1] getindex(gd::GroupedDataFrame, idxs::Colon) in DataFrames at C:\\Users\\saera\\.julia\\packages\\DataFrames\\vuMM8\\src\\groupeddataframe\\groupeddataframe.jl:460\n",
       "[2] getindex(gd::GroupedDataFrame, idxs::AbstractVector{var\"#s285\"} where var\"#s285\"<:Integer) in DataFrames at C:\\Users\\saera\\.julia\\packages\\DataFrames\\vuMM8\\src\\groupeddataframe\\groupeddataframe.jl:441\n",
       "[3] getindex(gd::GroupedDataFrame, idx::Integer) in DataFrames at C:\\Users\\saera\\.julia\\packages\\DataFrames\\vuMM8\\src\\groupeddataframe\\groupeddataframe.jl:437\n",
       "[4] getindex(gd::GroupedDataFrame, idx...) in DataFrames at C:\\Users\\saera\\.julia\\packages\\DataFrames\\vuMM8\\src\\groupeddataframe\\groupeddataframe.jl:651\n",
       "[5] get(gd::GroupedDataFrame, key::Union{Tuple, AbstractDict{Symbol, V} where V, AbstractDict{var\"#s285\", V} where {var\"#s285\"<:AbstractString, V}, NamedTuple, DataFrames.GroupKey}, default) in DataFrames at C:\\Users\\saera\\.julia\\packages\\DataFrames\\vuMM8\\src\\groupeddataframe\\groupeddataframe.jl:943\n",
       "[6] combine(f::Union{Function, Type}, gd::GroupedDataFrame; keepkeys, ungroup, renamecols) in DataFrames at C:\\Users\\saera\\.julia\\packages\\DataFrames\\vuMM8\\src\\groupeddataframe\\splitapplycombine.jl:690\n",
       "[7] combine(f::Pair, gd::GroupedDataFrame; keepkeys, ungroup, renamecols) in DataFrames at C:\\Users\\saera\\.julia\\packages\\DataFrames\\vuMM8\\src\\groupeddataframe\\splitapplycombine.jl:699\n",
       "[8] combine(gd::GroupedDataFrame, cs::Union{Regex, AbstractString, Function, Signed, Symbol, Unsigned, Pair, AbstractVector{T} where T, Type, All, Between, Cols, InvertedIndex, AbstractVecOrMat{var\"#s428\"} where var\"#s428\"<:Pair}...; keepkeys, ungroup, renamecols) in DataFrames at C:\\Users\\saera\\.julia\\packages\\DataFrames\\vuMM8\\src\\groupeddataframe\\splitapplycombine.jl:707\n",
       "[9] groupcols(gd::GroupedDataFrame) in DataFrames at C:\\Users\\saera\\.julia\\packages\\DataFrames\\vuMM8\\src\\groupeddataframe\\groupeddataframe.jl:362\n",
       "[10] groupindices(gd::GroupedDataFrame) in DataFrames at C:\\Users\\saera\\.julia\\packages\\DataFrames\\vuMM8\\src\\groupeddataframe\\groupeddataframe.jl:355\n",
       "[11] select(f::Union{Function, Type}, gd::GroupedDataFrame; copycols, keepkeys, ungroup, renamecols) in DataFrames at C:\\Users\\saera\\.julia\\packages\\DataFrames\\vuMM8\\src\\groupeddataframe\\splitapplycombine.jl:711\n",
       "[12] select(gd::GroupedDataFrame, args::Union{Regex, AbstractString, Function, Signed, Symbol, Unsigned, Pair, AbstractVector{T} where T, Type, All, Between, Cols, InvertedIndex, AbstractVecOrMat{var\"#s428\"} where var\"#s428\"<:Pair}...; copycols, keepkeys, ungroup, renamecols) in DataFrames at C:\\Users\\saera\\.julia\\packages\\DataFrames\\vuMM8\\src\\groupeddataframe\\splitapplycombine.jl:722\n",
       "[13] select!(f::Union{Function, Type}, gd::GroupedDataFrame; ungroup, renamecols) in DataFrames at C:\\Users\\saera\\.julia\\packages\\DataFrames\\vuMM8\\src\\groupeddataframe\\splitapplycombine.jl:745\n",
       "[14] select!(gd::GroupedDataFrame{DataFrames.DataFrame}, args::Union{Regex, AbstractString, Function, Signed, Symbol, Unsigned, Pair, AbstractVector{T} where T, Type, All, Between, Cols, InvertedIndex, AbstractVecOrMat{var\"#s428\"} where var\"#s428\"<:Pair}...; ungroup, renamecols) in DataFrames at C:\\Users\\saera\\.julia\\packages\\DataFrames\\vuMM8\\src\\groupeddataframe\\splitapplycombine.jl:752\n",
       "[15] subset(gdf::GroupedDataFrame, args...; skipmissing, view, ungroup) in DataFrames at C:\\Users\\saera\\.julia\\packages\\DataFrames\\vuMM8\\src\\abstractdataframe\\subset.jl:177\n",
       "[16] subset!(gdf::GroupedDataFrame, args...; skipmissing, ungroup) in DataFrames at C:\\Users\\saera\\.julia\\packages\\DataFrames\\vuMM8\\src\\abstractdataframe\\subset.jl:295\n",
       "[17] transform(f::Union{Function, Type}, gd::GroupedDataFrame; copycols, keepkeys, ungroup, renamecols) in DataFrames at C:\\Users\\saera\\.julia\\packages\\DataFrames\\vuMM8\\src\\groupeddataframe\\splitapplycombine.jl:726\n",
       "[18] transform(gd::GroupedDataFrame, args::Union{Regex, AbstractString, Function, Signed, Symbol, Unsigned, Pair, AbstractVector{T} where T, Type, All, Between, Cols, InvertedIndex, AbstractVecOrMat{var\"#s428\"} where var\"#s428\"<:Pair}...; copycols, keepkeys, ungroup, renamecols) in DataFrames at C:\\Users\\saera\\.julia\\packages\\DataFrames\\vuMM8\\src\\groupeddataframe\\splitapplycombine.jl:734\n",
       "[19] transform!(f::Union{Function, Type}, gd::GroupedDataFrame; ungroup, renamecols) in DataFrames at C:\\Users\\saera\\.julia\\packages\\DataFrames\\vuMM8\\src\\groupeddataframe\\splitapplycombine.jl:762\n",
       "[20] transform!(gd::GroupedDataFrame{DataFrames.DataFrame}, args::Union{Regex, AbstractString, Function, Signed, Symbol, Unsigned, Pair, AbstractVector{T} where T, Type, All, Between, Cols, InvertedIndex, AbstractVecOrMat{var\"#s428\"} where var\"#s428\"<:Pair}...; ungroup, renamecols) in DataFrames at C:\\Users\\saera\\.julia\\packages\\DataFrames\\vuMM8\\src\\groupeddataframe\\splitapplycombine.jl:769\n",
       "[21] valuecols(gd::GroupedDataFrame) in DataFrames at C:\\Users\\saera\\.julia\\packages\\DataFrames\\vuMM8\\src\\groupeddataframe\\groupeddataframe.jl:373\n",
       "[22] filter(::Pair{var\"#s284\", B} where {var\"#s284\"<:AsTable, B}, gdf::GroupedDataFrame) in DataFrames at C:\\Users\\saera\\.julia\\packages\\DataFrames\\vuMM8\\src\\groupeddataframe\\groupeddataframe.jl:1030\n",
       "[23] filter(::Pair{var\"#s284\", B} where {var\"#s284\"<:AbstractVector{Int64}, B}, gdf::GroupedDataFrame) in DataFrames at C:\\Users\\saera\\.julia\\packages\\DataFrames\\vuMM8\\src\\groupeddataframe\\groupeddataframe.jl:1013\n",
       "[24] filter(::Pair{var\"#s284\", B} where {var\"#s284\"<:(AbstractVector{var\"#s180\"} where var\"#s180\"<:AbstractString), B}, gdf::GroupedDataFrame) in DataFrames at C:\\Users\\saera\\.julia\\packages\\DataFrames\\vuMM8\\src\\groupeddataframe\\groupeddataframe.jl:1009\n",
       "[25] filter(::Pair{var\"#s284\", B} where {var\"#s284\"<:AbstractVector{Symbol}, B}, gdf::GroupedDataFrame) in DataFrames at C:\\Users\\saera\\.julia\\packages\\DataFrames\\vuMM8\\src\\groupeddataframe\\groupeddataframe.jl:1007\n",
       "[26] filter(::Pair{var\"#s284\", B} where {var\"#s284\"<:Union{AbstractString, Signed, Symbol, Unsigned}, B}, gdf::GroupedDataFrame) in DataFrames at C:\\Users\\saera\\.julia\\packages\\DataFrames\\vuMM8\\src\\groupeddataframe\\groupeddataframe.jl:1005\n",
       "[27] filter(::Pair, gdf::GroupedDataFrame) in DataFrames at C:\\Users\\saera\\.julia\\packages\\DataFrames\\vuMM8\\src\\groupeddataframe\\groupeddataframe.jl:1011\n",
       "[28] filter(f, gdf::GroupedDataFrame) in DataFrames at C:\\Users\\saera\\.julia\\packages\\DataFrames\\vuMM8\\src\\groupeddataframe\\groupeddataframe.jl:1003\n",
       "[29] length(gd::GroupedDataFrame) in DataFrames at C:\\Users\\saera\\.julia\\packages\\DataFrames\\vuMM8\\src\\groupeddataframe\\groupeddataframe.jl:402\n",
       "[30] firstindex(gd::GroupedDataFrame) in DataFrames at C:\\Users\\saera\\.julia\\packages\\DataFrames\\vuMM8\\src\\groupeddataframe\\groupeddataframe.jl:418\n",
       "[31] keys(gd::GroupedDataFrame) in DataFrames at C:\\Users\\saera\\.julia\\packages\\DataFrames\\vuMM8\\src\\groupeddataframe\\groupeddataframe.jl:852\n",
       "[32] keys(::IndexLinear, gd::GroupedDataFrame) in DataFrames at C:\\Users\\saera\\.julia\\packages\\DataFrames\\vuMM8\\src\\groupeddataframe\\groupeddataframe.jl:434\n",
       "[33] lastindex(gd::GroupedDataFrame) in DataFrames at C:\\Users\\saera\\.julia\\packages\\DataFrames\\vuMM8\\src\\groupeddataframe\\groupeddataframe.jl:419\n",
       "[34] ==(gd1::GroupedDataFrame, gd2::GroupedDataFrame) in DataFrames at C:\\Users\\saera\\.julia\\packages\\DataFrames\\vuMM8\\src\\groupeddataframe\\groupeddataframe.jl:302\n",
       "[35] axes(gd::GroupedDataFrame, i::Integer) in DataFrames at C:\\Users\\saera\\.julia\\packages\\DataFrames\\vuMM8\\src\\groupeddataframe\\groupeddataframe.jl:425\n",
       "[36] first(gd::GroupedDataFrame) in DataFrames at C:\\Users\\saera\\.julia\\packages\\DataFrames\\vuMM8\\src\\groupeddataframe\\groupeddataframe.jl:427\n",
       "[37] getproperty(gd::GroupedDataFrame, f::Symbol) in DataFrames at C:\\Users\\saera\\.julia\\packages\\DataFrames\\vuMM8\\src\\groupeddataframe\\groupeddataframe.jl:264\n",
       "[38] haskey(gd::GroupedDataFrame, key::Union{Signed, Unsigned}) in DataFrames at C:\\Users\\saera\\.julia\\packages\\DataFrames\\vuMM8\\src\\groupeddataframe\\groupeddataframe.jl:889\n",
       "[39] haskey(gd::GroupedDataFrame, key::AbstractDict{var\"#s285\", V} where {var\"#s285\"<:(Union{Symbol, var\"#s284\"} where var\"#s284\"<:AbstractString), V}) in DataFrames at C:\\Users\\saera\\.julia\\packages\\DataFrames\\vuMM8\\src\\groupeddataframe\\groupeddataframe.jl:886\n",
       "[40] haskey(gd::GroupedDataFrame, key::NamedTuple{N, T} where T<:Tuple) where N in DataFrames at C:\\Users\\saera\\.julia\\packages\\DataFrames\\vuMM8\\src\\groupeddataframe\\groupeddataframe.jl:878\n",
       "[41] haskey(gd::GroupedDataFrame, key::Tuple) in DataFrames at C:\\Users\\saera\\.julia\\packages\\DataFrames\\vuMM8\\src\\groupeddataframe\\groupeddataframe.jl:870\n",
       "[42] haskey(gd::GroupedDataFrame, key::DataFrames.GroupKey) in DataFrames at C:\\Users\\saera\\.julia\\packages\\DataFrames\\vuMM8\\src\\groupeddataframe\\groupeddataframe.jl:857\n",
       "[43] isequal(gd1::GroupedDataFrame, gd2::GroupedDataFrame) in DataFrames at C:\\Users\\saera\\.julia\\packages\\DataFrames\\vuMM8\\src\\groupeddataframe\\groupeddataframe.jl:308\n",
       "[44] iterate(gd::GroupedDataFrame) in DataFrames at C:\\Users\\saera\\.julia\\packages\\DataFrames\\vuMM8\\src\\groupeddataframe\\groupeddataframe.jl:404\n",
       "[45] iterate(gd::GroupedDataFrame, i) in DataFrames at C:\\Users\\saera\\.julia\\packages\\DataFrames\\vuMM8\\src\\groupeddataframe\\groupeddataframe.jl:404\n",
       "[46] last(gd::GroupedDataFrame) in DataFrames at C:\\Users\\saera\\.julia\\packages\\DataFrames\\vuMM8\\src\\groupeddataframe\\groupeddataframe.jl:428\n",
       "[47] map(f, gdf::GroupedDataFrame) in DataFrames at C:\\Users\\saera\\.julia\\packages\\DataFrames\\vuMM8\\src\\groupeddataframe\\groupeddataframe.jl:1049\n",
       "[48] names(gd::GroupedDataFrame) in DataFrames at C:\\Users\\saera\\.julia\\packages\\DataFrames\\vuMM8\\src\\groupeddataframe\\groupeddataframe.jl:314\n",
       "[49] names(gd::GroupedDataFrame, cols) in DataFrames at C:\\Users\\saera\\.julia\\packages\\DataFrames\\vuMM8\\src\\groupeddataframe\\groupeddataframe.jl:315\n",
       "[50] ndims(::GroupedDataFrame) in DataFrames at C:\\Users\\saera\\.julia\\packages\\DataFrames\\vuMM8\\src\\groupeddataframe\\groupeddataframe.jl:415\n",
       "[51] parent(gd::GroupedDataFrame) in DataFrames at C:\\Users\\saera\\.julia\\packages\\DataFrames\\vuMM8\\src\\groupeddataframe\\groupeddataframe.jl:300\n",
       "[52] show(io::IO, gd::GroupedDataFrame; allgroups, allrows, allcols, rowlabel, summary, truncate, kwargs...) in DataFrames at C:\\Users\\saera\\.julia\\packages\\DataFrames\\vuMM8\\src\\groupeddataframe\\show.jl:9\n",
       "[53] show(io::IO, mime::MIME{Symbol(\"text/latex\")}, gd::GroupedDataFrame) in DataFrames at C:\\Users\\saera\\.julia\\packages\\DataFrames\\vuMM8\\src\\abstractdataframe\\io.jl:440\n",
       "[54] show(io::IO, mime::MIME{Symbol(\"text/csv\")}, gd::GroupedDataFrame) in DataFrames at C:\\Users\\saera\\.julia\\packages\\DataFrames\\vuMM8\\src\\abstractdataframe\\io.jl:560\n",
       "[55] show(io::IO, mime::MIME{Symbol(\"text/tab-separated-values\")}, gd::GroupedDataFrame) in DataFrames at C:\\Users\\saera\\.julia\\packages\\DataFrames\\vuMM8\\src\\abstractdataframe\\io.jl:568\n",
       "[56] show(io::IO, mime::MIME{Symbol(\"text/html\")}, gd::GroupedDataFrame) in DataFrames at C:\\Users\\saera\\.julia\\packages\\DataFrames\\vuMM8\\src\\abstractdataframe\\io.jl:291\n",
       "[57] show(df::GroupedDataFrame; allrows, allcols, allgroups, rowlabel, summary, truncate, kwargs...) in DataFrames at C:\\Users\\saera\\.julia\\packages\\DataFrames\\vuMM8\\src\\groupeddataframe\\show.jl:71\n",
       "[58] size(gd::GroupedDataFrame) in DataFrames at C:\\Users\\saera\\.julia\\packages\\DataFrames\\vuMM8\\src\\groupeddataframe\\groupeddataframe.jl:412\n",
       "[59] size(gd::GroupedDataFrame, i::Integer) in DataFrames at C:\\Users\\saera\\.julia\\packages\\DataFrames\\vuMM8\\src\\groupeddataframe\\groupeddataframe.jl:413\n",
       "[60] summary(io::IO, gd::GroupedDataFrame) in DataFrames at C:\\Users\\saera\\.julia\\packages\\DataFrames\\vuMM8\\src\\groupeddataframe\\show.jl:1\n",
       "[61] to_indices(gd::GroupedDataFrame, ::Tuple{InvertedIndex{var\"#s284\"} where var\"#s284\"<:Union{BitVector, Vector{Bool}}}) in DataFrames at C:\\Users\\saera\\.julia\\packages\\DataFrames\\vuMM8\\src\\groupeddataframe\\groupeddataframe.jl:756\n",
       "[62] to_indices(gd::GroupedDataFrame, ::Tuple{InvertedIndex{var\"#s284\"} where var\"#s284\"<:AbstractVector{Bool}}) in DataFrames at C:\\Users\\saera\\.julia\\packages\\DataFrames\\vuMM8\\src\\groupeddataframe\\groupeddataframe.jl:760\n",
       "[63] to_indices(gd::GroupedDataFrame, ::Tuple{InvertedIndex}) in DataFrames at C:\\Users\\saera\\.julia\\packages\\DataFrames\\vuMM8\\src\\groupeddataframe\\groupeddataframe.jl:747"
      ]
     },
     "execution_count": 24,
     "metadata": {},
     "output_type": "execute_result"
    }
   ],
   "source": [
    "mquery(groupdf)"
   ]
  },
  {
   "cell_type": "code",
   "execution_count": 17,
   "metadata": {},
   "outputs": [
    {
     "name": "stdout",
     "output_type": "stream",
     "text": [
      "search: \u001b[0m\u001b[1mz\u001b[22m\u001b[0m\u001b[1mi\u001b[22m\u001b[0m\u001b[1mp\u001b[22m\n",
      "\n"
     ]
    },
    {
     "data": {
      "text/latex": [
       "\\begin{verbatim}\n",
       "zip(iters...)\n",
       "\\end{verbatim}\n",
       "Run multiple iterators at the same time, until any of them is exhausted. The value type of the \\texttt{zip} iterator is a tuple of values of its subiterators.\n",
       "\n",
       "\\begin{quote}\n",
       "\\textbf{note}\n",
       "\n",
       "Note\n",
       "\n",
       "\\texttt{zip} orders the calls to its subiterators in such a way that stateful iterators will not advance when another iterator finishes in the current iteration.\n",
       "\n",
       "\\end{quote}\n",
       "\\section{Examples}\n",
       "\\begin{verbatim}\n",
       "julia> a = 1:5\n",
       "1:5\n",
       "\n",
       "julia> b = [\"e\",\"d\",\"b\",\"c\",\"a\"]\n",
       "5-element Vector{String}:\n",
       " \"e\"\n",
       " \"d\"\n",
       " \"b\"\n",
       " \"c\"\n",
       " \"a\"\n",
       "\n",
       "julia> c = zip(a,b)\n",
       "zip(1:5, [\"e\", \"d\", \"b\", \"c\", \"a\"])\n",
       "\n",
       "julia> length(c)\n",
       "5\n",
       "\n",
       "julia> first(c)\n",
       "(1, \"e\")\n",
       "\\end{verbatim}\n"
      ],
      "text/markdown": [
       "```\n",
       "zip(iters...)\n",
       "```\n",
       "\n",
       "Run multiple iterators at the same time, until any of them is exhausted. The value type of the `zip` iterator is a tuple of values of its subiterators.\n",
       "\n",
       "!!! note\n",
       "    `zip` orders the calls to its subiterators in such a way that stateful iterators will not advance when another iterator finishes in the current iteration.\n",
       "\n",
       "\n",
       "# Examples\n",
       "\n",
       "```jldoctest\n",
       "julia> a = 1:5\n",
       "1:5\n",
       "\n",
       "julia> b = [\"e\",\"d\",\"b\",\"c\",\"a\"]\n",
       "5-element Vector{String}:\n",
       " \"e\"\n",
       " \"d\"\n",
       " \"b\"\n",
       " \"c\"\n",
       " \"a\"\n",
       "\n",
       "julia> c = zip(a,b)\n",
       "zip(1:5, [\"e\", \"d\", \"b\", \"c\", \"a\"])\n",
       "\n",
       "julia> length(c)\n",
       "5\n",
       "\n",
       "julia> first(c)\n",
       "(1, \"e\")\n",
       "```\n"
      ],
      "text/plain": [
       "\u001b[36m  zip(iters...)\u001b[39m\n",
       "\n",
       "  Run multiple iterators at the same time, until any of them is exhausted. The value type of the \u001b[36mzip\u001b[39m iterator is a tuple of values of its subiterators.\n",
       "\n",
       "\u001b[36m\u001b[1m  │ \u001b[22m\u001b[39m\u001b[36m\u001b[1mNote\u001b[22m\u001b[39m\n",
       "\u001b[36m\u001b[1m  │\u001b[22m\u001b[39m\n",
       "\u001b[36m\u001b[1m  │\u001b[22m\u001b[39m  \u001b[36mzip\u001b[39m orders the calls to its subiterators in such a way that stateful iterators will not advance when another iterator finishes in the current iteration.\n",
       "\n",
       "\u001b[1m  Examples\u001b[22m\n",
       "\u001b[1m  ≡≡≡≡≡≡≡≡≡≡\u001b[22m\n",
       "\n",
       "\u001b[36m  julia> a = 1:5\u001b[39m\n",
       "\u001b[36m  1:5\u001b[39m\n",
       "\u001b[36m  \u001b[39m\n",
       "\u001b[36m  julia> b = [\"e\",\"d\",\"b\",\"c\",\"a\"]\u001b[39m\n",
       "\u001b[36m  5-element Vector{String}:\u001b[39m\n",
       "\u001b[36m   \"e\"\u001b[39m\n",
       "\u001b[36m   \"d\"\u001b[39m\n",
       "\u001b[36m   \"b\"\u001b[39m\n",
       "\u001b[36m   \"c\"\u001b[39m\n",
       "\u001b[36m   \"a\"\u001b[39m\n",
       "\u001b[36m  \u001b[39m\n",
       "\u001b[36m  julia> c = zip(a,b)\u001b[39m\n",
       "\u001b[36m  zip(1:5, [\"e\", \"d\", \"b\", \"c\", \"a\"])\u001b[39m\n",
       "\u001b[36m  \u001b[39m\n",
       "\u001b[36m  julia> length(c)\u001b[39m\n",
       "\u001b[36m  5\u001b[39m\n",
       "\u001b[36m  \u001b[39m\n",
       "\u001b[36m  julia> first(c)\u001b[39m\n",
       "\u001b[36m  (1, \"e\")\u001b[39m"
      ]
     },
     "execution_count": 17,
     "metadata": {},
     "output_type": "execute_result"
    }
   ],
   "source": [
    "?zip\n"
   ]
  },
  {
   "cell_type": "code",
   "execution_count": 9,
   "metadata": {},
   "outputs": [],
   "source": [
    "# \"\"\"\n",
    "# - P(100, Q_arr) = len(where(Q_arr == 100) / len(Q_arr)\n",
    "# - get p(Q=100); p(z=5B); p(z=5B | Q=100)\n",
    "# - p(100, Q_arr) * likeli / p(5B, z_arr)\n",
    "#     - p(z_arr if Q=10 and z=5B | Q_arr if 100)\n",
    "# - test 1A - 6B. Should see p get smaller.\n",
    "# - cond_pdist: p(q | z & t) for all q set Q_arr\n",
    "# - E(pdist) = \\sum{p(q) q}\n",
    "# - prob_model(z, t) = E[p(q | z & t) for all q]\n",
    "# - p(q); smarter = p(q) p(z|q) / p(z)\n",
    "# - p(xx) = p(q|z); smarter = p(x) p(v|x) / p(v)\n",
    "#     - require p(v|x): cache x-metadata or compute raw.\n",
    "#     - metadata = prob model struct.\n",
    "# \"\"\""
   ]
  },
  {
   "cell_type": "code",
   "execution_count": null,
   "metadata": {},
   "outputs": [],
   "source": []
  }
 ],
 "metadata": {
  "kernelspec": {
   "display_name": "Julia 1.6.2",
   "language": "julia",
   "name": "julia-1.6"
  },
  "language_info": {
   "file_extension": ".jl",
   "mimetype": "application/julia",
   "name": "julia",
   "version": "1.6.2"
  }
 },
 "nbformat": 4,
 "nbformat_minor": 4
}
