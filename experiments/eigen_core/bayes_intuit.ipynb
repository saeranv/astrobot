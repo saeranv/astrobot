{
 "cells": [
  {
   "cell_type": "code",
   "execution_count": 167,
   "metadata": {},
   "outputs": [],
   "source": [
    "import numpy as np \n",
    "import pandas as pd \n",
    "import seaborn as sn \n",
    "from scipy import stats \n",
    "import matplotlib.pyplot as plt \n",
    "\n",
    "sn.set() \n",
    "plt.style.use('dark_background')"
   ]
  },
  {
   "cell_type": "code",
   "execution_count": 485,
   "metadata": {},
   "outputs": [
    {
     "data": {
      "text/html": [
       "<div>\n",
       "<style scoped>\n",
       "    .dataframe tbody tr th:only-of-type {\n",
       "        vertical-align: middle;\n",
       "    }\n",
       "\n",
       "    .dataframe tbody tr th {\n",
       "        vertical-align: top;\n",
       "    }\n",
       "\n",
       "    .dataframe thead th {\n",
       "        text-align: right;\n",
       "    }\n",
       "</style>\n",
       "<table border=\"1\" class=\"dataframe\">\n",
       "  <thead>\n",
       "    <tr style=\"text-align: right;\">\n",
       "      <th>theta</th>\n",
       "      <th>random</th>\n",
       "      <th>radon</th>\n",
       "      <th>radom</th>\n",
       "    </tr>\n",
       "  </thead>\n",
       "  <tbody>\n",
       "    <tr>\n",
       "      <th>p</th>\n",
       "      <td>0.000076</td>\n",
       "      <td>0.000006</td>\n",
       "      <td>3.120000e-07</td>\n",
       "    </tr>\n",
       "  </tbody>\n",
       "</table>\n",
       "</div>"
      ],
      "text/plain": [
       "theta    random     radon         radom\n",
       "p      0.000076  0.000006  3.120000e-07"
      ]
     },
     "execution_count": 485,
     "metadata": {},
     "output_type": "execute_result"
    },
    {
     "data": {
      "image/png": "[encoded data removed]",
      "text/plain": [
       "<Figure size 360x144 with 1 Axes>"
      ]
     },
     "metadata": {},
     "output_type": "display_data"
    }
   ],
   "source": [
    "# BDA3 example p.10\n",
    "\n",
    "# Spell-checker gives: p(theta='random'|'radom')\n",
    "theta = 'random radon radom'.split(' ')  # possible mispellings\n",
    "words = theta[:]  # word entered \n",
    "\n",
    "# Create a 1x3 prior \n",
    "prior = pd.DataFrame(\n",
    "    {'theta': theta,\n",
    "     'p': [7.60 * 1e-5,   # 'random' \n",
    "           6.05 * 1e-6,   # 'radon'\n",
    "           3.12 * 1e-7]}) # 'radom'\n",
    "prior = prior.set_index('theta')\n",
    "\n",
    "ax = plt.subplots(1,1,figsize=(5,2))[1]\n",
    "ax = prior.p.plot(ax=ax, rot=0, c='r') \n",
    "ax.set_title('Prior p(theta)')\n",
    "prior.T"
   ]
  },
  {
   "cell_type": "code",
   "execution_count": 495,
   "metadata": {},
   "outputs": [
    {
     "data": {
      "text/plain": [
       "array([[0.99807 ],\n",
       "       [0.999857],\n",
       "       [0.025   ]])"
      ]
     },
     "execution_count": 495,
     "metadata": {},
     "output_type": "execute_result"
    }
   ],
   "source": [
    "x = [0.00193,    # p(words|theta=random) \n",
    "     0.000143,   # p(theta|theta=radon)\n",
    "     0.975]\n",
    "np.dstack(1 - np.array(x)).T[:, 0]\n"
   ]
  },
  {
   "cell_type": "code",
   "execution_count": 568,
   "metadata": {},
   "outputs": [
    {
     "name": "stdout",
     "output_type": "stream",
     "text": [
      "Likelihood from BDA3 p(radom|theta)\n",
      " [1.93e-03 1.43e-04 9.75e-01]\n"
     ]
    },
    {
     "data": {
      "text/html": [
       "<div>\n",
       "<style scoped>\n",
       "    .dataframe tbody tr th:only-of-type {\n",
       "        vertical-align: middle;\n",
       "    }\n",
       "\n",
       "    .dataframe tbody tr th {\n",
       "        vertical-align: top;\n",
       "    }\n",
       "\n",
       "    .dataframe thead tr th {\n",
       "        text-align: left;\n",
       "    }\n",
       "\n",
       "    .dataframe thead tr:last-of-type th {\n",
       "        text-align: right;\n",
       "    }\n",
       "</style>\n",
       "<table border=\"1\" class=\"dataframe\">\n",
       "  <thead>\n",
       "    <tr>\n",
       "      <th></th>\n",
       "      <th colspan=\"2\" halign=\"left\">p</th>\n",
       "    </tr>\n",
       "    <tr>\n",
       "      <th>words</th>\n",
       "      <th>random</th>\n",
       "      <th>radom</th>\n",
       "    </tr>\n",
       "    <tr>\n",
       "      <th>theta</th>\n",
       "      <th></th>\n",
       "      <th></th>\n",
       "    </tr>\n",
       "  </thead>\n",
       "  <tbody>\n",
       "    <tr>\n",
       "      <th>random</th>\n",
       "      <td>0.998070</td>\n",
       "      <td>0.001930</td>\n",
       "    </tr>\n",
       "    <tr>\n",
       "      <th>radon</th>\n",
       "      <td>0.999857</td>\n",
       "      <td>0.000143</td>\n",
       "    </tr>\n",
       "    <tr>\n",
       "      <th>radom</th>\n",
       "      <td>0.025000</td>\n",
       "      <td>0.975000</td>\n",
       "    </tr>\n",
       "  </tbody>\n",
       "</table>\n",
       "</div>"
      ],
      "text/plain": [
       "               p          \n",
       "words     random     radom\n",
       "theta                     \n",
       "random  0.998070  0.001930\n",
       "radon   0.999857  0.000143\n",
       "radom   0.025000  0.975000"
      ]
     },
     "execution_count": 568,
     "metadata": {},
     "output_type": "execute_result"
    },
    {
     "data": {
      "image/png": "[encoded data removed]",
      "text/plain": [
       "<Figure size 144x144 with 2 Axes>"
      ]
     },
     "metadata": {},
     "output_type": "display_data"
    }
   ],
   "source": [
    "# Construct joint distribution p('radon', theta)\n",
    "# rows=words, cols=theta\n",
    "joint_mtx = np.array(\n",
    "    # random    radom  \n",
    "    [[0.99807,  0.00193],     # p(words=all|theta=random) \n",
    "     [0.999857, 0.000143],    # p(words=all|theta=radon)\n",
    "     [0.025,    0.975]])      # p(words=all|theta=radom)\n",
    "\n",
    "# Marginal along col-sum == 1 (p)\n",
    "assert np.allclose(joint_mtx.sum(axis=1), np.ones(3), atol=1e-5)\n",
    "# Marginal along row-sum != 1 (not p)\n",
    "assert not np.allclose(joint_mtx.sum(axis=0), np.ones(2), atol=1e-5)\n",
    "\n",
    "joint = pd.DataFrame(\n",
    "    {'words': 'random radom random radom random radom'.split(' '), \n",
    "     'theta': 'random random radon radon radom radom'.split(' '),\n",
    "     'p': np.ravel(joint_mtx)})\n",
    "\n",
    "bda3_likel = joint[joint.words == 'radom'].p.values\n",
    "assert np.allclose(bda3_likel, [0.00193, 0.000143, 0.975], atol=1e-10)\n",
    "\n",
    "# Sort here is very annoying. Use numbers next time?\n",
    "joint_ = (joint\n",
    "          .groupby(['theta', 'words'])  # group -> x, y\n",
    "          .agg(lambda x: x)\n",
    "          .unstack()\n",
    "          .sort_index(ascending=False, axis=0)\n",
    "          .sort_index(ascending=False, axis=1))\n",
    "\n",
    "ax = plt.subplots(1,1, figsize=(2,2))[1]\n",
    "sn.heatmap(data=joint_, linecolor='grey', \n",
    "           linewidth=3, ax=ax, cmap='Reds');\n",
    "\n",
    "print('Likelihood from BDA3 p(radom|theta)\\n',        \n",
    "      joint_.loc[:, [('p', 'radom')]].values.flatten())  # \n",
    "joint_"
   ]
  },
  {
   "cell_type": "code",
   "execution_count": 572,
   "metadata": {},
   "outputs": [
    {
     "data": {
      "image/png": "[encoded data removed]",
      "text/plain": [
       "<Figure size 360x144 with 1 Axes>"
      ]
     },
     "metadata": {},
     "output_type": "display_data"
    }
   ],
   "source": [
    "# Likelihood: p(words='random' | theta)\n",
    "likel = joint_.p.loc[:, 'radom']  # p(words=radom|theta)\n",
    "likel = pd.DataFrame(data=likel.values, columns=['p'], index=prior.index)\n",
    "ax = plt.subplots(1,1, figsize=(5,2))[1]\n",
    "likel.p.plot(c='r', ax=ax);\n",
    "ax.set_title(\"Likelihood: p(words='random' | theta)\");"
   ]
  },
  {
   "cell_type": "code",
   "execution_count": 592,
   "metadata": {},
   "outputs": [
    {
     "data": {
      "text/html": [
       "<div>\n",
       "<style scoped>\n",
       "    .dataframe tbody tr th:only-of-type {\n",
       "        vertical-align: middle;\n",
       "    }\n",
       "\n",
       "    .dataframe tbody tr th {\n",
       "        vertical-align: top;\n",
       "    }\n",
       "\n",
       "    .dataframe thead th {\n",
       "        text-align: right;\n",
       "    }\n",
       "</style>\n",
       "<table border=\"1\" class=\"dataframe\">\n",
       "  <thead>\n",
       "    <tr style=\"text-align: right;\">\n",
       "      <th>theta</th>\n",
       "      <th>random</th>\n",
       "      <th>radon</th>\n",
       "      <th>radom</th>\n",
       "    </tr>\n",
       "  </thead>\n",
       "  <tbody>\n",
       "    <tr>\n",
       "      <th>prior</th>\n",
       "      <td>0.000076</td>\n",
       "      <td>0.000006</td>\n",
       "      <td>3.120000e-07</td>\n",
       "    </tr>\n",
       "    <tr>\n",
       "      <th>likel</th>\n",
       "      <td>0.001930</td>\n",
       "      <td>0.000143</td>\n",
       "      <td>9.750000e-01</td>\n",
       "    </tr>\n",
       "    <tr>\n",
       "      <th>poste</th>\n",
       "      <td>0.324696</td>\n",
       "      <td>0.001915</td>\n",
       "      <td>6.733885e-01</td>\n",
       "    </tr>\n",
       "    <tr>\n",
       "      <th>bda3</th>\n",
       "      <td>0.325000</td>\n",
       "      <td>0.002000</td>\n",
       "      <td>6.730000e-01</td>\n",
       "    </tr>\n",
       "  </tbody>\n",
       "</table>\n",
       "</div>"
      ],
      "text/plain": [
       "theta    random     radon         radom\n",
       "prior  0.000076  0.000006  3.120000e-07\n",
       "likel  0.001930  0.000143  9.750000e-01\n",
       "poste  0.324696  0.001915  6.733885e-01\n",
       "bda3   0.325000  0.002000  6.730000e-01"
      ]
     },
     "execution_count": 592,
     "metadata": {},
     "output_type": "execute_result"
    },
    {
     "data": {
      "image/png": "[encoded data removed]",
      "text/plain": [
       "<Figure size 720x144 with 1 Axes>"
      ]
     },
     "metadata": {},
     "output_type": "display_data"
    }
   ],
   "source": [
    "# Posterior: p(theta | words='random')\n",
    "poste = prior.p.values * likel.p.values\n",
    "poste = pd.DataFrame(poste / np.sum(poste), \n",
    "                     columns=['p'], index=prior.index)\n",
    "ax = plt.subplots(1,1, figsize=(10, 2))[1]\n",
    "ax = poste.plot(c='g', ax=ax)\n",
    "ax.set_title('Posterior p(theta | \"random\")')\n",
    "\n",
    "df = pd.DataFrame(\n",
    "    {'prior': prior.p.values,\n",
    "     'likel': likel.p.values,\n",
    "     'poste': poste.p.values, \n",
    "     'bda3': [0.325, 0.002, 0.673]},\n",
    "    index = prior.index).T \n",
    "     \n",
    "df\n",
    "\n"
   ]
  }
 ],
 "metadata": {
  "interpreter": {
   "hash": "d6a669fa4023ae2b271cee94ea7dc3f46c6f4326b957ce106e12dc5ae8b709f3"
  },
  "kernelspec": {
   "display_name": "Python 3.9.7 ('ml')",
   "language": "python",
   "name": "python3"
  },
  "language_info": {
   "codemirror_mode": {
    "name": "ipython",
    "version": 3
   },
   "file_extension": ".py",
   "mimetype": "text/x-python",
   "name": "python",
   "nbconvert_exporter": "python",
   "pygments_lexer": "ipython3",
   "version": "3.9.7"
  },
  "orig_nbformat": 4
 },
 "nbformat": 4,
 "nbformat_minor": 2
}
