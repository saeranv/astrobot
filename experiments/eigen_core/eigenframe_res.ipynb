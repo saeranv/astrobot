{
 "cells": [
  {
   "cell_type": "code",
   "execution_count": 1,
   "metadata": {},
   "outputs": [],
   "source": [
    "%load_ext autoreload\n",
    "%autoreload 2\n",
    "%config Completer.use_jedi = False\n",
    "\n",
    "import os \n",
    "import sys \n",
    "\n",
    "# TODO: remove '..' if run from root folder\n",
    "home = os.path.abspath(os.path.join(os.getcwd(), '..', '..', '..'))\n",
    "pths = [os.path.join(home, 'astrobot'), os.path.join(home, 'astrobot', 'tests')]\n",
    "\n",
    "for pth in pths: \n",
    "    if pth not in sys.path: sys.path.insert(0, pth)\n",
    "\n",
    "from astrobot import pmf\n",
    "\n",
    "import numpy as np \n",
    "import pandas as pd\n",
    "from pprint import pprint \n",
    "import matplotlib.pyplot as plt \n",
    "from functools import reduce \n",
    "\n",
    "def pp(x, *args): \n",
    "    pprint(x) if not args else (pprint(x), pp(*args))\n"
   ]
  },
  {
   "cell_type": "code",
   "execution_count": 2,
   "metadata": {},
   "outputs": [
    {
     "data": {
      "text/html": [
       "<div>\n",
       "<style scoped>\n",
       "    .dataframe tbody tr th:only-of-type {\n",
       "        vertical-align: middle;\n",
       "    }\n",
       "\n",
       "    .dataframe tbody tr th {\n",
       "        vertical-align: top;\n",
       "    }\n",
       "\n",
       "    .dataframe thead th {\n",
       "        text-align: right;\n",
       "    }\n",
       "</style>\n",
       "<table border=\"1\" class=\"dataframe\">\n",
       "  <thead>\n",
       "    <tr style=\"text-align: right;\">\n",
       "      <th></th>\n",
       "      <th>bldg_id</th>\n",
       "      <th>in.county</th>\n",
       "      <th>in.puma</th>\n",
       "      <th>in.ashrae_iecc_climate_zone_2004</th>\n",
       "      <th>in.building_america_climate_zone</th>\n",
       "      <th>in.iso_rto_region</th>\n",
       "      <th>applicability</th>\n",
       "      <th>weight</th>\n",
       "      <th>in.sqft</th>\n",
       "      <th>in.ahs_region</th>\n",
       "      <th>...</th>\n",
       "      <th>out.propane.total.energy_consumption</th>\n",
       "      <th>out.propane.total.energy_consumption_intensity</th>\n",
       "      <th>out.wood.total.energy_consumption</th>\n",
       "      <th>out.wood.total.energy_consumption_intensity</th>\n",
       "      <th>out.wood.heating.energy_consumption</th>\n",
       "      <th>out.wood.heating.energy_consumption_intensity</th>\n",
       "      <th>out.site_energy.total.energy_consumption</th>\n",
       "      <th>out.site_energy.total.energy_consumption_intensity</th>\n",
       "      <th>upgrade</th>\n",
       "      <th>metadata_index</th>\n",
       "    </tr>\n",
       "  </thead>\n",
       "  <tbody>\n",
       "    <tr>\n",
       "      <th>0</th>\n",
       "      <td>1</td>\n",
       "      <td>G5100230</td>\n",
       "      <td>G51051045</td>\n",
       "      <td>4A</td>\n",
       "      <td>Mixed-Humid</td>\n",
       "      <td>PJM</td>\n",
       "      <td>True</td>\n",
       "      <td>242.131013</td>\n",
       "      <td>1623.0</td>\n",
       "      <td>Non-CBSA South Atlantic</td>\n",
       "      <td>...</td>\n",
       "      <td>0.0</td>\n",
       "      <td>0.0</td>\n",
       "      <td>0.0</td>\n",
       "      <td>0.0</td>\n",
       "      <td>0.0</td>\n",
       "      <td>0.0</td>\n",
       "      <td>39404.872841</td>\n",
       "      <td>24.279034</td>\n",
       "      <td>0</td>\n",
       "      <td>0</td>\n",
       "    </tr>\n",
       "    <tr>\n",
       "      <th>1</th>\n",
       "      <td>2</td>\n",
       "      <td>G5600250</td>\n",
       "      <td>G56000400</td>\n",
       "      <td>6B</td>\n",
       "      <td>Cold</td>\n",
       "      <td>None</td>\n",
       "      <td>True</td>\n",
       "      <td>242.131013</td>\n",
       "      <td>617.0</td>\n",
       "      <td>Non-CBSA Mountain</td>\n",
       "      <td>...</td>\n",
       "      <td>0.0</td>\n",
       "      <td>0.0</td>\n",
       "      <td>0.0</td>\n",
       "      <td>0.0</td>\n",
       "      <td>0.0</td>\n",
       "      <td>0.0</td>\n",
       "      <td>26635.835447</td>\n",
       "      <td>43.169912</td>\n",
       "      <td>0</td>\n",
       "      <td>1</td>\n",
       "    </tr>\n",
       "  </tbody>\n",
       "</table>\n",
       "<p>2 rows × 249 columns</p>\n",
       "</div>"
      ],
      "text/plain": [
       "   bldg_id in.county    in.puma in.ashrae_iecc_climate_zone_2004  \\\n",
       "0        1  G5100230  G51051045                               4A   \n",
       "1        2  G5600250  G56000400                               6B   \n",
       "\n",
       "  in.building_america_climate_zone in.iso_rto_region  applicability  \\\n",
       "0                      Mixed-Humid               PJM           True   \n",
       "1                             Cold              None           True   \n",
       "\n",
       "       weight  in.sqft            in.ahs_region  ...  \\\n",
       "0  242.131013   1623.0  Non-CBSA South Atlantic  ...   \n",
       "1  242.131013    617.0        Non-CBSA Mountain  ...   \n",
       "\n",
       "   out.propane.total.energy_consumption  \\\n",
       "0                                   0.0   \n",
       "1                                   0.0   \n",
       "\n",
       "  out.propane.total.energy_consumption_intensity  \\\n",
       "0                                            0.0   \n",
       "1                                            0.0   \n",
       "\n",
       "   out.wood.total.energy_consumption  \\\n",
       "0                                0.0   \n",
       "1                                0.0   \n",
       "\n",
       "  out.wood.total.energy_consumption_intensity  \\\n",
       "0                                         0.0   \n",
       "1                                         0.0   \n",
       "\n",
       "  out.wood.heating.energy_consumption  \\\n",
       "0                                 0.0   \n",
       "1                                 0.0   \n",
       "\n",
       "  out.wood.heating.energy_consumption_intensity  \\\n",
       "0                                           0.0   \n",
       "1                                           0.0   \n",
       "\n",
       "  out.site_energy.total.energy_consumption  \\\n",
       "0                             39404.872841   \n",
       "1                             26635.835447   \n",
       "\n",
       "  out.site_energy.total.energy_consumption_intensity upgrade metadata_index  \n",
       "0                                          24.279034       0              0  \n",
       "1                                          43.169912       0              1  \n",
       "\n",
       "[2 rows x 249 columns]"
      ]
     },
     "execution_count": 2,
     "metadata": {},
     "output_type": "execute_result"
    }
   ],
   "source": [
    "# bldg_stock namespace\n",
    "def get_osm_url(bldg_id, zero_pad=7):\n",
    "    zeros = reduce(\n",
    "        lambda a, b: str(a)+\"0\", range(zero_pad - int(np.log10(bldg_id) + 1)))\n",
    "    return (\"https://oedi-data-lake.s3.amazonaws.com/nrel-pds-building-stock/\" +  \"end-use-load-profiles-for-us-building-stock/2021/\" +\n",
    "            \"comstock_tmy3_release_1/building_energy_models/\" + \n",
    "            \"bldg{}-up00.osm.gz\".format(zeros + str(bldg_id)))\n",
    "            \n",
    "DATADIR = \"C:/users/admin/master/astrobot/resources/rescomstock/resstock\"\n",
    "assert os.path.isdir(DATADIR)\n",
    "metacom_fpath = os.path.join(DATADIR, \"metadata_resstock.tsv\")\n",
    "_comdf = pd.read_csv(metacom_fpath, sep='\\t')\n",
    "_comdf = _comdf.dropna(axis=0, how=\"any\")\n",
    "_comdf.head(2)"
   ]
  },
  {
   "cell_type": "code",
   "execution_count": 7,
   "metadata": {},
   "outputs": [
    {
     "data": {
      "text/html": [
       "<div>\n",
       "<style scoped>\n",
       "    .dataframe tbody tr th:only-of-type {\n",
       "        vertical-align: middle;\n",
       "    }\n",
       "\n",
       "    .dataframe tbody tr th {\n",
       "        vertical-align: top;\n",
       "    }\n",
       "\n",
       "    .dataframe thead th {\n",
       "        text-align: right;\n",
       "    }\n",
       "</style>\n",
       "<table border=\"1\" class=\"dataframe\">\n",
       "  <thead>\n",
       "    <tr style=\"text-align: right;\">\n",
       "      <th></th>\n",
       "      <th>in.ashrae_iecc_climate_zone_2004</th>\n",
       "      <th>in.geometry_building_type_recs</th>\n",
       "    </tr>\n",
       "  </thead>\n",
       "  <tbody>\n",
       "    <tr>\n",
       "      <th>0</th>\n",
       "      <td>4A</td>\n",
       "      <td>Multi-Family with 5+ Units</td>\n",
       "    </tr>\n",
       "    <tr>\n",
       "      <th>1</th>\n",
       "      <td>6B</td>\n",
       "      <td>Multi-Family with 2 - 4 Units</td>\n",
       "    </tr>\n",
       "    <tr>\n",
       "      <th>2</th>\n",
       "      <td>3A</td>\n",
       "      <td>Multi-Family with 5+ Units</td>\n",
       "    </tr>\n",
       "    <tr>\n",
       "      <th>3</th>\n",
       "      <td>2A</td>\n",
       "      <td>Multi-Family with 2 - 4 Units</td>\n",
       "    </tr>\n",
       "    <tr>\n",
       "      <th>4</th>\n",
       "      <td>4A</td>\n",
       "      <td>Single-Family Attached</td>\n",
       "    </tr>\n",
       "  </tbody>\n",
       "</table>\n",
       "</div>"
      ],
      "text/plain": [
       "  in.ashrae_iecc_climate_zone_2004 in.geometry_building_type_recs\n",
       "0                               4A     Multi-Family with 5+ Units\n",
       "1                               6B  Multi-Family with 2 - 4 Units\n",
       "2                               3A     Multi-Family with 5+ Units\n",
       "3                               2A  Multi-Family with 2 - 4 Units\n",
       "4                               4A         Single-Family Attached"
      ]
     },
     "execution_count": 7,
     "metadata": {},
     "output_type": "execute_result"
    }
   ],
   "source": [
    "def search_comdf_var(var):\n",
    "    return [col for col in _comdf.columns if var.lower() in col.lower()]\n",
    "\n",
    "search_comdf_var(\"in.\")\n",
    "#set(_comdf[\"in.building_type\"])\n",
    "#_comdf[[\"metadata_index\", \"bldg_id\"]]\n",
    "lbl_cz = 'in.ashrae_iecc_climate_zone_2004'\n",
    "lbl_mf = 'in.geometry_building_type_recs'\n",
    "_comdf[[lbl_cz, lbl_mf]].head()"
   ]
  },
  {
   "cell_type": "code",
   "execution_count": 3,
   "metadata": {},
   "outputs": [
    {
     "data": {
      "text/html": [
       "<div>\n",
       "<style scoped>\n",
       "    .dataframe tbody tr th:only-of-type {\n",
       "        vertical-align: middle;\n",
       "    }\n",
       "\n",
       "    .dataframe tbody tr th {\n",
       "        vertical-align: top;\n",
       "    }\n",
       "\n",
       "    .dataframe thead th {\n",
       "        text-align: right;\n",
       "    }\n",
       "</style>\n",
       "<table border=\"1\" class=\"dataframe\">\n",
       "  <thead>\n",
       "    <tr style=\"text-align: right;\">\n",
       "      <th></th>\n",
       "      <th>cz_cat</th>\n",
       "      <th>cz</th>\n",
       "      <th>btype_cat</th>\n",
       "      <th>btype</th>\n",
       "      <th>weight</th>\n",
       "      <th>metadata_index</th>\n",
       "      <th>bldg_id</th>\n",
       "      <th>eui</th>\n",
       "    </tr>\n",
       "  </thead>\n",
       "  <tbody>\n",
       "    <tr>\n",
       "      <th>0</th>\n",
       "      <td>4A</td>\n",
       "      <td>6</td>\n",
       "      <td>Multi-Family with 5+ Units</td>\n",
       "      <td>2</td>\n",
       "      <td>242.131013</td>\n",
       "      <td>0</td>\n",
       "      <td>1</td>\n",
       "      <td>261.339526</td>\n",
       "    </tr>\n",
       "    <tr>\n",
       "      <th>1</th>\n",
       "      <td>6B</td>\n",
       "      <td>12</td>\n",
       "      <td>Multi-Family with 2 - 4 Units</td>\n",
       "      <td>1</td>\n",
       "      <td>242.131013</td>\n",
       "      <td>1</td>\n",
       "      <td>2</td>\n",
       "      <td>464.680928</td>\n",
       "    </tr>\n",
       "    <tr>\n",
       "      <th>2</th>\n",
       "      <td>3A</td>\n",
       "      <td>3</td>\n",
       "      <td>Multi-Family with 5+ Units</td>\n",
       "      <td>2</td>\n",
       "      <td>242.131013</td>\n",
       "      <td>2</td>\n",
       "      <td>3</td>\n",
       "      <td>309.696571</td>\n",
       "    </tr>\n",
       "    <tr>\n",
       "      <th>3</th>\n",
       "      <td>2A</td>\n",
       "      <td>1</td>\n",
       "      <td>Multi-Family with 2 - 4 Units</td>\n",
       "      <td>1</td>\n",
       "      <td>242.131013</td>\n",
       "      <td>3</td>\n",
       "      <td>4</td>\n",
       "      <td>140.524085</td>\n",
       "    </tr>\n",
       "    <tr>\n",
       "      <th>4</th>\n",
       "      <td>4A</td>\n",
       "      <td>6</td>\n",
       "      <td>Single-Family Attached</td>\n",
       "      <td>3</td>\n",
       "      <td>242.131013</td>\n",
       "      <td>4</td>\n",
       "      <td>5</td>\n",
       "      <td>62.699874</td>\n",
       "    </tr>\n",
       "  </tbody>\n",
       "</table>\n",
       "</div>"
      ],
      "text/plain": [
       "  cz_cat  cz                      btype_cat  btype      weight  \\\n",
       "0     4A   6     Multi-Family with 5+ Units      2  242.131013   \n",
       "1     6B  12  Multi-Family with 2 - 4 Units      1  242.131013   \n",
       "2     3A   3     Multi-Family with 5+ Units      2  242.131013   \n",
       "3     2A   1  Multi-Family with 2 - 4 Units      1  242.131013   \n",
       "4     4A   6         Single-Family Attached      3  242.131013   \n",
       "\n",
       "   metadata_index  bldg_id         eui  \n",
       "0               0        1  261.339526  \n",
       "1               1        2  464.680928  \n",
       "2               2        3  309.696571  \n",
       "3               3        4  140.524085  \n",
       "4               4        5   62.699874  "
      ]
     },
     "execution_count": 3,
     "metadata": {},
     "output_type": "execute_result"
    }
   ],
   "source": [
    "comdf = _comdf.copy()\n",
    "# pp([c for c in _comdf.columns if \"in.\" in c])\n",
    "\n",
    "y_lbls = [\"eui\"] \n",
    "X_lbls = [\"cz_cat\", \"cz\", \"btype_cat\", \"btype\", \"weight\", \"metadata_index\", \"bldg_id\"] \n",
    "comdf[[\"cz_cat\", \"btype_cat\"]] = comdf[[\"in.ashrae_iecc_climate_zone_2004\", \"in.geometry_building_type_recs\"]]\n",
    "_kwh_arr, _sqft_arr = comdf[\"out.site_energy.total.energy_consumption\"], comdf[\"in.sqft\"]\n",
    "comdf[y_lbls[0]] = _kwh_arr / (_sqft_arr / 10.764)  # Convert kWh, ft2 -> kWh/m2\n",
    "\n",
    "# Integer encoding for cz categories\n",
    "cz_dict = {cz:i for i, cz in enumerate(np.unique(comdf[\"cz_cat\"]))}\n",
    "comdf[\"cz\"] = [cz_dict[cz] for cz in comdf[\"cz_cat\"]]\n",
    " \n",
    "# Integer encoding for btype\n",
    "btype_dict = {bt:i for i, bt in enumerate(np.unique(comdf[\"btype_cat\"]))}\n",
    "comdf[\"btype\"] = [btype_dict[bt] for bt in comdf[\"btype_cat\"]]\n",
    "\n",
    "comdf = comdf[X_lbls + y_lbls]\n",
    "comdf.head(5)\n"
   ]
  },
  {
   "cell_type": "code",
   "execution_count": 4,
   "metadata": {},
   "outputs": [
    {
     "name": "stdout",
     "output_type": "stream",
     "text": [
      "(549800, 249)\n",
      "133123630.79745477\n"
     ]
    }
   ],
   "source": [
    "print(_comdf.shape)\n",
    "print(_comdf.weight.sum())\n",
    "\n",
    "from tests.pmf_test import test_make_pmf, test_make_bin_idx, test_make_bin_edges\n",
    "from tests.pmf_test import test_make_joint_pmf \n",
    "\n",
    "from scipy.stats._binned_statistic import binned_statistic\n",
    "pd.set_option(\"display.precision\", 6)\n",
    "\n",
    "test_make_bin_edges()\n",
    "test_make_bin_idx()\n",
    "test_make_pmf()\n",
    "\n",
    "test_make_joint_pmf()\n"
   ]
  },
  {
   "cell_type": "code",
   "execution_count": 6,
   "metadata": {},
   "outputs": [
    {
     "data": {
      "text/html": [
       "<div>\n",
       "<style scoped>\n",
       "    .dataframe tbody tr th:only-of-type {\n",
       "        vertical-align: middle;\n",
       "    }\n",
       "\n",
       "    .dataframe tbody tr th {\n",
       "        vertical-align: top;\n",
       "    }\n",
       "\n",
       "    .dataframe thead th {\n",
       "        text-align: right;\n",
       "    }\n",
       "</style>\n",
       "<table border=\"1\" class=\"dataframe\">\n",
       "  <thead>\n",
       "    <tr style=\"text-align: right;\">\n",
       "      <th></th>\n",
       "      <th>energy_use_intensity</th>\n",
       "      <th>eui</th>\n",
       "    </tr>\n",
       "  </thead>\n",
       "  <tbody>\n",
       "    <tr>\n",
       "      <th>0</th>\n",
       "      <td>911.043002</td>\n",
       "      <td>253.067501</td>\n",
       "    </tr>\n",
       "    <tr>\n",
       "      <th>1</th>\n",
       "      <td>922.115987</td>\n",
       "      <td>256.143330</td>\n",
       "    </tr>\n",
       "    <tr>\n",
       "      <th>2</th>\n",
       "      <td>893.753105</td>\n",
       "      <td>248.264751</td>\n",
       "    </tr>\n",
       "    <tr>\n",
       "      <th>3</th>\n",
       "      <td>853.440909</td>\n",
       "      <td>237.066919</td>\n",
       "    </tr>\n",
       "    <tr>\n",
       "      <th>4</th>\n",
       "      <td>877.564371</td>\n",
       "      <td>243.767881</td>\n",
       "    </tr>\n",
       "  </tbody>\n",
       "</table>\n",
       "</div>"
      ],
      "text/plain": [
       "   energy_use_intensity         eui\n",
       "0            911.043002  253.067501\n",
       "1            922.115987  256.143330\n",
       "2            893.753105  248.264751\n",
       "3            853.440909  237.066919\n",
       "4            877.564371  243.767881"
      ]
     },
     "execution_count": 6,
     "metadata": {},
     "output_type": "execute_result"
    }
   ],
   "source": [
    "iei_df = pd.read_clipboard()\n",
    "iei_df[\"eui\"] = iei_df[\"energy_use_intensity\"] / 3.6\n",
    "iei_df.head(5)\n"
   ]
  },
  {
   "cell_type": "code",
   "execution_count": 23,
   "metadata": {},
   "outputs": [
    {
     "data": {
      "image/png": "[encoded data removed]",
      "text/plain": [
       "<Figure size 432x432 with 1 Axes>"
      ]
     },
     "metadata": {
      "needs_background": "light"
     },
     "output_type": "display_data"
    }
   ],
   "source": [
    "np.warnings.filterwarnings('ignore')\n",
    "data = comdf.query(\n",
    "    '\"Multi-Family with 5+ Units\" in btype_cat & cz > 8')\n",
    "data.loc[:, \"idx\"] = np.arange(data.shape[0])\n",
    "data.set_index(\"idx\")\n",
    "\n",
    "# Plot the empirical distribution of marginal EUI: sum_ij{ P(eui, btype_i, cz_j) }\n",
    "bins=50\n",
    "eui = pmf.Pmf(data.eui, bins, data.weight, id=data.index)\n",
    "eui_iei = pmf.Pmf(iei_df[\"eui\"], bins);\n",
    "\n",
    "_, ax = plt.subplots(1, 1, sharex=True, figsize=(6, 6))\n",
    "#pmf.plt_hist(eui_iei, width=15, ax=ax);\n",
    "iei_df[\"eui\"].hist(bins=50)\n",
    "ax.set_xlabel(\"IEI-Oslo (kWh/m2)\");\n"
   ]
  },
  {
   "cell_type": "code",
   "execution_count": 28,
   "metadata": {},
   "outputs": [
    {
     "name": "stdout",
     "output_type": "stream",
     "text": [
      "199.26201928214712\n"
     ]
    },
    {
     "data": {
      "image/png": "[encoded data removed]",
      "text/plain": [
       "<Figure size 432x432 with 2 Axes>"
      ]
     },
     "metadata": {
      "needs_background": "light"
     },
     "output_type": "display_data"
    }
   ],
   "source": [
    "_, ax = plt.subplots(2, 1, sharex=True, figsize=(6, 6))\n",
    "data[\"eui\"].hist(bins=50, ax=ax[1])\n",
    "ax[1].set_xlabel(\"NREL Climate Zones > 5A, Multifamily 5+ (kWh/m2)\")\n",
    "iei_df[\"eui\"].hist(bins=50, ax=ax[0])\n",
    "ax[0].set_xlabel(\"IEI-Oslo (kWh/m2)\");\n",
    "pp(data.eui.mean())"
   ]
  },
  {
   "cell_type": "code",
   "execution_count": 24,
   "metadata": {},
   "outputs": [
    {
     "data": {
      "text/plain": [
       "count    1240.000000\n",
       "mean      243.450409\n",
       "std         5.394842\n",
       "min       231.343159\n",
       "25%       239.406299\n",
       "50%       243.356000\n",
       "75%       247.744369\n",
       "max       278.046899\n",
       "Name: eui, dtype: float64"
      ]
     },
     "execution_count": 24,
     "metadata": {},
     "output_type": "execute_result"
    }
   ],
   "source": [
    "iei_df[\"eui\"].describe()"
   ]
  },
  {
   "cell_type": "code",
   "execution_count": 21,
   "metadata": {},
   "outputs": [
    {
     "data": {
      "image/png": "[encoded data removed]",
      "text/plain": [
       "<Figure size 432x432 with 2 Axes>"
      ]
     },
     "metadata": {
      "needs_background": "light"
     },
     "output_type": "display_data"
    }
   ],
   "source": [
    "_, ax = plt.subplots(2, 1, sharex=True, figsize=(6, 6))\n",
    "pmf.plt_hist(eui, width=15, ax=ax[1]); \n",
    "pmf.plt_hist(eui_iei, width=15, ax=ax[0]);\n",
    "ax[1].set_xlabel(\"NREL Climate Zones > 5A, Multifamily 5+ (kWh/m2)\")\n",
    "ax[0].set_xlabel(\"IEI-Oslo (kWh/m2)\");\n"
   ]
  },
  {
   "cell_type": "code",
   "execution_count": 22,
   "metadata": {},
   "outputs": [
    {
     "data": {
      "text/plain": [
       "count    27972.000000\n",
       "mean       199.262019\n",
       "std        116.124637\n",
       "min          2.037850\n",
       "25%        116.673845\n",
       "50%        175.370604\n",
       "75%        257.391520\n",
       "max       1127.059293\n",
       "Name: eui, dtype: float64"
      ]
     },
     "execution_count": 22,
     "metadata": {},
     "output_type": "execute_result"
    }
   ],
   "source": [
    "iei_df[\"eui\"].describe()\n",
    "# std: 14\n",
    "# 15 / 255 * 100.0\n",
    "data.eui.describe()\n",
    "\n"
   ]
  },
  {
   "cell_type": "code",
   "execution_count": 8,
   "metadata": {},
   "outputs": [
    {
     "ename": "SyntaxError",
     "evalue": "invalid syntax (Temp/ipykernel_8960/3668422546.py, line 28)",
     "output_type": "error",
     "traceback": [
      "\u001b[1;36m  File \u001b[1;32m\"C:\\Users\\admin\\AppData\\Local\\Temp/ipykernel_8960/3668422546.py\"\u001b[1;36m, line \u001b[1;32m28\u001b[0m\n\u001b[1;33m    epd_pmf = prob_cond(prior\"epd\", likelihood=likelihood, marginal=\"eui\", dag=dag)\u001b[0m\n\u001b[1;37m                             ^\u001b[0m\n\u001b[1;31mSyntaxError\u001b[0m\u001b[1;31m:\u001b[0m invalid syntax\n"
     ]
    }
   ],
   "source": [
    "\"\"\"\n",
    "- Goal: Show stairstep?\n",
    "- Goal: Show forward/inverse prob. models?\n",
    "- Eval: Show prediction accuracy by testing on validation set. \n",
    "\"\"\"\n",
    "theta = \"epd\"\n",
    "X = [\"cz\", \"vintage\", \"btype\"]\n",
    "y = \"eui\"\n",
    "evidence = {\"eui\":[25, 50, 75], \"cz\":\"4B\", \"vintage\":\"pst80s\", \"btype\":\"LargeOffice\"}\n",
    "\n",
    "# Infer parameter epd from y, X\n",
    "\n",
    "# Construct data according to Pyro\n",
    "dag = DAG(data=compdf)  \n",
    "\n",
    "# Model joint and marginal probability of p(X, eui)\n",
    "for varx in X: \n",
    "    epd_eui_pmf = prob_joint(varx, \"eui\", dag=dag)\n",
    "    m1, m2 = prob_marginal(varx, dag=dag), prob_marginal(\"eui\", dag=dag)\n",
    "    plt_hist3(epd_eui_pmf, m1, m2)\n",
    "    \n",
    "# Forward modeling (p(y=[25,50,75]|X,theta)) ??\n",
    "for x in X: \n",
    "    eui_pmf = prob_cond(prior=\"eui\", likelihood=5, marginal=5)\n",
    "\n",
    "# Model inverse p(X=epd | eui=[25, 50, 75])\n",
    "for eui_pctile in [25, 50, 75]:\n",
    "    epd_pmf = prob_cond(prior\"epd\", likelihood=likelihood, marginal=\"eui\", dag=dag)\n",
    "    plt_hist(epd_pmf)\n",
    "    info_metric = cond_entropy(epd_pmf)  # how much info obtained about epd given eui\n",
    "    print(info_metric)\n",
    "\n"
   ]
  },
  {
   "cell_type": "code",
   "execution_count": null,
   "metadata": {},
   "outputs": [],
   "source": [
    "# TODO: \n",
    "# Xclean up function: _make_joint_pmf(data) \n",
    "# Xtest _make_joint_pmf(data)\n",
    "# XJointPmf(dataset) -> df w/ multiindex\n",
    "# write: margin_pmf(joint_pmf) -> Pmf\n",
    "# test p(x, y) = p(x) & p(y) = p(x) p(x|y) = p(y) p(y|x)\n",
    "# plot joint of eui and cz (same as query)\n",
    "# write cond_pmf\n",
    "# p(e,cz,v) = p(e|cz,v) p(cz|v) p(v) \n"
   ]
  },
  {
   "cell_type": "code",
   "execution_count": null,
   "metadata": {},
   "outputs": [],
   "source": [
    "from scipy.stats import binned_statistic \n",
    "\n",
    "# Flip two coins, probability of state = 2^2 = 4 states:\n",
    "# Joint pmf is:\n",
    "# [Hx_Hy, Hy_Tx]\n",
    "# [Tx_Hy, Ty_Tx]\n",
    "pxy = np.array(\n",
    "  # y1: H, x2:T\n",
    "    [[.25, .25],  # x1: H \n",
    "     [.25, .25]]) # x2: T\n",
    "# p(x, y) = p(x) & p(y) = p(x) p(x|y) = p(y) p(y|x) \n",
    "# Marginalize ith x row by:\n",
    "# 1. Summing joint through all j cols \n",
    "# 2. Normalize with factor p(x_ij) = 1 / sum_ij( p(x_ij, y_ij))    \n",
    "# p(x_i=1) = sum_j p(x_i=1, y_j) \n",
    "#px = 1 / np.sum([xy_ij for x_i in pxy for xy_ij in x_i])\n",
    "px_i = np.array([[np.sum(x_i)] for x_i in pxy])\n",
    "# pp(px_i)\n",
    "# For py iterate through column space\n",
    "py_i = np.array([[np.sum(y_j)] for y_j in pxy.T]).T\n",
    "# pp(py_i)\n"
   ]
  },
  {
   "cell_type": "code",
   "execution_count": null,
   "metadata": {},
   "outputs": [],
   "source": []
  }
 ],
 "metadata": {
  "interpreter": {
   "hash": "d6a669fa4023ae2b271cee94ea7dc3f46c6f4326b957ce106e12dc5ae8b709f3"
  },
  "kernelspec": {
   "display_name": "Python 3.9.7 64-bit ('ml': conda)",
   "language": "python",
   "name": "python3"
  },
  "language_info": {
   "codemirror_mode": {
    "name": "ipython",
    "version": 3
   },
   "file_extension": ".py",
   "mimetype": "text/x-python",
   "name": "python",
   "nbconvert_exporter": "python",
   "pygments_lexer": "ipython3",
   "version": "3.9.7"
  },
  "orig_nbformat": 4
 },
 "nbformat": 4,
 "nbformat_minor": 2
}
