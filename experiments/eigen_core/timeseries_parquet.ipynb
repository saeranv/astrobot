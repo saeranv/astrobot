{
 "cells": [
  {
   "cell_type": "code",
   "execution_count": null,
   "metadata": {},
   "outputs": [],
   "source": [
    "%load_ext autoreload\n",
    "%autoreload 2\n",
    "%config Completer.use_jedi = False\n",
    "\n",
    "import os \n",
    "import sys \n",
    "\n",
    "# TODO: remove '..' if run from root folder\n",
    "home = os.path.abspath(os.path.join(os.getcwd(), '..', '..', '..'))\n",
    "pths = [os.path.join(home, 'astrobot'), os.path.join(home, 'astrobot', 'tests')]\n",
    "\n",
    "for pth in pths: \n",
    "    if pth not in sys.path: sys.path.insert(0, pth)\n",
    "\n",
    "from astrobot import pmf\n",
    "\n",
    "import numpy as np \n",
    "import pandas as pd\n",
    "from pprint import pprint \n",
    "import matplotlib.pyplot as plt \n",
    "from functools import reduce \n",
    "\n",
    "def pp(x, *args): \n",
    "    pprint(x) if not args else (pprint(x), pp(*args))\n"
   ]
  },
  {
   "cell_type": "code",
   "execution_count": null,
   "metadata": {},
   "outputs": [],
   "source": [
    "\n",
    "DATADIR = \"C:/users/admin/master/astrobot/resources/rescomstock/comstock\"\n",
    "assert os.path.isdir(DATADIR)"
   ]
  },
  {
   "cell_type": "code",
   "execution_count": null,
   "metadata": {},
   "outputs": [],
   "source": [
    "#100 * comdf.query(\"cz_cat == '7A' | cz_cat == '7B'\").weight.sum() / comdf.weight.sum() \n",
    "tfpath = os.path.join(DATADIR, \"alaska_timeseries_100803-0.parquet\")\n",
    "_tdf = pd.read_parquet(tfpath)\n",
    "_tdf[\"idx\"] = np.arange(_tdf.shape[0])\n",
    "_tdf = _tdf.set_index(\"idx\")\n",
    "pp(_tdf.shape)\n",
    "pp(_tdf[\"out.site_energy.total.energy_consumption_intensity\"].sum())\n",
    "__tdf = _tdf[34000:].dropna(axis=1)\n",
    "pp(__tdf.shape)\n"
   ]
  },
  {
   "cell_type": "code",
   "execution_count": null,
   "metadata": {},
   "outputs": [],
   "source": [
    "#pp([i for i in _tdf.columns if \"intensity\" in i])\n",
    "\n",
    "lbls_old = [\n",
    "    \"timestamp\",\n",
    "    \"out.electricity.interior_lighting.energy_consumption_intensity\",\n",
    "    'out.electricity.interior_equipment.energy_consumption_intensity',\n",
    "    \"out.natural_gas.heating.energy_consumption_intensity\",\n",
    "    \"out.electricity.cooling.energy_consumption_intensity\",\n",
    "    \"out.site_energy.total.energy_consumption_intensity\"]\n",
    "lbls_ = [\"qli\", \"qeq\", \"qhe\", \"qco\", \"qto\"]\n",
    "lbls = [\"ti\"] + lbls_\n",
    "tdf = __tdf.rename(columns={a:b for a,b in zip(lbls_old, lbls)}, inplace=False)\n",
    "\n",
    "i = 34000\n",
    "(tdf.loc[i:i+96, lbls_] * 1000).plot();\n",
    "\n",
    "#pp(31 * 24 * 4)\n",
    "#tdf[lbls].head() * 1000\n"
   ]
  }
 ],
 "metadata": {
  "language_info": {
   "name": "python"
  },
  "orig_nbformat": 4
 },
 "nbformat": 4,
 "nbformat_minor": 2
}
