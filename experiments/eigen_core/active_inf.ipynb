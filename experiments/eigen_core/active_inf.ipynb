{
 "cells": [
  {
   "cell_type": "code",
   "execution_count": 2,
   "metadata": {},
   "outputs": [],
   "source": [
    "import os \n",
    "import sys \n",
    "\n",
    "import numpy as np \n",
    "import pandas as pd \n",
    "import matplotlib.pyplot as plt\n",
    "import seaborn as sn \n",
    "\n",
    "home = \\\n",
    "    os.path.abspath(os.path.join(os.getcwd(), '..', '..', '..'))\n",
    "pths = [os.path.join(home, 'astrobot'), \n",
    "        os.path.join(home, 'astrobot', 'tests')]\n",
    "\n",
    "for pth in pths: \n",
    "    if pth not in sys.path: sys.path.insert(0, pth)\n",
    "    \n",
    "import astrobot as ab "
   ]
  },
  {
   "cell_type": "markdown",
   "metadata": {},
   "source": [
    "Create categorical conditional matrices for: \n",
    "  like_x_y, prior_y, then:k \n",
    "\n",
    "XY: R~3x2 and Y: R~3x1 \n",
    "Yi = rows 3 observations \n",
    "Xj = cols 2 states\n",
    "\n",
    "X xj, xj, xj   Y\n",
    " [[0,  0,  0], yi\n",
    "  [0,  0,  0]] yi\n",
    "\n",
    "Matrix multiply XY, Y => \n",
    "Ex[Y] = XY @ Y = \\sum_k{ XY[:,k=j] * Y[k=i,0] }\n",
    " \n",
    "joint_x_y: p(x,y) = outer(X, Y); iff X, Y are independent\n",
    "margin_X: p(X) = like_x_y.T @ Y \n",
    "margin_Y: p(Y) = sum(joint_x_y, axis=1~{obs_0, obs_1, obs_2})\n",
    "               = like_x_y @ Y \n",
    "post_Y_x: p(Y|x) = (like_x_y @ prior_Y) / margin_X    "
   ]
  },
  {
   "cell_type": "code",
   "execution_count": 3,
   "metadata": {},
   "outputs": [
    {
     "name": "stdout",
     "output_type": "stream",
     "text": [
      "Sum over likelihood evidence axis 0 => [1.1  0.56 0.34]\n",
      "Sum over likelihood state axis 1 => [1. 1.]\n",
      "Success!\n"
     ]
    }
   ],
   "source": [
    "\"\"\"\n",
    "Marginal Y from matrix multiply of like XY and prior Y.\n",
    "     \n",
    "    $$\n",
    "    p(y) &= \\sum_i{ p(x|y_i) \\cdot p(y_i) } \\\n",
    "         &= p(x|y_i) \\cdot p(y_i)  \n",
    "    $$\n",
    "\"\"\"\n",
    "    \n",
    "    \n",
    "# p(y) = p(x|y).T p(y) \n",
    "# ~ 3x2 x 2x1 = 2x1; expectation of y    \n",
    "# Create liklihood matrix \n",
    "like_x_y = np.array(\n",
    "    [[0.6, 0.15, 0.25],\n",
    "     [0.5, 0.41, 0.09]]\n",
    "    )  \n",
    "\n",
    "# Sum over axis to get marginal evidence, states \n",
    "# In likelihood, each state == 1, as it is a probability.\n",
    "# In joint, each state != 1\n",
    "print('Sum over likelihood evidence axis 0 =>', like_x_y.sum(axis=0))\n",
    "print('Sum over likelihood state axis 1 =>', like_x_y.sum(axis=1))\n",
    "\n",
    "# x-axis=obs, y-axis=states\n",
    "prior_y = np.array(\n",
    "    [[0.75],\n",
    "     [0.25]]\n",
    "    )\n",
    "\n",
    "tst_margin_X = np.array(\n",
    "    [[0.575],\n",
    "     [0.215], \n",
    "     [0.21]]\n",
    "    )\n",
    "\n",
    "assert like_x_y.shape == (2, 3), like_x_y\n",
    "assert prior_y.shape == (2, 1), prior_y\n",
    "margin_X = like_x_y.T @ prior_y # (2,3) x (3,1)\n",
    "assert margin_X.shape == (3, 1), margin_X.shape\n",
    "assert np.allclose(margin_X, tst_margin_X, atol=1e-3), margin_X\n",
    "\n",
    "# Check correct pmf\n",
    "# Test likelihood is pmf\n",
    "tst_state_pmf = np.array([1., 1.]) \n",
    "state_pmf = like_x_y.sum(axis=1) \n",
    "assert np.allclose(state_pmf, tst_state_pmf, atol=1e-3), state_pmf\n",
    "obs_pmf = like_x_y.sum()\n",
    "assert np.abs(obs_pmf - 1.0) > 1e-3, obs_pmf\n",
    "# Test prior is pmf\n",
    "assert np.abs(prior_y.sum() - 1.0) < 1e-3, prior_y.sum()\n",
    "\n",
    "print('Success!')"
   ]
  },
  {
   "cell_type": "code",
   "execution_count": null,
   "metadata": {},
   "outputs": [],
   "source": [
    "from dataclasses import dataclass \n",
    "from typing import Sequence, Union \n",
    "from numpy.typing import npt.NDArray\n",
    "import functools as ft \n",
    "\n",
    "@dataclass(init=True, repr=True, eq=True, order=False, frozen=True, unsafe_hash=False)\n",
    "class Pmf:\n",
    "    \"\"\"Probability Mass Function.    \n",
    "    - Make simple Pmf dataclass\n",
    "    - arg: data=mtx of values, columns[opt]=[dim1, dim2]\n",
    "    - if opt: make pandas df_joint of all 2 combos\n",
    "    - .m = data\n",
    "    - .cols = cols\n",
    "    - add indexing: [dim1:dim2] => DataFrame(data[dim1, dim2]).joint\n",
    "    - check sums to 1.0 ~margin/joint\n",
    "    - check sums to 1.0 on at least on axis (~likelihood)\n",
    "    - .type: margin, joint, like\n",
    "    - set to frozen\n",
    "    \"\"\"\n",
    "    data: npt.NDArray[float]\n",
    "    cols: Sequence[str]\n",
    "    \n",
    "    @ft.singledispatchmethod\n",
    "    \n",
    "    \n",
    "     \n",
    "    "
   ]
  }
 ],
 "metadata": {
  "kernelspec": {
   "display_name": "Python 3.9.7 ('ml')",
   "language": "python",
   "name": "python3"
  },
  "language_info": {
   "codemirror_mode": {
    "name": "ipython",
    "version": 3
   },
   "file_extension": ".py",
   "mimetype": "text/x-python",
   "name": "python",
   "nbconvert_exporter": "python",
   "pygments_lexer": "ipython3",
   "version": "3.9.7"
  },
  "orig_nbformat": 4,
  "vscode": {
   "interpreter": {
    "hash": "f00434f7f1188cbf6cbc50d8ac508f58cd89d939b817a016aa1844dfa1b1a227"
   }
  }
 },
 "nbformat": 4,
 "nbformat_minor": 2
}
