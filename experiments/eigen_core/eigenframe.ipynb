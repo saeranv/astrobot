{
 "cells": [
  {
   "cell_type": "code",
   "execution_count": 1,
   "metadata": {},
   "outputs": [],
   "source": [
    "%load_ext autoreload\n",
    "%autoreload 2\n",
    "%config Completer.use_jedi = False\n",
    "\n",
    "import os \n",
    "import sys \n",
    "\n",
    "# TODO: remove '..' if run from root folder\n",
    "home = os.path.abspath(os.path.join(os.getcwd(), '..', '..', '..'))\n",
    "pths = [os.path.join(home, 'astrobot'), os.path.join(home, 'astrobot', 'tests')]\n",
    "\n",
    "for pth in pths: \n",
    "    if pth not in sys.path: sys.path.insert(0, pth)\n",
    "\n",
    "from astrobot import pmf\n",
    "\n",
    "import numpy as np \n",
    "import pandas as pd\n",
    "from pprint import pprint \n",
    "import matplotlib.pyplot as plt \n",
    "from functools import reduce \n",
    "\n",
    "def pp(x, *args): \n",
    "    pprint(x) if not args else (pprint(x), pp(*args))\n"
   ]
  },
  {
   "cell_type": "code",
   "execution_count": 2,
   "metadata": {},
   "outputs": [
    {
     "data": {
      "text/html": [
       "<div>\n",
       "<style scoped>\n",
       "    .dataframe tbody tr th:only-of-type {\n",
       "        vertical-align: middle;\n",
       "    }\n",
       "\n",
       "    .dataframe tbody tr th {\n",
       "        vertical-align: top;\n",
       "    }\n",
       "\n",
       "    .dataframe thead th {\n",
       "        text-align: right;\n",
       "    }\n",
       "</style>\n",
       "<table border=\"1\" class=\"dataframe\">\n",
       "  <thead>\n",
       "    <tr style=\"text-align: right;\">\n",
       "      <th></th>\n",
       "      <th>bldg_id</th>\n",
       "      <th>applicability</th>\n",
       "      <th>in.upgrade_name</th>\n",
       "      <th>in.aspect_ratio</th>\n",
       "      <th>in.county</th>\n",
       "      <th>in.building_type</th>\n",
       "      <th>in.rotation</th>\n",
       "      <th>in.number_of_stories</th>\n",
       "      <th>in.sqft</th>\n",
       "      <th>in.hvac_system_type</th>\n",
       "      <th>...</th>\n",
       "      <th>out.electricity.total.energy_consumption_intensity</th>\n",
       "      <th>out.site_energy.total.energy_consumption</th>\n",
       "      <th>out.site_energy.total.energy_consumption_intensity</th>\n",
       "      <th>out.natural_gas.total.energy_consumption</th>\n",
       "      <th>out.natural_gas.total.energy_consumption_intensity</th>\n",
       "      <th>out.other_fuel.total.energy_consumption</th>\n",
       "      <th>out.other_fuel.total.energy_consumption_intensity</th>\n",
       "      <th>upgrade</th>\n",
       "      <th>weight</th>\n",
       "      <th>metadata_index</th>\n",
       "    </tr>\n",
       "  </thead>\n",
       "  <tbody>\n",
       "    <tr>\n",
       "      <th>0</th>\n",
       "      <td>105</td>\n",
       "      <td>True</td>\n",
       "      <td>Baseline</td>\n",
       "      <td>2.0</td>\n",
       "      <td>G0100890</td>\n",
       "      <td>SmallOffice</td>\n",
       "      <td>270.0</td>\n",
       "      <td>1.0</td>\n",
       "      <td>17500.0</td>\n",
       "      <td>PSZ-AC with electric coil</td>\n",
       "      <td>...</td>\n",
       "      <td>8.988889</td>\n",
       "      <td>536.748835</td>\n",
       "      <td>0.030671</td>\n",
       "      <td>0.0</td>\n",
       "      <td>0.0</td>\n",
       "      <td>0.0</td>\n",
       "      <td>0.0</td>\n",
       "      <td>0</td>\n",
       "      <td>7.041741</td>\n",
       "      <td>0</td>\n",
       "    </tr>\n",
       "    <tr>\n",
       "      <th>1</th>\n",
       "      <td>170</td>\n",
       "      <td>True</td>\n",
       "      <td>Baseline</td>\n",
       "      <td>3.0</td>\n",
       "      <td>G0100690</td>\n",
       "      <td>SmallOffice</td>\n",
       "      <td>270.0</td>\n",
       "      <td>1.0</td>\n",
       "      <td>3000.0</td>\n",
       "      <td>PSZ-AC with electric coil</td>\n",
       "      <td>...</td>\n",
       "      <td>10.487037</td>\n",
       "      <td>107.349767</td>\n",
       "      <td>0.035783</td>\n",
       "      <td>0.0</td>\n",
       "      <td>0.0</td>\n",
       "      <td>0.0</td>\n",
       "      <td>0.0</td>\n",
       "      <td>0</td>\n",
       "      <td>7.041741</td>\n",
       "      <td>1</td>\n",
       "    </tr>\n",
       "  </tbody>\n",
       "</table>\n",
       "<p>2 rows × 83 columns</p>\n",
       "</div>"
      ],
      "text/plain": [
       "   bldg_id  applicability in.upgrade_name  in.aspect_ratio in.county  \\\n",
       "0      105           True        Baseline              2.0  G0100890   \n",
       "1      170           True        Baseline              3.0  G0100690   \n",
       "\n",
       "  in.building_type  in.rotation  in.number_of_stories  in.sqft  \\\n",
       "0      SmallOffice        270.0                   1.0  17500.0   \n",
       "1      SmallOffice        270.0                   1.0   3000.0   \n",
       "\n",
       "         in.hvac_system_type  ...  \\\n",
       "0  PSZ-AC with electric coil  ...   \n",
       "1  PSZ-AC with electric coil  ...   \n",
       "\n",
       "   out.electricity.total.energy_consumption_intensity  \\\n",
       "0                                           8.988889    \n",
       "1                                          10.487037    \n",
       "\n",
       "   out.site_energy.total.energy_consumption  \\\n",
       "0                                536.748835   \n",
       "1                                107.349767   \n",
       "\n",
       "   out.site_energy.total.energy_consumption_intensity  \\\n",
       "0                                           0.030671    \n",
       "1                                           0.035783    \n",
       "\n",
       "   out.natural_gas.total.energy_consumption  \\\n",
       "0                                       0.0   \n",
       "1                                       0.0   \n",
       "\n",
       "  out.natural_gas.total.energy_consumption_intensity  \\\n",
       "0                                                0.0   \n",
       "1                                                0.0   \n",
       "\n",
       "  out.other_fuel.total.energy_consumption  \\\n",
       "0                                     0.0   \n",
       "1                                     0.0   \n",
       "\n",
       "  out.other_fuel.total.energy_consumption_intensity upgrade    weight  \\\n",
       "0                                               0.0       0  7.041741   \n",
       "1                                               0.0       0  7.041741   \n",
       "\n",
       "  metadata_index  \n",
       "0              0  \n",
       "1              1  \n",
       "\n",
       "[2 rows x 83 columns]"
      ]
     },
     "execution_count": 2,
     "metadata": {},
     "output_type": "execute_result"
    }
   ],
   "source": [
    "# bldg_stock namespace\n",
    "def get_osm_url(bldg_id, zero_pad=7):\n",
    "    zeros = reduce(\n",
    "        lambda a, b: str(a)+\"0\", range(zero_pad - int(np.log10(bldg_id) + 1)))\n",
    "    return (\"https://oedi-data-lake.s3.amazonaws.com/nrel-pds-building-stock/\" +  \"end-use-load-profiles-for-us-building-stock/2021/\" +\n",
    "            \"comstock_tmy3_release_1/building_energy_models/\" + \n",
    "            \"bldg{}-up00.osm.gz\".format(zeros + str(bldg_id)))\n",
    "            \n",
    "DATADIR = \"C:/users/admin/master/astrobot/resources/rescomstock/comstock\"\n",
    "assert os.path.isdir(DATADIR)\n",
    "metacom_fpath = os.path.join(DATADIR, \"metadata_comstock.tsv\")\n",
    "_comdf = pd.read_csv(metacom_fpath, sep='\\t')\n",
    "_comdf = _comdf.dropna(axis=0, how=\"any\")\n",
    "_comdf.head(2)"
   ]
  },
  {
   "cell_type": "code",
   "execution_count": 3,
   "metadata": {},
   "outputs": [],
   "source": [
    "def search_comdf_var(var):\n",
    "    return [col for col in _comdf.columns if var.lower() in col.lower()]\n",
    "\n",
    "#search_comdf_var(\"weight\")\n",
    "#set(_comdf[\"in.building_type\"])\n",
    "#_comdf[[\"metadata_index\", \"bldg_id\"]]\n",
    "#_comdf.columns"
   ]
  },
  {
   "cell_type": "code",
   "execution_count": 4,
   "metadata": {},
   "outputs": [
    {
     "data": {
      "text/html": [
       "<div>\n",
       "<style scoped>\n",
       "    .dataframe tbody tr th:only-of-type {\n",
       "        vertical-align: middle;\n",
       "    }\n",
       "\n",
       "    .dataframe tbody tr th {\n",
       "        vertical-align: top;\n",
       "    }\n",
       "\n",
       "    .dataframe thead th {\n",
       "        text-align: right;\n",
       "    }\n",
       "</style>\n",
       "<table border=\"1\" class=\"dataframe\">\n",
       "  <thead>\n",
       "    <tr style=\"text-align: right;\">\n",
       "      <th></th>\n",
       "      <th>cz_cat</th>\n",
       "      <th>cz</th>\n",
       "      <th>btype_cat</th>\n",
       "      <th>btype</th>\n",
       "      <th>weight</th>\n",
       "      <th>metadata_index</th>\n",
       "      <th>bldg_id</th>\n",
       "      <th>eui</th>\n",
       "    </tr>\n",
       "  </thead>\n",
       "  <tbody>\n",
       "    <tr>\n",
       "      <th>0</th>\n",
       "      <td>3A</td>\n",
       "      <td>3</td>\n",
       "      <td>SmallOffice</td>\n",
       "      <td>12</td>\n",
       "      <td>7.041741</td>\n",
       "      <td>0</td>\n",
       "      <td>105</td>\n",
       "      <td>96.760416</td>\n",
       "    </tr>\n",
       "    <tr>\n",
       "      <th>1</th>\n",
       "      <td>3A</td>\n",
       "      <td>3</td>\n",
       "      <td>SmallOffice</td>\n",
       "      <td>12</td>\n",
       "      <td>7.041741</td>\n",
       "      <td>1</td>\n",
       "      <td>170</td>\n",
       "      <td>112.887152</td>\n",
       "    </tr>\n",
       "    <tr>\n",
       "      <th>2</th>\n",
       "      <td>3A</td>\n",
       "      <td>3</td>\n",
       "      <td>RetailStripmall</td>\n",
       "      <td>9</td>\n",
       "      <td>1.947971</td>\n",
       "      <td>2</td>\n",
       "      <td>254</td>\n",
       "      <td>455.818507</td>\n",
       "    </tr>\n",
       "  </tbody>\n",
       "</table>\n",
       "</div>"
      ],
      "text/plain": [
       "  cz_cat  cz        btype_cat  btype    weight  metadata_index  bldg_id  \\\n",
       "0     3A   3      SmallOffice     12  7.041741               0      105   \n",
       "1     3A   3      SmallOffice     12  7.041741               1      170   \n",
       "2     3A   3  RetailStripmall      9  1.947971               2      254   \n",
       "\n",
       "          eui  \n",
       "0   96.760416  \n",
       "1  112.887152  \n",
       "2  455.818507  "
      ]
     },
     "execution_count": 4,
     "metadata": {},
     "output_type": "execute_result"
    }
   ],
   "source": [
    "comdf = _comdf.copy()\n",
    "# pp([c for c in _comdf.columns if \"in.\" in c])\n",
    "\n",
    "y_lbls = [\"eui\"] \n",
    "X_lbls = [\"cz_cat\", \"cz\", \"btype_cat\", \"btype\", \"weight\", \"metadata_index\", \"bldg_id\"] \n",
    "comdf[[\"cz_cat\", \"btype_cat\"]] = comdf[[\"in.climate_zone_ashrae_2004\", \"in.building_type\"]]\n",
    "_mbtu_arr, _sqft_arr = \\\n",
    "    comdf[\"out.site_energy.total.energy_consumption\"], comdf[\"in.sqft\"]\n",
    "comdf[y_lbls[0]] = (_mbtu_arr * 1e6 / 3412) / (_sqft_arr / 10.764)  # Convert MBTU, ft2 -> kWh/m2\n",
    "\n",
    "# Integer encoding for cz categories\n",
    "cz_dict = {cz:i for i, cz in enumerate(np.unique(comdf[\"cz_cat\"]))}\n",
    "comdf[\"cz\"] = [cz_dict[cz] for cz in comdf[\"cz_cat\"]]\n",
    " \n",
    "# Integer encoding for btype\n",
    "btype_dict = {bt:i for i, bt in enumerate(np.unique(comdf[\"btype_cat\"]))}\n",
    "comdf[\"btype\"] = [btype_dict[bt] for bt in comdf[\"btype_cat\"]]\n",
    "\n",
    "comdf = comdf[X_lbls + y_lbls]\n",
    "comdf.head(3)"
   ]
  },
  {
   "cell_type": "code",
   "execution_count": 73,
   "metadata": {},
   "outputs": [
    {
     "name": "stdout",
     "output_type": "stream",
     "text": [
      "(35040, 51)\n",
      "209.56212137936953\n",
      "(1040, 35)\n"
     ]
    }
   ],
   "source": [
    "\n",
    "#100 * comdf.query(\"cz_cat == '7A' | cz_cat == '7B'\").weight.sum() / comdf.weight.sum() \n",
    "\n",
    "tfpath = os.path.join(DATADIR, \"alaska_timeseries_100803-0.parquet\")\n",
    "_tdf = pd.read_parquet(tfpath)\n",
    "_tdf[\"idx\"] = np.arange(_tdf.shape[0])\n",
    "_tdf = _tdf.set_index(\"idx\")\n",
    "pp(_tdf.shape)\n",
    "pp(_tdf[\"out.site_energy.total.energy_consumption_intensity\"].sum())\n",
    "__tdf = _tdf[34000:].dropna(axis=1)\n",
    "pp(__tdf.shape)\n",
    "\n"
   ]
  },
  {
   "cell_type": "code",
   "execution_count": 100,
   "metadata": {},
   "outputs": [
    {
     "data": {
      "image/png": "[encoded data removed]",
      "text/plain": [
       "<Figure size 432x288 with 1 Axes>"
      ]
     },
     "metadata": {
      "needs_background": "light"
     },
     "output_type": "display_data"
    }
   ],
   "source": [
    "#pp([i for i in _tdf.columns if \"intensity\" in i])\n",
    "\n",
    "lbls_old = [\n",
    "    \"timestamp\",\n",
    "    \"out.electricity.interior_lighting.energy_consumption_intensity\",\n",
    "    'out.electricity.interior_equipment.energy_consumption_intensity',\n",
    "    \"out.natural_gas.heating.energy_consumption_intensity\",\n",
    "    \"out.electricity.cooling.energy_consumption_intensity\",\n",
    "    \"out.site_energy.total.energy_consumption_intensity\"]\n",
    "lbls_ = [\"qli\", \"qeq\", \"qhe\", \"qco\", \"qto\"]\n",
    "lbls = [\"ti\"] + lbls_\n",
    "tdf = __tdf.rename(columns={a:b for a,b in zip(lbls_old, lbls)}, inplace=False)\n",
    "\n",
    "i = 34000\n",
    "(tdf.loc[i:i+96, lbls_] * 1000).plot();\n",
    "\n",
    "#pp(31 * 24 * 4)\n",
    "#tdf[lbls].head() * 1000\n"
   ]
  },
  {
   "cell_type": "code",
   "execution_count": 5,
   "metadata": {},
   "outputs": [
    {
     "name": "stdout",
     "output_type": "stream",
     "text": [
      "(344057, 83)\n",
      "1543251.4395087715\n"
     ]
    }
   ],
   "source": [
    "print(_comdf.shape)\n",
    "print(_comdf.weight.sum())\n",
    "\n",
    "from tests.pmf_test import test_make_pmf, test_make_bin_idx, test_make_bin_edges\n",
    "from tests.pmf_test import test_make_joint_pmf \n",
    "\n",
    "from scipy.stats._binned_statistic import binned_statistic\n",
    "pd.set_option(\"display.precision\", 6)\n",
    "\n",
    "test_make_bin_edges()\n",
    "test_make_bin_idx()\n",
    "test_make_pmf()\n",
    "\n",
    "test_make_joint_pmf()\n"
   ]
  },
  {
   "cell_type": "code",
   "execution_count": 24,
   "metadata": {},
   "outputs": [
    {
     "data": {
      "image/png": "[encoded data removed]",
      "text/plain": [
       "<Figure size 432x288 with 1 Axes>"
      ]
     },
     "metadata": {
      "needs_background": "light"
     },
     "output_type": "display_data"
    }
   ],
   "source": [
    "# Joint Pmf\n",
    "btype = \"LargeOffice\"\n",
    "cz = \"5B\"\n",
    "data = comdf.query(\"btype_cat == '{}' & cz_cat == '{}'\".format(btype, cz))\n",
    "\n",
    "eui = pmf.Pmf(data.eui, 25, data.weight, id=data.index)\n",
    "pmf.plt_hist(eui, width=15); \n",
    "eui.df.head(5) \n",
    "\n",
    "dfj = pmf.JointPmf([1, 0, 0, 1], [1, 0, 0, 1], bins1=4, bins2=4)\n",
    "\n",
    "\n"
   ]
  },
  {
   "cell_type": "code",
   "execution_count": 8,
   "metadata": {},
   "outputs": [
    {
     "ename": "SyntaxError",
     "evalue": "invalid syntax (Temp/ipykernel_8960/3668422546.py, line 28)",
     "output_type": "error",
     "traceback": [
      "\u001b[1;36m  File \u001b[1;32m\"C:\\Users\\admin\\AppData\\Local\\Temp/ipykernel_8960/3668422546.py\"\u001b[1;36m, line \u001b[1;32m28\u001b[0m\n\u001b[1;33m    epd_pmf = prob_cond(prior\"epd\", likelihood=likelihood, marginal=\"eui\", dag=dag)\u001b[0m\n\u001b[1;37m                             ^\u001b[0m\n\u001b[1;31mSyntaxError\u001b[0m\u001b[1;31m:\u001b[0m invalid syntax\n"
     ]
    }
   ],
   "source": [
    "\"\"\"\n",
    "- Goal: Show stairstep?\n",
    "- Goal: Show forward/inverse prob. models?\n",
    "- Eval: Show prediction accuracy by testing on validation set. \n",
    "\"\"\"\n",
    "theta = \"epd\"\n",
    "X = [\"cz\", \"vintage\", \"btype\"]\n",
    "y = \"eui\"\n",
    "evidence = {\"eui\":[25, 50, 75], \"cz\":\"4B\", \"vintage\":\"pst80s\", \"btype\":\"LargeOffice\"}\n",
    "\n",
    "# Infer parameter epd from y, X\n",
    "\n",
    "# Construct data according to Pyro\n",
    "dag = DAG(data=compdf)  \n",
    "\n",
    "# Model joint and marginal probability of p(X, eui)\n",
    "for varx in X: \n",
    "    epd_eui_pmf = prob_joint(varx, \"eui\", dag=dag)\n",
    "    m1, m2 = prob_marginal(varx, dag=dag), prob_marginal(\"eui\", dag=dag)\n",
    "    plt_hist3(epd_eui_pmf, m1, m2)\n",
    "    \n",
    "# Forward modeling (p(y=[25,50,75]|X,theta)) ??\n",
    "for x in X: \n",
    "    eui_pmf = prob_cond(prior=\"eui\", likelihood=5, marginal=5)\n",
    "\n",
    "# Model inverse p(X=epd | eui=[25, 50, 75])\n",
    "for eui_pctile in [25, 50, 75]:\n",
    "    epd_pmf = prob_cond(prior\"epd\", likelihood=likelihood, marginal=\"eui\", dag=dag)\n",
    "    plt_hist(epd_pmf)\n",
    "    info_metric = cond_entropy(epd_pmf)  # how much info obtained about epd given eui\n",
    "    print(info_metric)\n",
    "\n"
   ]
  },
  {
   "cell_type": "code",
   "execution_count": null,
   "metadata": {},
   "outputs": [],
   "source": [
    "# TODO: \n",
    "# Xclean up function: _make_joint_pmf(data) \n",
    "# Xtest _make_joint_pmf(data)\n",
    "# XJointPmf(dataset) -> df w/ multiindex\n",
    "# write: margin_pmf(joint_pmf) -> Pmf\n",
    "# test p(x, y) = p(x) & p(y) = p(x) p(x|y) = p(y) p(y|x)\n",
    "# plot joint of eui and cz (same as query)\n",
    "# write cond_pmf\n",
    "# p(e,cz,v) = p(e|cz,v) p(cz|v) p(v) \n"
   ]
  },
  {
   "cell_type": "code",
   "execution_count": null,
   "metadata": {},
   "outputs": [],
   "source": [
    "from scipy.stats import binned_statistic \n",
    "\n",
    "# Flip two coins, probability of state = 2^2 = 4 states:\n",
    "# Joint pmf is:\n",
    "# [Hx_Hy, Hy_Tx]\n",
    "# [Tx_Hy, Ty_Tx]\n",
    "pxy = np.array(\n",
    "  # y1: H, x2:T\n",
    "    [[.25, .25],  # x1: H \n",
    "     [.25, .25]]) # x2: T\n",
    "# p(x, y) = p(x) & p(y) = p(x) p(x|y) = p(y) p(y|x) \n",
    "# Marginalize ith x row by:\n",
    "# 1. Summing joint through all j cols \n",
    "# 2. Normalize with factor p(x_ij) = 1 / sum_ij( p(x_ij, y_ij))    \n",
    "# p(x_i=1) = sum_j p(x_i=1, y_j) \n",
    "#px = 1 / np.sum([xy_ij for x_i in pxy for xy_ij in x_i])\n",
    "px_i = np.array([[np.sum(x_i)] for x_i in pxy])\n",
    "# pp(px_i)\n",
    "# For py iterate through column space\n",
    "py_i = np.array([[np.sum(y_j)] for y_j in pxy.T]).T\n",
    "# pp(py_i)\n"
   ]
  },
  {
   "cell_type": "code",
   "execution_count": null,
   "metadata": {},
   "outputs": [],
   "source": []
  }
 ],
 "metadata": {
  "interpreter": {
   "hash": "d6a669fa4023ae2b271cee94ea7dc3f46c6f4326b957ce106e12dc5ae8b709f3"
  },
  "kernelspec": {
   "display_name": "Python 3.9.7 64-bit ('ml': conda)",
   "language": "python",
   "name": "python3"
  },
  "language_info": {
   "codemirror_mode": {
    "name": "ipython",
    "version": 3
   },
   "file_extension": ".py",
   "mimetype": "text/x-python",
   "name": "python",
   "nbconvert_exporter": "python",
   "pygments_lexer": "ipython3",
   "version": "3.9.7"
  },
  "orig_nbformat": 4
 },
 "nbformat": 4,
 "nbformat_minor": 2
}
