{
 "cells": [
  {
   "cell_type": "code",
   "execution_count": 1,
   "metadata": {},
   "outputs": [],
   "source": [
    "%load_ext autoreload\n",
    "%autoreload 2\n",
    "%config Completer.use_jedi = False\n",
    "\n",
    "import os \n",
    "import sys \n",
    "\n",
    "# TODO: remove '..' if run from root folder\n",
    "home = os.path.abspath(os.path.join(os.getcwd(), '..', '..', '..'))\n",
    "pths = [os.path.join(home, 'astrobot'), os.path.join(home, 'astrobot', 'tests')]\n",
    "\n",
    "for pth in pths: \n",
    "    if pth not in sys.path: sys.path.insert(0, pth)\n",
    "\n",
    "from astrobot import pmf\n",
    "\n",
    "import numpy as np \n",
    "import pandas as pd\n",
    "from pprint import pprint \n",
    "import matplotlib.pyplot as plt \n",
    "from functools import reduce \n",
    "\n",
    "def pp(x, *args): \n",
    "    pprint(x) if not args else (pprint(x), pp(*args))\n"
   ]
  },
  {
   "cell_type": "code",
   "execution_count": 7,
   "metadata": {},
   "outputs": [
    {
     "data": {
      "text/html": [
       "<div>\n",
       "<style scoped>\n",
       "    .dataframe tbody tr th:only-of-type {\n",
       "        vertical-align: middle;\n",
       "    }\n",
       "\n",
       "    .dataframe tbody tr th {\n",
       "        vertical-align: top;\n",
       "    }\n",
       "\n",
       "    .dataframe thead th {\n",
       "        text-align: right;\n",
       "    }\n",
       "</style>\n",
       "<table border=\"1\" class=\"dataframe\">\n",
       "  <thead>\n",
       "    <tr style=\"text-align: right;\">\n",
       "      <th></th>\n",
       "      <th>cz_cat</th>\n",
       "      <th>cz</th>\n",
       "      <th>btype_cat</th>\n",
       "      <th>btype</th>\n",
       "      <th>weight</th>\n",
       "      <th>metadata_index</th>\n",
       "      <th>bldg_id</th>\n",
       "      <th>eui</th>\n",
       "    </tr>\n",
       "  </thead>\n",
       "  <tbody>\n",
       "    <tr>\n",
       "      <th>0</th>\n",
       "      <td>3A</td>\n",
       "      <td>3</td>\n",
       "      <td>SmallOffice</td>\n",
       "      <td>12</td>\n",
       "      <td>7.041741</td>\n",
       "      <td>0</td>\n",
       "      <td>105</td>\n",
       "      <td>96.760416</td>\n",
       "    </tr>\n",
       "    <tr>\n",
       "      <th>1</th>\n",
       "      <td>3A</td>\n",
       "      <td>3</td>\n",
       "      <td>SmallOffice</td>\n",
       "      <td>12</td>\n",
       "      <td>7.041741</td>\n",
       "      <td>1</td>\n",
       "      <td>170</td>\n",
       "      <td>112.887152</td>\n",
       "    </tr>\n",
       "    <tr>\n",
       "      <th>2</th>\n",
       "      <td>3A</td>\n",
       "      <td>3</td>\n",
       "      <td>RetailStripmall</td>\n",
       "      <td>9</td>\n",
       "      <td>1.947971</td>\n",
       "      <td>2</td>\n",
       "      <td>254</td>\n",
       "      <td>455.818507</td>\n",
       "    </tr>\n",
       "    <tr>\n",
       "      <th>3</th>\n",
       "      <td>3A</td>\n",
       "      <td>3</td>\n",
       "      <td>RetailStripmall</td>\n",
       "      <td>9</td>\n",
       "      <td>1.947971</td>\n",
       "      <td>3</td>\n",
       "      <td>313</td>\n",
       "      <td>322.748017</td>\n",
       "    </tr>\n",
       "    <tr>\n",
       "      <th>4</th>\n",
       "      <td>3A</td>\n",
       "      <td>3</td>\n",
       "      <td>SmallOffice</td>\n",
       "      <td>12</td>\n",
       "      <td>7.041741</td>\n",
       "      <td>4</td>\n",
       "      <td>318</td>\n",
       "      <td>196.152142</td>\n",
       "    </tr>\n",
       "  </tbody>\n",
       "</table>\n",
       "</div>"
      ],
      "text/plain": [
       "  cz_cat  cz        btype_cat  btype    weight  metadata_index  bldg_id  \\\n",
       "0     3A   3      SmallOffice     12  7.041741               0      105   \n",
       "1     3A   3      SmallOffice     12  7.041741               1      170   \n",
       "2     3A   3  RetailStripmall      9  1.947971               2      254   \n",
       "3     3A   3  RetailStripmall      9  1.947971               3      313   \n",
       "4     3A   3      SmallOffice     12  7.041741               4      318   \n",
       "\n",
       "          eui  \n",
       "0   96.760416  \n",
       "1  112.887152  \n",
       "2  455.818507  \n",
       "3  322.748017  \n",
       "4  196.152142  "
      ]
     },
     "execution_count": 7,
     "metadata": {},
     "output_type": "execute_result"
    }
   ],
   "source": [
    "from astrobot import bld_stock \n",
    "\n",
    "def search_comdf_var(var):\n",
    "    return [col for col in _comdf.columns if var.lower() in col.lower()]\n",
    "\n",
    "# TODO: convert to parquet \n",
    "_comdf = bld_stock.comstock_df()\n",
    "comdf = bld_stock.processed_comstock_df(_comdf)\n",
    "comdf.head(5)"
   ]
  },
  {
   "cell_type": "code",
   "execution_count": 64,
   "metadata": {},
   "outputs": [
    {
     "data": {
      "text/html": [
       "<div>\n",
       "<style scoped>\n",
       "    .dataframe tbody tr th:only-of-type {\n",
       "        vertical-align: middle;\n",
       "    }\n",
       "\n",
       "    .dataframe tbody tr th {\n",
       "        vertical-align: top;\n",
       "    }\n",
       "\n",
       "    .dataframe thead th {\n",
       "        text-align: right;\n",
       "    }\n",
       "</style>\n",
       "<table border=\"1\" class=\"dataframe\">\n",
       "  <thead>\n",
       "    <tr style=\"text-align: right;\">\n",
       "      <th></th>\n",
       "      <th>ps</th>\n",
       "      <th>qs</th>\n",
       "    </tr>\n",
       "    <tr>\n",
       "      <th>bins</th>\n",
       "      <th></th>\n",
       "      <th></th>\n",
       "    </tr>\n",
       "  </thead>\n",
       "  <tbody>\n",
       "    <tr>\n",
       "      <th>0</th>\n",
       "      <td>0.064516</td>\n",
       "      <td>56.480940</td>\n",
       "    </tr>\n",
       "    <tr>\n",
       "      <th>1</th>\n",
       "      <td>0.000000</td>\n",
       "      <td>67.184505</td>\n",
       "    </tr>\n",
       "  </tbody>\n",
       "</table>\n",
       "</div>"
      ],
      "text/plain": [
       "            ps         qs\n",
       "bins                     \n",
       "0     0.064516  56.480940\n",
       "1     0.000000  67.184505"
      ]
     },
     "execution_count": 64,
     "metadata": {},
     "output_type": "execute_result"
    },
    {
     "data": {
      "image/png": "[encoded data removed]",
      "text/plain": [
       "<Figure size 360x144 with 2 Axes>"
      ]
     },
     "metadata": {
      "needs_background": "light"
     },
     "output_type": "display_data"
    }
   ],
   "source": [
    "# Joint Pmf\n",
    "btype = \"LargeOffice\"\n",
    "cz = \"5B\"\n",
    "data = comdf.query(\"btype_cat == '{}' & cz_cat == '{}'\".format(btype, cz))\n",
    "\n",
    "# Plot the empirical distribution of marginal EUI: sum_ij{ P(eui, btype_i, cz_j) }\n",
    "eui = pmf.Pmf(data.eui, 25, data.weight, id=data.index)\n",
    "_, ax = plt.subplots(1,2, figsize=(5, 2), sharey=True)\n",
    "pmf.plt_hist(eui, edgecolor='black', ax=ax[0]); \n",
    "pd.DataFrame(data=eui.qs_arr).hist(\n",
    "    density=True, bins=eui.bins, edgecolor='black', ax=ax[1])\n",
    "eui.df.head(2) \n",
    "\n",
    "# dfj = pmf.JointPmf([1, 0, 0, 1], [1, 0, 0, 1], bins1=4, bins2=4)\n",
    "# def marginalize()\n"
   ]
  },
  {
   "cell_type": "code",
   "execution_count": 5,
   "metadata": {},
   "outputs": [
    {
     "name": "stdout",
     "output_type": "stream",
     "text": [
      "(344057, 88)\n",
      "1543251.4395087715\n"
     ]
    }
   ],
   "source": [
    "print(_comdf.shape)\n",
    "print(_comdf.weight.sum())\n",
    "\n",
    "from tests.pmf_test import test_make_pmf, test_make_bin_idx, test_make_bin_edges\n",
    "from tests.pmf_test import test_make_joint_pmf \n",
    "\n",
    "from scipy.stats._binned_statistic import binned_statistic\n",
    "pd.set_option(\"display.precision\", 6)\n",
    "\n",
    "test_make_bin_edges()\n",
    "test_make_bin_idx()\n",
    "test_make_pmf()\n",
    "\n",
    "test_make_joint_pmf()\n"
   ]
  },
  {
   "cell_type": "code",
   "execution_count": 6,
   "metadata": {},
   "outputs": [
    {
     "ename": "SyntaxError",
     "evalue": "invalid syntax (Temp/ipykernel_22204/3668422546.py, line 28)",
     "output_type": "error",
     "traceback": [
      "\u001b[1;36m  File \u001b[1;32m\"C:\\Users\\admin\\AppData\\Local\\Temp/ipykernel_22204/3668422546.py\"\u001b[1;36m, line \u001b[1;32m28\u001b[0m\n\u001b[1;33m    epd_pmf = prob_cond(prior\"epd\", likelihood=likelihood, marginal=\"eui\", dag=dag)\u001b[0m\n\u001b[1;37m                             ^\u001b[0m\n\u001b[1;31mSyntaxError\u001b[0m\u001b[1;31m:\u001b[0m invalid syntax\n"
     ]
    }
   ],
   "source": [
    "\"\"\"\n",
    "- Goal: Show stairstep?\n",
    "- Goal: Show forward/inverse prob. models?\n",
    "- Eval: Show prediction accuracy by testing on validation set. \n",
    "\"\"\"\n",
    "theta = \"epd\"\n",
    "X = [\"cz\", \"vintage\", \"btype\"]\n",
    "y = \"eui\"\n",
    "evidence = {\"eui\":[25, 50, 75], \"cz\":\"4B\", \"vintage\":\"pst80s\", \"btype\":\"LargeOffice\"}\n",
    "\n",
    "# Infer parameter epd from y, X\n",
    "\n",
    "# Construct data according to Pyro\n",
    "dag = DAG(data=compdf)  \n",
    "\n",
    "# Model joint and marginal probability of p(X, eui)\n",
    "for varx in X: \n",
    "    epd_eui_pmf = prob_joint(varx, \"eui\", dag=dag)\n",
    "    m1, m2 = prob_marginal(varx, dag=dag), prob_marginal(\"eui\", dag=dag)\n",
    "    plt_hist3(epd_eui_pmf, m1, m2)\n",
    "    \n",
    "# Forward modeling (p(y=[25,50,75]|X,theta)) ??\n",
    "for x in X: \n",
    "    eui_pmf = prob_cond(prior=\"eui\", likelihood=5, marginal=5)\n",
    "\n",
    "# Model inverse p(X=epd | eui=[25, 50, 75])\n",
    "for eui_pctile in [25, 50, 75]:\n",
    "    epd_pmf = prob_cond(prior\"epd\", likelihood=likelihood, marginal=\"eui\", dag=dag)\n",
    "    plt_hist(epd_pmf)\n",
    "    info_metric = cond_entropy(epd_pmf)  # how much info obtained about epd given eui\n",
    "    print(info_metric)\n",
    "\n"
   ]
  },
  {
   "cell_type": "code",
   "execution_count": null,
   "metadata": {},
   "outputs": [],
   "source": [
    "# TODO: \n",
    "# Xclean up function: _make_joint_pmf(data) \n",
    "# Xtest _make_joint_pmf(data)\n",
    "# XJointPmf(dataset) -> df w/ multiindex\n",
    "# write: margin_pmf(joint_pmf) -> Pmf\n",
    "# test p(x, y) = p(x) & p(y) = p(x) p(x|y) = p(y) p(y|x)\n",
    "# plot joint of eui and cz (same as query)\n",
    "# write cond_pmf\n",
    "# p(e,cz,v) = p(e|cz,v) p(cz|v) p(v) \n"
   ]
  },
  {
   "cell_type": "code",
   "execution_count": null,
   "metadata": {},
   "outputs": [],
   "source": [
    "from scipy.stats import binned_statistic \n",
    "\n",
    "# Flip two coins, probability of state = 2^2 = 4 states:\n",
    "# Joint pmf is:\n",
    "# [Hx_Hy, Hy_Tx]\n",
    "# [Tx_Hy, Ty_Tx]\n",
    "pxy = np.array(\n",
    "  # y1: H, x2:T\n",
    "    [[.25, .25],  # x1: H \n",
    "     [.25, .25]]) # x2: T\n",
    "# p(x, y) = p(x) & p(y) = p(x) p(x|y) = p(y) p(y|x) \n",
    "# Marginalize ith x row by:\n",
    "# 1. Summing joint through all j cols \n",
    "# 2. Normalize with factor p(x_ij) = 1 / sum_ij( p(x_ij, y_ij))    \n",
    "# p(x_i=1) = sum_j p(x_i=1, y_j) \n",
    "#px = 1 / np.sum([xy_ij for x_i in pxy for xy_ij in x_i])\n",
    "px_i = np.array([[np.sum(x_i)] for x_i in pxy])\n",
    "# pp(px_i)\n",
    "# For py iterate through column space\n",
    "py_i = np.array([[np.sum(y_j)] for y_j in pxy.T]).T\n",
    "# pp(py_i)\n"
   ]
  },
  {
   "cell_type": "code",
   "execution_count": null,
   "metadata": {},
   "outputs": [],
   "source": []
  }
 ],
 "metadata": {
  "interpreter": {
   "hash": "d6a669fa4023ae2b271cee94ea7dc3f46c6f4326b957ce106e12dc5ae8b709f3"
  },
  "kernelspec": {
   "display_name": "Python 3.9.7 64-bit ('ml': conda)",
   "language": "python",
   "name": "python3"
  },
  "language_info": {
   "codemirror_mode": {
    "name": "ipython",
    "version": 3
   },
   "file_extension": ".py",
   "mimetype": "text/x-python",
   "name": "python",
   "nbconvert_exporter": "python",
   "pygments_lexer": "ipython3",
   "version": "3.9.7"
  },
  "orig_nbformat": 4
 },
 "nbformat": 4,
 "nbformat_minor": 2
}
