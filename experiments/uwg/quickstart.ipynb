{
 "cells": [
  {
   "cell_type": "code",
   "execution_count": 12,
   "metadata": {},
   "outputs": [
    {
     "data": {
      "text/plain": [
       "[('largeoffice', 'pst80', 0.4), ('midriseapartment', 'pst80', 0.6)]"
      ]
     },
     "execution_count": 12,
     "metadata": {},
     "output_type": "execute_result"
    }
   ],
   "source": [
    "from uwg import UWG\n",
    "\n",
    "epw = 'SGP_Singapore.486980_IWEC.epw'\n",
    "par = 'initialize_singapore.uwg'\n",
    "\n",
    "#model = UWG.from_param_file(par, epw)\n",
    "#model.generate()\n",
    "#model.bld"
   ]
  },
  {
   "cell_type": "code",
   "execution_count": 24,
   "metadata": {},
   "outputs": [
    {
     "name": "stdout",
     "output_type": "stream",
     "text": [
      "Simulating new temperature and humidity values for 31 days from 1/1.\n",
      "New climate file is generated at SGP_Singapore.486980_IWEC_UWG.epw.\n"
     ]
    }
   ],
   "source": [
    "from uwg import UWG\n",
    "\n",
    "epw = 'SGP_Singapore.486980_IWEC.epw'\n",
    "par = 'initialize_singapore.uwg'\n",
    "\n",
    "bld = [('largeoffice', 'pst80', 0.4), ('midriseapartment', 'pst80', 0.6)]\n",
    "UWG.from_param_args(bldheight=10, blddensity=0.5, vertohor=0.8, \n",
    "                    grasscover=0.1, treecover=0.1, zone='1A', bld=bld)\n",
    "\n",
    "model.generate()\n",
    "model.simulate()\n",
    "model.write_epw()"
   ]
  }
 ],
 "metadata": {
  "kernelspec": {
   "display_name": "Python 3",
   "language": "python",
   "name": "python3"
  },
  "language_info": {
   "codemirror_mode": {
    "name": "ipython",
    "version": 3
   },
   "file_extension": ".py",
   "mimetype": "text/x-python",
   "name": "python",
   "nbconvert_exporter": "python",
   "pygments_lexer": "ipython3",
   "version": "3.7.7"
  }
 },
 "nbformat": 4,
 "nbformat_minor": 4
}
