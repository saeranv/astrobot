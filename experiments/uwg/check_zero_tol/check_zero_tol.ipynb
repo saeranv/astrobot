{
 "cells": [
  {
   "cell_type": "code",
   "execution_count": 3,
   "metadata": {},
   "outputs": [],
   "source": [
    "%load_ext autoreload\n",
    "%autoreload 2\n",
    "%config Completer.use_jedi = False\n",
    "\n",
    "import os\n",
    "import sys \n",
    "\n",
    "pth = os.path.abspath(os.path.join(os.getcwd(), '..', '..', '..', '..','uwg'))\n",
    "if pth not in sys.path: sys.path.insert(0, pth)"
   ]
  },
  {
   "cell_type": "code",
   "execution_count": 1,
   "metadata": {},
   "outputs": [],
   "source": [
    "import uwg\n",
    "assert uwg "
   ]
  },
  {
   "cell_type": "code",
   "execution_count": 4,
   "metadata": {},
   "outputs": [
    {
     "output_type": "execute_result",
     "data": {
      "text/plain": [
       "True"
      ]
     },
     "metadata": {},
     "execution_count": 4
    }
   ],
   "source": [
    "import numpy as np\n",
    "import pandas as pd\n",
    "from uwg import UWG\n",
    "from uwg import Material, Element, Building, BEMDef, SchDef, UWG\n",
    "\n",
    "epw_path = os.path.abspath(os.path.join(os.path.curdir, \"TUR_Ankara.171280_IWEC.epw\"))\n",
    "os.path.isfile(epw_path)\n"
   ]
  },
  {
   "cell_type": "code",
   "execution_count": 10,
   "metadata": {},
   "outputs": [
    {
     "name": "stdout",
     "output_type": "stream",
     "text": [
      "imported!\n",
      "Simulating new temperature and humidity values for 31 days from 8/1.\n"
     ]
    }
   ],
   "source": [
    "\n",
    "def custom_uwg():\n",
    "    \"\"\"Generate UWG json with custom reference BEMDef and SchDef objects.\"\"\"\n",
    "\n",
    "    # override at 5,2 and add at 18,2\n",
    "\n",
    "    # SchDef\n",
    "    default_week = [[0.15] * 24] * 3\n",
    "    \n",
    "    schdef1 = SchDef(elec=default_week, gas=default_week, light=default_week,\n",
    "                     occ=default_week, cool=default_week, heat=default_week,\n",
    "                     swh=default_week, q_elec=18.9, q_gas=3.2, q_light=18.9,\n",
    "                     n_occ=0.12, vent=0.0013, v_swh=0.2846, bldtype='midriseapartment',\n",
    "                     builtera='new')\n",
    "    \n",
    "    # BEMDedf\n",
    "\n",
    "    # materials\n",
    "    insulation = Material(0.049, 836.8 * 265.0, 'insulation')\n",
    "    gypsum = Material(0.16, 830.0 * 784.9, 'gypsum')\n",
    "    brick = Material(0.47, 1000000 * 2.018, 'wood')\n",
    "\n",
    "    # elements\n",
    "    wall = Element(0.5, 0.92, [0.1, 0.1, 0.0127], [brick, insulation, gypsum], 0, 293, False, 'wood_frame_wall')\n",
    "    roof = Element(0.7, 0.92, [0.1, 0.1, 0.0127], [brick, insulation, gypsum], 1, 293, True, 'wood_frame_roof')\n",
    "    mass = Element(0.20, 0.9, [0.5, 0.5], [brick, brick], 0, 293, True, 'wood_floor')\n",
    "\n",
    "    # building\n",
    "    bldg = Building(\n",
    "        floor_height=3.0, int_heat_night=1, int_heat_day=1, int_heat_frad=0.1,\n",
    "        int_heat_flat=0.1, infil=0.171, vent=0.00045, glazing_ratio=0.4, u_value=3.0,\n",
    "        shgc=0.3, condtype='AIR', cop=3, coolcap=41, heateff=0.8, initial_temp=293)\n",
    "\n",
    "    bemdef1 = BEMDef(building=bldg, mass=mass, wall=wall, roof=roof, bldtype='midriseapartment', builtera='new')\n",
    "    \n",
    "    # vectors\n",
    "    ref_sch_vector = [schdef1]\n",
    "    ref_bem_vector = [bemdef1]\n",
    "    \n",
    "    bld = [('midriseapartment', 'new', 1)  # overwrite\n",
    "           ]  # extend\n",
    "    \n",
    "    model = UWG.from_param_args(\n",
    "        epw_path=epw_path, bldheight=17.5, blddensity=0.55, vertohor=1.8, zone='5A',\n",
    "        treecover=0.2, grasscover=0.249, bld=bld, ref_bem_vector=ref_bem_vector,\n",
    "        ref_sch_vector=ref_sch_vector, month=1, day=1, sensanth=10, nday=365, dtsim=200, albroad=0.2)\n",
    "    \n",
    "    model.generate()\n",
    "    model.simulate()\n",
    "    \n",
    "    model.write_epw()\n",
    "        \n",
    "\n",
    "custom_uwg()"
   ]
  }
 ],
 "metadata": {
  "kernelspec": {
   "name": "python3",
   "display_name": "Python 3.9.5 64-bit ('ml': conda)"
  },
  "language_info": {
   "codemirror_mode": {
    "name": "ipython",
    "version": 3
   },
   "file_extension": ".py",
   "mimetype": "text/x-python",
   "name": "python",
   "nbconvert_exporter": "python",
   "pygments_lexer": "ipython3",
   "version": "3.9.5"
  },
  "interpreter": {
   "hash": "de02f6dec8425232785b5e8ad7862aa028740e575246da6855442165288af63b"
  }
 },
 "nbformat": 4,
 "nbformat_minor": 4
}