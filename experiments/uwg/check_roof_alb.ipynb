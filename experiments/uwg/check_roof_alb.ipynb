{
 "cells": [
  {
   "cell_type": "code",
   "execution_count": 5,
   "metadata": {},
   "outputs": [
    {
     "name": "stdout",
     "output_type": "stream",
     "text": [
      "The autoreload extension is already loaded. To reload it, use:\n",
      "  %reload_ext autoreload\n"
     ]
    }
   ],
   "source": [
    "%load_ext autoreload\n",
    "%autoreload 2\n",
    "%config Completer.use_jedi = False\n",
    "\n",
    "import os\n",
    "import sys \n",
    "\n",
    "pth = os.path.abspath(os.path.join(os.getcwd(), '..', '..', '..','uwg'))\n",
    "if pth not in sys.path: sys.path.insert(0, pth)"
   ]
  },
  {
   "cell_type": "code",
   "execution_count": 6,
   "metadata": {},
   "outputs": [
    {
     "data": {
      "text/plain": [
       "<module 'uwg' from '/mnt/c/Users/Administrator/master/git/uwg/uwg/__init__.py'>"
      ]
     },
     "execution_count": 6,
     "metadata": {},
     "output_type": "execute_result"
    }
   ],
   "source": [
    "import uwg\n",
    "uwg"
   ]
  },
  {
   "cell_type": "code",
   "execution_count": 7,
   "metadata": {},
   "outputs": [],
   "source": [
    "import numpy as np\n",
    "import pandas as pd\n",
    "\n",
    "from uwg import UWG\n",
    "\n",
    "epw = 'SGP_Singapore.486980_IWEC.epw'"
   ]
  },
  {
   "cell_type": "code",
   "execution_count": 10,
   "metadata": {},
   "outputs": [
    {
     "name": "stdout",
     "output_type": "stream",
     "text": [
      "imported!\n",
      "Simulating new temperature and humidity values for 31 days from 8/1.\n"
     ]
    }
   ],
   "source": [
    "model1 = UWG.from_param_args(\n",
    "    bldheight=10, blddensity=0.5, vertohor=0.8, grasscover=0.1, \n",
    "    treecover=0.1, zone='1A', epw_path=epw, month=8, day=1, \n",
    "    nday=31, dtsim=150, c_exch=0.3)      \n",
    "\n",
    "model1.albroof = 0.9\n",
    "model1.generate()\n",
    "model1.simulate()"
   ]
  },
  {
   "cell_type": "code",
   "execution_count": 11,
   "metadata": {},
   "outputs": [
    {
     "name": "stdout",
     "output_type": "stream",
     "text": [
      "imported!\n",
      "Simulating new temperature and humidity values for 31 days from 8/1.\n"
     ]
    }
   ],
   "source": [
    "model2 = UWG.from_param_args(\n",
    "    bldheight=10, blddensity=0.5, vertohor=0.8, grasscover=0.1, \n",
    "    treecover=0.1, zone='1A', epw_path=epw, month=8, day=1, \n",
    "    nday=31, dtsim=150, c_exch=0.3)      \n",
    "\n",
    "model2.albroof = 0.2\n",
    "model2.generate()\n",
    "model2.simulate()"
   ]
  },
  {
   "cell_type": "code",
   "execution_count": 12,
   "metadata": {},
   "outputs": [
    {
     "name": "stdout",
     "output_type": "stream",
     "text": [
      "(744, 2)\n"
     ]
    }
   ],
   "source": [
    "d1 = np.array([ucm.canTemp - 273.15 for ucm in model1.UCMData])\n",
    "d2 = np.array([ucm.canTemp - 273.15 for ucm in model2.UCMData])\n",
    "\n",
    "df = pd.DataFrame({'d1': d1, 'd2': d2})\n",
    "print(df.shape)"
   ]
  },
  {
   "cell_type": "code",
   "execution_count": 13,
   "metadata": {},
   "outputs": [
    {
     "data": {
      "text/plain": [
       "-24.36675832456399"
      ]
     },
     "execution_count": 13,
     "metadata": {},
     "output_type": "execute_result"
    }
   ],
   "source": [
    "df['subt'] = df.d1 - df.d2\n",
    "df.subt.values.sum()"
   ]
  },
  {
   "cell_type": "code",
   "execution_count": 29,
   "metadata": {},
   "outputs": [
    {
     "name": "stdout",
     "output_type": "stream",
     "text": [
      "0.9400424035150189\n"
     ]
    }
   ],
   "source": [
    "# #from uwg import Element\n",
    "\n",
    "# ele = model1.BEM[0].mass\n",
    "# dt = model1.simTime.dt\n",
    "# flx1 = model1.BEM[0].building.fluxMass\n",
    "# temp2 = 0\n",
    "# flx2 = model1.BEM[0].building.fluxMass\n",
    "# bc = 0\n",
    "\n",
    "# #ele.Conduction(dt, flx1, bc, temp2, flx2)\n",
    "\n",
    "# #Conduction(simTime.dt, BEM[j].building.fluxMass, 1., 0., BEM[j].building.fluxMass)"
   ]
  }
 ],
 "metadata": {
  "kernelspec": {
   "display_name": "Python 3",
   "language": "python",
   "name": "python3"
  },
  "language_info": {
   "codemirror_mode": {
    "name": "ipython",
    "version": 3
   },
   "file_extension": ".py",
   "mimetype": "text/x-python",
   "name": "python",
   "nbconvert_exporter": "python",
   "pygments_lexer": "ipython3",
   "version": "3.7.7"
  }
 },
 "nbformat": 4,
 "nbformat_minor": 4
}
