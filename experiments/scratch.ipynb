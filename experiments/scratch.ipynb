{
 "metadata": {
  "language_info": {
   "codemirror_mode": {
    "name": "ipython",
    "version": 3
   },
   "file_extension": ".py",
   "mimetype": "text/x-python",
   "name": "python",
   "nbconvert_exporter": "python",
   "pygments_lexer": "ipython3",
   "version": "3.7.7-final"
  },
  "orig_nbformat": 2,
  "kernelspec": {
   "name": "python3",
   "display_name": "Python 3.7.7 64-bit ('ml': conda)",
   "metadata": {
    "interpreter": {
     "hash": "9698ca4175b2676ff197f2d323c82cc5ede0532e87e3903e87bf9ca7a63d0295"
    }
   }
  }
 },
 "nbformat": 4,
 "nbformat_minor": 2,
 "cells": [
  {
   "cell_type": "code",
   "execution_count": 1,
   "metadata": {},
   "outputs": [],
   "source": [
    "%load_ext autoreload\n",
    "%autoreload 2\n",
    "%config Completer.use_jedi = False\n",
    "\n",
    "import os \n",
    "import sys \n",
    "\n",
    "home = os.path.abspath(os.path.join(os.getcwd(), '..', '..'))\n",
    "pths = [os.path.join(home, 'astrobot')]\n",
    "\n",
    "for pth in pths: \n",
    "    if pth not in sys.path: sys.path.insert(0, pth)\n",
    "\n",
    "from astrobot.util import *\n",
    "\n",
    "import matplotlib.pyplot as plt \n",
    "import numpy as np \n",
    "from pprint import pprint as pp \n",
    "\n",
    "# Tab after '.' to get all methods \n",
    "# Tab Shift after () to get documentation."
   ]
  },
  {
   "cell_type": "code",
   "execution_count": 28,
   "metadata": {},
   "outputs": [
    {
     "output_type": "stream",
     "name": "stdout",
     "text": [
      "[  0. 180. 360.]\n90.0\n"
     ]
    },
    {
     "output_type": "execute_result",
     "data": {
      "text/plain": [
       "[270.0, 90.0, 270.0]"
      ]
     },
     "metadata": {},
     "execution_count": 28
    }
   ],
   "source": [
    "num_of_dir = 2\n",
    "bin_arr = np.linspace(0, 360, num_of_dir + 1)\n",
    "print(bin_arr)\n",
    "\n",
    "# Subtract half of segment to capture circular data.\n",
    "phi = 360. / (len(bin_arr) - 1) / 2.\n",
    "print(phi)\n",
    "deg = [b - phi if (b - phi) >= 0.0 else b - phi + 360. for b in bin_arr]\n",
    "deg"
   ]
  },
  {
   "cell_type": "code",
   "execution_count": 47,
   "metadata": {},
   "outputs": [
    {
     "output_type": "stream",
     "name": "stdout",
     "text": [
      "[(0, 30), (1, 40), (2, 50), (3, 60), (358, 10), (359, 20)]\n"
     ]
    },
    {
     "output_type": "execute_result",
     "data": {
      "text/plain": [
       "[[(358, 10), (359, 20)], [(0, 30), (1, 40), (2, 50)], [(3, 60)]]"
      ]
     },
     "metadata": {},
     "execution_count": 47
    }
   ],
   "source": [
    "bins = (358, 0, 3, 358)\n",
    "\n",
    "_dval = [358, 359, 0, 1, 2, 3, 4]\n",
    "_aval = [10, 20, 30, 40, 50, 60]\n",
    "\n",
    "values = zip(_dval, _aval)\n",
    "key, hist_range = lambda v: v[0], None\n",
    "\n",
    "vals = sorted(values, key=key)\n",
    "\n",
    "print(vals)\n",
    "\n",
    "hist_range = (key(vals[0]), key(vals[-1]) + 1)\n",
    "bin_bound_num = len(bins) - 1\n",
    "# Init histogram bins\n",
    "hist = [[] for i in range(bin_bound_num)]\n",
    "for val in vals:\n",
    "    k = key(val)\n",
    "    # Ignore values out of range\n",
    "    if k < hist_range[0] or k >= hist_range[1]:\n",
    "        continue\n",
    "    for i in range(bin_bound_num):\n",
    "        if bins[i] < bins[i + 1]:\n",
    "            if k >= bins[i] and k < bins[i + 1]:\n",
    "                hist[i].append(val)\n",
    "                break\n",
    "        else:\n",
    "            interval1 = (k <= hist_range[1] and k >= bins[i])\n",
    "            interval2 = (k < bins[i + 1] and k >= hist_range[0])\n",
    "            if interval1 or interval2:\n",
    "                hist[i].append(val)\n",
    "                break\n",
    "hist"
   ]
  },
  {
   "cell_type": "code",
   "execution_count": null,
   "metadata": {},
   "outputs": [],
   "source": []
  }
 ]
}