{
 "metadata": {
  "language_info": {
   "codemirror_mode": {
    "name": "ipython",
    "version": 3
   },
   "file_extension": ".py",
   "mimetype": "text/x-python",
   "name": "python",
   "nbconvert_exporter": "python",
   "pygments_lexer": "ipython3",
   "version": "3.9.5"
  },
  "orig_nbformat": 2,
  "kernelspec": {
   "name": "python3",
   "display_name": "Python 3.9.5 64-bit ('ml': conda)"
  },
  "metadata": {
   "interpreter": {
    "hash": "62cfbefde3460959c4eddda3e28ff7e666a58a9f2ea7341e4434581c548a266d"
   }
  },
  "interpreter": {
   "hash": "de02f6dec8425232785b5e8ad7862aa028740e575246da6855442165288af63b"
  }
 },
 "nbformat": 4,
 "nbformat_minor": 2,
 "cells": [
  {
   "cell_type": "code",
   "execution_count": 86,
   "source": [
    "%load_ext autoreload\r\n",
    "%autoreload 2\r\n",
    "%config Completer.use_jedi = False\r\n",
    "\r\n",
    "import os \r\n",
    "import sys \r\n",
    "\r\n",
    "# TODO: may have to add '..' if move from root folder\r\n",
    "home = os.path.abspath(os.path.join(os.getcwd(), '..', '..'))\r\n",
    "pths = [os.path.join(home, 'astrobot')]\r\n",
    "\r\n",
    "for pth in pths: \r\n",
    "    if pth not in sys.path: sys.path.insert(0, pth)\r\n",
    "\r\n",
    "from astrobot.util import *\r\n",
    "\r\n",
    "import matplotlib.pyplot as plt \r\n",
    "import numpy as np \r\n",
    "from pprint import pprint as pp \r\n",
    "# import pandas as pd \r\n",
    "\r\n",
    "# Tab after '.' to get all methods \r\n",
    "# Tab Shift after () to get documentation.\r\n",
    "# To read excel data:\r\n",
    "# pd.read_excel('afn_infil_data.xlsx')\r\n",
    "# pd.read_clipboard()\r\n",
    "\r\n",
    "# For experiments\r\n",
    "# path to astrobot roo\r\n",
    "ROOT_DIR\r\n",
    "\r\n",
    "# path to this package from experiments folder\r\n",
    "PACKAGE_FPATH_FOR_EXPERIMENTS\r\n",
    "\r\n",
    "# path to epw from experiments folder\r\n",
    "EPW_FPATH_FOR_EXPERIMENTS"
   ],
   "outputs": [
    {
     "output_type": "stream",
     "name": "stdout",
     "text": [
      "The autoreload extension is already loaded. To reload it, use:\n",
      "  %reload_ext autoreload\n"
     ]
    },
    {
     "output_type": "execute_result",
     "data": {
      "text/plain": [
       "'c:\\\\Users\\\\saera\\\\master\\\\resources\\\\epw\\\\philadelphia\\\\philadelphia.epw'"
      ]
     },
     "metadata": {},
     "execution_count": 86
    }
   ],
   "metadata": {}
  },
  {
   "cell_type": "code",
   "execution_count": null,
   "source": [],
   "outputs": [],
   "metadata": {}
  }
 ]
}