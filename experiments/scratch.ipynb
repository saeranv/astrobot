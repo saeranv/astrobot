{
 "cells": [
  {
   "cell_type": "code",
   "execution_count": 6,
   "metadata": {},
   "outputs": [
    {
     "name": "stdout",
     "output_type": "stream",
     "text": [
      "The autoreload extension is already loaded. To reload it, use:\n",
      "  %reload_ext autoreload\n"
     ]
    },
    {
     "data": {
      "text/plain": [
       "'c:\\\\Users\\\\admin\\\\master\\\\resources\\\\epw\\\\philadelphia\\\\philadelphia.epw'"
      ]
     },
     "execution_count": 6,
     "metadata": {},
     "output_type": "execute_result"
    }
   ],
   "source": [
    "%load_ext autoreload\n",
    "%autoreload 2\n",
    "%config Completer.use_jedi = False\n",
    "\n",
    "import os \n",
    "import sys \n",
    "\n",
    "# TODO: may have to add '..' if move from root folder\n",
    "home = os.path.abspath(os.path.join(os.getcwd(), '..', '..'))\n",
    "pths = [os.path.join(home, 'astrobot')]\n",
    "\n",
    "for pth in pths: \n",
    "    if pth not in sys.path: sys.path.insert(0, pth)\n",
    "\n",
    "from astrobot.util import *\n",
    "\n",
    "import matplotlib.pyplot as plt \n",
    "import seaborn as sn \n",
    "import numpy as np \n",
    "import pandas as pd \n",
    "\n",
    "from scipy import stats\n",
    "import functools as ft \n",
    "\n",
    "from __future__ import print_function\n",
    "\n",
    "import numpy as np\n",
    "import pandas as pd \n",
    " \n",
    "pp = print \n",
    "\n",
    "def ppf(x, *args, **kwargs):\n",
    "    def _pd(x):\n",
    "        frame = sys._getframe(1)\n",
    "        return repr(eval(x, frame.f_globals, frame.f_locals))\n",
    "    pp(f\"{x}={_pd(x)}\", *args, **kwargs)\n",
    "\n",
    "reduce = ft.reduce\n",
    "sn.set(style=\"ticks\", context=\"talk\")\n",
    "#plt.style.use(\"dark_background\")\n",
    "    \n",
    "# Tab after '.' to get all methods \n",
    "# Tab Shift after () to get documentation.\n",
    "# To read excel data:\n",
    "# pd.read_excel('afn_infil_data.xlsx')\n",
    "# pd.read_clipboard()\n",
    "\n",
    "# For experiments\n",
    "# path to astrobot roo\n",
    "ROOT_DIR\n",
    "\n",
    "# path to this package from experiments folder\n",
    "PACKAGE_FPATH_FOR_EXPERIMENTS\n",
    "\n",
    "# path to epw from experiments folder\n",
    "EPW_FPATH_FOR_EXPERIMENTS"
   ]
  },
  {
   "cell_type": "code",
   "execution_count": 7,
   "metadata": {},
   "outputs": [],
   "source": [
    "df = pd.read_clipboard()"
   ]
  },
  {
   "cell_type": "code",
   "execution_count": 33,
   "metadata": {},
   "outputs": [
    {
     "data": {
      "text/plain": [
       "Text(0.5, 1.0, 'Yakutsk EUI')"
      ]
     },
     "execution_count": 33,
     "metadata": {},
     "output_type": "execute_result"
    },
    {
     "data": {
      "image/png": "[encoded data removed]",
      "text/plain": [
       "<Figure size 864x432 with 2 Axes>"
      ]
     },
     "metadata": {},
     "output_type": "display_data"
    }
   ],
   "source": [
    "f, a = plt.subplots(2, 1, figsize=(12, 6), sharex=True, sharey=True)\n",
    "\n",
    "a[0].hist(df.iloc[:, 0], facecolor='blue', bins=10)\n",
    "a[1].hist(df.iloc[:, 1], facecolor='red', bins=25)\n",
    "a[0].grid; a[1].grid;\n",
    "a[0].set_title('Dunhuang EUI')\n",
    "a[1].set_title('Yakutsk EUI')\n"
   ]
  },
  {
   "cell_type": "code",
   "execution_count": null,
   "metadata": {},
   "outputs": [],
   "source": []
  }
 ],
 "metadata": {
  "interpreter": {
   "hash": "f00434f7f1188cbf6cbc50d8ac508f58cd89d939b817a016aa1844dfa1b1a227"
  },
  "kernelspec": {
   "display_name": "Python 3.9.7 ('ml')",
   "language": "python",
   "name": "python3"
  },
  "language_info": {
   "codemirror_mode": {
    "name": "ipython",
    "version": 3
   },
   "file_extension": ".py",
   "mimetype": "text/x-python",
   "name": "python",
   "nbconvert_exporter": "python",
   "pygments_lexer": "ipython3",
   "version": "3.9.7"
  },
  "metadata": {
   "interpreter": {
    "hash": "62cfbefde3460959c4eddda3e28ff7e666a58a9f2ea7341e4434581c548a266d"
   }
  },
  "orig_nbformat": 2
 },
 "nbformat": 4,
 "nbformat_minor": 2
}
