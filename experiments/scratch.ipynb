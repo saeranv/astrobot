{
 "cells": [
  {
   "cell_type": "code",
   "execution_count": 1,
   "metadata": {},
   "outputs": [
    {
     "data": {
      "text/plain": [
       "'c:\\\\Users\\\\admin\\\\master\\\\resources\\\\epw\\\\philadelphia\\\\philadelphia.epw'"
      ]
     },
     "execution_count": 1,
     "metadata": {},
     "output_type": "execute_result"
    }
   ],
   "source": [
    "%load_ext autoreload\n",
    "%autoreload 2\n",
    "%config Completer.use_jedi = False\n",
    "\n",
    "import os \n",
    "import sys \n",
    "\n",
    "# TODO: may have to add '..' if move from root folder\n",
    "home = os.path.abspath(os.path.join(os.getcwd(), '..', '..'))\n",
    "pths = [os.path.join(home, 'astrobot')]\n",
    "\n",
    "for pth in pths: \n",
    "    if pth not in sys.path: sys.path.insert(0, pth)\n",
    "\n",
    "from astrobot.util import *\n",
    "\n",
    "import matplotlib.pyplot as plt \n",
    "import seaborn as sn \n",
    "import numpy as np \n",
    "import pandas as pd \n",
    "\n",
    "from scipy import stats\n",
    "import functools as ft \n",
    "\n",
    "from __future__ import print_function\n",
    "\n",
    "import numpy as np\n",
    "import pandas as pd \n",
    " \n",
    "pp = print \n",
    "\n",
    "def ppf(x, *args, **kwargs):\n",
    "    def _pd(x):\n",
    "        frame = sys._getframe(1)\n",
    "        return repr(eval(x, frame.f_globals, frame.f_locals))\n",
    "    pp(f\"{x}={_pd(x)}\", *args, **kwargs)\n",
    "\n",
    "reduce = ft.reduce\n",
    "sn.set(style=\"ticks\", context=\"talk\")\n",
    "#plt.style.use(\"dark_background\")\n",
    "    \n",
    "# Tab after '.' to get all methods \n",
    "# Tab Shift after () to get documentation.\n",
    "# To read excel data:\n",
    "# pd.read_excel('afn_infil_data.xlsx')\n",
    "# pd.read_clipboard()\n",
    "\n",
    "# For experiments\n",
    "# path to astrobot roo\n",
    "ROOT_DIR\n",
    "\n",
    "# path to this package from experiments folder\n",
    "PACKAGE_FPATH_FOR_EXPERIMENTS\n",
    "\n",
    "# path to epw from experiments folder\n",
    "EPW_FPATH_FOR_EXPERIMENTS"
   ]
  },
  {
   "cell_type": "code",
   "execution_count": 7,
   "metadata": {},
   "outputs": [],
   "source": [
    "df = pd.read_clipboard()"
   ]
  },
  {
   "cell_type": "code",
   "execution_count": 15,
   "metadata": {},
   "outputs": [
    {
     "data": {
      "text/plain": [
       "array([[ 0. ,  0. ,  0. ,  0. ],\n",
       "       [-1. , -0.3, -0.3,  0.3],\n",
       "       [-1. , -0.3, -0.3,  0.3],\n",
       "       [ 0. ,  0. ,  0. ,  0. ]])"
      ]
     },
     "execution_count": 15,
     "metadata": {},
     "output_type": "execute_result"
    }
   ],
   "source": [
    "\n",
    "# 1 = PV, tilted to east at 45 degrees\n",
    "# 0 = ground, no tilt\n",
    "# 0, 0, 0, 0, # <- sun \n",
    "# 0, 1, 1, 0, # <- sun  \n",
    "# 0, 1, 1, 0, # <- sun  \n",
    "# 0, 0, 0, 0  # <- sun \n",
    "\n",
    "# hor-rad = 1.0\n",
    "# qdir==0.7 b/c 45 tilt on PV\n",
    "# hor-rad * cos(45) = 1 * 0.707\n",
    "# 1.3 = reflected + direct\n",
    "Qdir_pv = np.array([\n",
    "    [1.0, 1.0, 1.0, 1.0],  \n",
    "    [0.0, 0.7, 0.7, 1.3],  \n",
    "    [0.0, 0.7, 0.7, 1.3], \n",
    "    [0.0, 0.0, 0.0, 0.0]  # full shade not from this PV\n",
    "])  # [W/m2]\n",
    "\n",
    "Qdif_pv = np.array([\n",
    "    [0.1, 0.1, 0.1, 0.1],  \n",
    "    [0.1, 0.1, 0.1, 0.1], \n",
    "    [0.1, 0.1, 0.1, 0.1], \n",
    "    [0.1, 0.1, 0.0, 0.0]  # partial shade not from this PV\n",
    "])  # [W/m2]\n",
    "\n",
    "# without PV\n",
    "Qdir = np.array([\n",
    "    [1.0, 1.0, 1.0, 1.0],  \n",
    "    [1.0, 1.0, 1.0, 1.0],  \n",
    "    [1.0, 1.0, 1.0, 1.0], \n",
    "    [0.0, 0.0, 0.0, 0.0]  # full shade not from this PV\n",
    "])  # [W/m2]\n",
    "\n",
    "# without PV\n",
    "Qdif = np.array([\n",
    "    [0.1, 0.1, 0.1, 0.1],  \n",
    "    [0.1, 0.1, 0.1, 0.1], \n",
    "    [0.1, 0.1, 0.1, 0.1], \n",
    "    [0.1, 0.1, 0.0, 0.0]  # some shade not from this PV\n",
    "])  # [W/m2]\n",
    "\n",
    "Q_pv = Qdir_pv + Qdif_pv\n",
    "# array([[1.1, 1.1, 1.1, 1.1],\n",
    "#        [0.1, 0.8, 0.8, 1.4],\n",
    "#        [0.1, 0.8, 0.8, 1.4],\n",
    "#        [0.1, 0.1, 0. , 0. ]])\n",
    "\n",
    "Q = Qdir + Qdif\n",
    "# array([[1.1, 1.1, 1.1, 1.1],\n",
    "#        [1.1, 1.1, 1.1, 1.1],\n",
    "#        [1.1, 1.1, 1.1, 1.1],\n",
    "#        [0.1, 0.1, 0. , 0. ]])\n",
    "\n",
    "Qref = Q_pv - Q\n",
    "# array([[ 0. ,  0. ,  0. ,  0. ],\n",
    "#        [-1. , -0.3, -0.3,  0.3],\n",
    "#        [-1. , -0.3, -0.3,  0.3],\n",
    "#        [ 0. ,  0. ,  0. ,  0. ]])\n",
    "\n",
    "Qref[Qref >= 0.0] = 0.0\n",
    "\n"
   ]
  },
  {
   "cell_type": "code",
   "execution_count": null,
   "metadata": {},
   "outputs": [],
   "source": []
  },
  {
   "cell_type": "code",
   "execution_count": null,
   "metadata": {},
   "outputs": [],
   "source": []
  }
 ],
 "metadata": {
  "interpreter": {
   "hash": "f00434f7f1188cbf6cbc50d8ac508f58cd89d939b817a016aa1844dfa1b1a227"
  },
  "kernelspec": {
   "display_name": "Python 3.9.7 ('ml')",
   "language": "python",
   "name": "python3"
  },
  "language_info": {
   "codemirror_mode": {
    "name": "ipython",
    "version": 3
   },
   "file_extension": ".py",
   "mimetype": "text/x-python",
   "name": "python",
   "nbconvert_exporter": "python",
   "pygments_lexer": "ipython3",
   "version": "3.9.7"
  },
  "metadata": {
   "interpreter": {
    "hash": "62cfbefde3460959c4eddda3e28ff7e666a58a9f2ea7341e4434581c548a266d"
   }
  },
  "orig_nbformat": 2
 },
 "nbformat": 4,
 "nbformat_minor": 2
}
