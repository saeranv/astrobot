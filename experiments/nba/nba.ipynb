{
 "cells": [
  {
   "cell_type": "code",
   "execution_count": 46,
   "metadata": {},
   "outputs": [],
   "source": [
    "import numpy as np \n",
    "import pandas as pd \n",
    "import matplotlib.pyplot as plt   \n",
    "from pprint import pprint \n",
    "\n",
    "from datetime import datetime, timezone\n",
    "from dateutil import parser\n",
    "\n",
    "# Nba \n",
    "from nba_api.stats.static import teams, players \n",
    "from nba_api.live.nba.endpoints import scoreboard, boxscore, playbyplay\n",
    "\n",
    "def pp(x, *args):\n",
    "    pprint(x) if not args else (pprint(x), pp(args))\n",
    "\n",
    "custom_headers = {\n",
    "    'Host': 'stats.nba.com',\n",
    "    'Connection': 'keep-alive',\n",
    "    'Cache-Control': 'max-age=0',\n",
    "    'Upgrade-Insecure-Requests': '1',\n",
    "    'User-Agent': 'Mozilla/5.0 (Macintosh; Intel Mac OS X 10_14_3) AppleWebKit/537.36 (KHTML, like Gecko) Chrome/73.0.3683.86 Safari/537.36',\n",
    "    'Accept': 'text/html,application/xhtml+xml,application/xml;q=0.9,image/webp,image/apng,*/*;q=0.8,application/signed-exchange;v=b3',\n",
    "    'Accept-Encoding': 'gzip, deflate, br',\n",
    "    'Accept-Language': 'en-US,en;q=0.9',\n",
    "}"
   ]
  },
  {
   "cell_type": "code",
   "execution_count": 82,
   "metadata": {},
   "outputs": [],
   "source": [
    "# Add endpoints to variable to avoid multiple calls \n",
    "board = scoreboard.ScoreBoard()\n",
    "#box = boxscore.BoxScore('0022100985') \n",
    "pbp = playbyplay.PlayByPlay(\n",
    "    '0022100985') \n",
    "    # proxy='https://127.0.0.1:80', \n",
    "    # headers=custom_headers, \n",
    "    # timeout=100)\n"
   ]
  },
  {
   "cell_type": "code",
   "execution_count": 83,
   "metadata": {},
   "outputs": [
    {
     "name": "stdout",
     "output_type": "stream",
     "text": [
      "ScoreBoardDate: 2022-03-09\n",
      "0022100990: Trail Blazers vs. Jazz @ 2022-03-09 22:00:00-05:00\n",
      "PT00M00.00S {'team': None, 'odds': 0.0, 'suspended': 1}\n",
      "0022100985: Lakers vs. Rockets @ 2022-03-09 20:00:00-05:00\n",
      "PT03M46.00S {'team': None, 'odds': 0.0, 'suspended': 1}\n",
      "0022100991: Nuggets vs. Kings @ 2022-03-09 22:00:00-05:00\n",
      "PT11M29.00S {'team': None, 'odds': 0.0, 'suspended': 1}\n",
      "0022100988: Knicks vs. Mavericks @ 2022-03-09 20:30:00-05:00\n",
      "PT06M51.00S {'team': None, 'odds': 0.0, 'suspended': 1}\n",
      "0022100989: Raptors vs. Spurs @ 2022-03-09 20:30:00-05:00\n",
      "PT03M34.00S {'team': None, 'odds': 0.0, 'suspended': 1}\n",
      "0022100981: Celtics vs. Hornets @ 2022-03-09 19:00:00-05:00\n",
      " {'team': None, 'odds': 0.0, 'suspended': 1}\n",
      "0022100982: Bulls vs. Pistons @ 2022-03-09 19:00:00-05:00\n",
      " {'team': None, 'odds': 0.0, 'suspended': 1}\n",
      "0022100983: Suns vs. Heat @ 2022-03-09 19:30:00-05:00\n",
      " {'team': None, 'odds': 0.0, 'suspended': 1}\n",
      "0022100984: Hawks vs. Bucks @ 2022-03-09 20:00:00-05:00\n",
      " {'team': None, 'odds': 0.0, 'suspended': 1}\n",
      "0022100986: Thunder vs. Timberwolves @ 2022-03-09 20:00:00-05:00\n",
      " {'team': None, 'odds': 0.0, 'suspended': 1}\n",
      "0022100987: Magic vs. Pelicans @ 2022-03-09 20:00:00-05:00\n",
      " {'team': None, 'odds': 0.0, 'suspended': 1}\n",
      "0022100992: Wizards vs. Clippers @ 2022-03-09 22:30:00-05:00\n",
      " {'team': None, 'odds': 0.0, 'suspended': 1}\n"
     ]
    },
    {
     "data": {
      "text/plain": [
       "dict_keys(['gameId', 'gameCode', 'gameStatus', 'gameStatusText', 'period', 'gameClock', 'gameTimeUTC', 'gameEt', 'regulationPeriods', 'ifNecessary', 'seriesGameNumber', 'seriesText', 'homeTeam', 'awayTeam', 'gameLeaders', 'pbOdds'])"
      ]
     },
     "execution_count": 83,
     "metadata": {},
     "output_type": "execute_result"
    }
   ],
   "source": [
    "game_fx = lambda gid, at, ht, gt: f\"{gid}: {at} vs. {ht} @ {gt}\" \n",
    "print(\"ScoreBoardDate: \" + board.score_board_date)\n",
    "games = board.games.get_dict()\n",
    "for game in games:\n",
    "    game_time = parser.parse(game[\"gameTimeUTC\"])\n",
    "    game_time = game_time.replace(tzinfo=timezone.utc).astimezone(tz=None)\n",
    "    print(game_fx(game['gameId'], game['awayTeam']['teamName'], \n",
    "         game['homeTeam']['teamName'], game_time))\n",
    "    print(game[\"gameClock\"], game[\"pbOdds\"])\n",
    "board.games.get_dict()[0].keys()\n"
   ]
  },
  {
   "cell_type": "code",
   "execution_count": 87,
   "metadata": {},
   "outputs": [
    {
     "name": "stdout",
     "output_type": "stream",
     "text": [
      "775: 5: PT00M25.70S Malik Monk (3pt1)\n",
      "773: 5: PT00M29.80S Alperen Sengun (3pt1)\n",
      "772: 5: PT00M53.20S Austin Reaves (2pt1)\n",
      "770: 5: PT01M00.00S Jalen Green (3pt1)\n",
      "769: 5: PT01M23.00S LeBron James (3pt1)\n"
     ]
    },
    {
     "data": {
      "text/plain": [
       "dict_keys(['actionNumber', 'clock', 'timeActual', 'period', 'periodType', 'teamId', 'teamTricode', 'actionType', 'subType', 'qualifiers', 'personId', 'x', 'y', 'side', 'shotDistance', 'possession', 'scoreHome', 'scoreAway', 'edited', 'orderNumber', 'xLegacy', 'yLegacy', 'isFieldGoal', 'shotResult', 'pointsTotal', 'description', 'playerName', 'playerNameI', 'personIdsFilter'])"
      ]
     },
     "execution_count": 87,
     "metadata": {},
     "output_type": "execute_result"
    }
   ],
   "source": [
    "#denver = teams.find_teams_by_city(\"denver\")[0]\n",
    "#print(denver)\n",
    "#game = box.game.get_dict()\n",
    "#pp(game.keys())\n",
    "pbp = playbyplay.PlayByPlay('0022100985') \n",
    "line = \"{action_number}: {period}: {clock} {player_id} ({action_type})\"\n",
    "# plays are referred to in the live data as `actions`\n",
    "_actions = pbp.get_dict()['game']['actions'] \n",
    "n_actions = len(actions) \n",
    "actions = _actions[::-1][:5]  # check ten last actions \n",
    "for action in actions:\n",
    "    player_name = ''\n",
    "    player = players.find_player_by_id(action['personId'])\n",
    "    if player is not None:\n",
    "        player_name = player['full_name']\n",
    "    print(line.format(\n",
    "        action_number=action['actionNumber'],\n",
    "        period=action['period'],\n",
    "        clock=action['clock'],\n",
    "        action_type=action['actionType'] + str(action[\"isFieldGoal\"]),\n",
    "        player_id=player_name))\n",
    "\n",
    "scores = [(x[\"clock\"], x[\"scoreHome\"], x[\"scoreAway\"]) \n",
    "          for x in _actions if x[\"isFieldGoal\"]]\n",
    "#print(len(scores))\n",
    "action.keys()"
   ]
  },
  {
   "cell_type": "code",
   "execution_count": 91,
   "metadata": {},
   "outputs": [
    {
     "data": {
      "text/plain": [
       "array([139, 139, 136, 136, 133, 133, 130, 130, 130, 130, 130, 127, 127,\n",
       "       127, 125, 125, 122, 122, 120, 120, 120, 120, 120, 120, 120, 120,\n",
       "       120, 118, 116, 116, 116, 114, 114, 114, 114, 114, 114, 111, 109,\n",
       "       109, 109, 106, 106, 106, 106, 106, 106, 104, 104, 102, 102, 100,\n",
       "       100, 100, 100, 100, 100, 100,  97,  97,  97,  97,  97,  97,  97,\n",
       "        95,  93,  93,  93,  91,  91,  91,  91,  91,  91,  91,  89,  88,\n",
       "        86,  86,  86,  84,  84,  82,  82,  79,  79,  79,  78,  78,  78,\n",
       "        75,  75,  75,  75,  75,  75,  75,  73,  72,  70,  70,  68,  68,\n",
       "        68,  68,  65,  65,  65,  65,  63,  63,  61,  61,  61,  61,  61,\n",
       "        59,  59,  58,  55,  55,  53,  53,  53,  53,  53,  53,  53,  53,\n",
       "        53,  51,  51,  49,  49,  49,  47,  47,  47,  45,  45,  43,  43,\n",
       "        40,  40,  40,  40,  38,  35,  35,  35,  32,  32,  32,  30,  30,\n",
       "        30,  28,  28,  28,  27,  25,  25,  25,  22,  22,  22,  22,  20,\n",
       "        20,  20,  20,  18,  18,  16,  16,  16,  16,  14,  14,  14,  11,\n",
       "        11,  11,  11,   8,   8,   6,   6,   6,   6,   6,   6,   4,   4,\n",
       "         2,   0,   0,   0,   0,   0,   0,   0,   0])"
      ]
     },
     "execution_count": 91,
     "metadata": {},
     "output_type": "execute_result"
    }
   ],
   "source": [
    "clk, hpts, apts = zip(*scores)\n",
    "\n",
    "hpts = np.array(hpts).astype(int)\n",
    "hpts[::-1]\n"
   ]
  }
 ],
 "metadata": {
  "interpreter": {
   "hash": "de02f6dec8425232785b5e8ad7862aa028740e575246da6855442165288af63b"
  },
  "kernelspec": {
   "display_name": "Python 3.9.5 64-bit ('ml': conda)",
   "language": "python",
   "name": "python3"
  },
  "language_info": {
   "codemirror_mode": {
    "name": "ipython",
    "version": 3
   },
   "file_extension": ".py",
   "mimetype": "text/x-python",
   "name": "python",
   "nbconvert_exporter": "python",
   "pygments_lexer": "ipython3",
   "version": "3.9.5"
  },
  "orig_nbformat": 4
 },
 "nbformat": 4,
 "nbformat_minor": 2
}
