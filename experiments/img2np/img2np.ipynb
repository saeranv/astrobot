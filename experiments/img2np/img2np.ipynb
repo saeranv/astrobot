{
 "cells": [
  {
   "cell_type": "code",
   "execution_count": 8,
   "metadata": {},
   "outputs": [],
   "source": [
    "import numpy as np \n",
    "import matplotlib.pyplot as plt \n",
    "from pprint import pprint \n",
    "\n",
    "def pp(x, *args):\n",
    "    pprint(x) if not args else (pprint(x), pp(*args))"
   ]
  },
  {
   "cell_type": "code",
   "execution_count": 63,
   "metadata": {},
   "outputs": [
    {
     "data": {
      "text/plain": [
       "(-0.05, 1.05, -0.1, 2.1)"
      ]
     },
     "execution_count": 63,
     "metadata": {},
     "output_type": "execute_result"
    },
    {
     "data": {
      "image/png": "[encoded data removed]",
      "text/plain": [
       "<Figure size 432x288 with 1 Axes>"
      ]
     },
     "metadata": {
      "needs_background": "light"
     },
     "output_type": "display_data"
    }
   ],
   "source": [
    "pts = np.array([(0,0), (1,0), (1,2), (0.5, 0.5), (0,2), (0,0)])\n",
    "x = pts[:, 0]\n",
    "y = pts[:, 1]\n",
    "fig, ax = plt.subplots()\n",
    "ax.fill(x, y, facecolor=\"black\", linewidth=5)\n",
    "ax.axis(\"equal\")"
   ]
  },
  {
   "cell_type": "code",
   "execution_count": 111,
   "metadata": {},
   "outputs": [
    {
     "data": {
      "text/plain": [
       "<matplotlib.image.AxesImage at 0x16f54848d90>"
      ]
     },
     "execution_count": 111,
     "metadata": {},
     "output_type": "execute_result"
    },
    {
     "data": {
      "image/png": "[encoded data removed]",
      "text/plain": [
       "<Figure size 36x72 with 1 Axes>"
      ]
     },
     "metadata": {
      "needs_background": "light"
     },
     "output_type": "display_data"
    }
   ],
   "source": [
    "def strip_plt(xdim, ydim):\n",
    "    \"\"\"Creates normalized x dimension of fig, ax to dimension of 1.\"\"\"\n",
    "    fig = plt.figure()\n",
    "    ax = plt.Axes(fig, [0, 0, 1, 1])  # remove edges\n",
    "    ax.margins(0)\n",
    "    ax.axis(False)\n",
    "    ax.axis(\"equal\")\n",
    "    fig.set_size_inches(xdim/ydim, 1, forward=False)\n",
    "    fig.add_axes(ax)\n",
    "    return fig, ax \n",
    "\n",
    "def poly2img(poly_np):\n",
    "    \"\"\"Converts poly_np to img.\"\"\"\n",
    "    x, y = poly_np[0], poly_np[1]\n",
    "    xdim, ydim = np.max(x) - np.min(x), np.max(y) - np.min(y) \n",
    "    fig, ax = strip_plt(xdim, ydim) \n",
    "    \n",
    "    # Suppress output\n",
    "    plt.close(fig)\n",
    "\n",
    "    ax.fill(x, y, facecolor=\"black\", linewidth=0)\n",
    "    fig.canvas.draw()\n",
    "    img = np.frombuffer(fig.canvas.tostring_rgb(), dtype=np.uint8)\n",
    "\n",
    "    # Reconstruct matrix as img\n",
    "    img = img.reshape(fig.canvas.get_width_height()[::-1] + (3,))\n",
    "    return img[:, :, 0]  # don't need rgb for bw\n",
    "\n",
    "img = poly2img(pts.T)\n",
    "\n",
    "# TEMP\n",
    "fig2, ax2 = strip_plt(*img.shape[::-1])\n",
    "ax2.imshow(img, cmap='gray')\n"
   ]
  }
 ],
 "metadata": {
  "interpreter": {
   "hash": "d6a669fa4023ae2b271cee94ea7dc3f46c6f4326b957ce106e12dc5ae8b709f3"
  },
  "kernelspec": {
   "display_name": "Python 3.9.7 64-bit ('ml': conda)",
   "language": "python",
   "name": "python3"
  },
  "language_info": {
   "codemirror_mode": {
    "name": "ipython",
    "version": 3
   },
   "file_extension": ".py",
   "mimetype": "text/x-python",
   "name": "python",
   "nbconvert_exporter": "python",
   "pygments_lexer": "ipython3",
   "version": "3.9.7"
  },
  "orig_nbformat": 4
 },
 "nbformat": 4,
 "nbformat_minor": 2
}
