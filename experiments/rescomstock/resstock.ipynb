{
 "cells": [
  {
   "cell_type": "code",
   "execution_count": 1,
   "metadata": {},
   "outputs": [],
   "source": [
    "import os, sys \n",
    "import pandas as pd \n",
    "import numpy as np\n",
    "from pprint import pprint as pp  "
   ]
  },
  {
   "cell_type": "code",
   "execution_count": 2,
   "metadata": {},
   "outputs": [],
   "source": [
    "output_dir = r\"C:\\Users\\admin\\master\\buildstockbatch\\outputs\\parquet\\baseline\"\n",
    "output_fname = r\"results_up00.parquet\"\n",
    "output_fpath = os.path.join(output_dir, output_fname)\n",
    "\n",
    "# df = pd.read_parquet(output_fpath)\n",
    "# df\n"
   ]
  },
  {
   "cell_type": "code",
   "execution_count": null,
   "metadata": {},
   "outputs": [],
   "source": []
  }
 ],
 "metadata": {
  "interpreter": {
   "hash": "d6a669fa4023ae2b271cee94ea7dc3f46c6f4326b957ce106e12dc5ae8b709f3"
  },
  "kernelspec": {
   "display_name": "Python 3.9.7 64-bit ('ml': conda)",
   "language": "python",
   "name": "python3"
  },
  "language_info": {
   "codemirror_mode": {
    "name": "ipython",
    "version": 3
   },
   "file_extension": ".py",
   "mimetype": "text/x-python",
   "name": "python",
   "nbconvert_exporter": "python",
   "pygments_lexer": "ipython3",
   "version": "3.9.7"
  },
  "orig_nbformat": 4
 },
 "nbformat": 4,
 "nbformat_minor": 2
}
